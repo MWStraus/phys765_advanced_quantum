{
 "cells": [
  {
   "cell_type": "code",
   "execution_count": 1,
   "metadata": {},
   "outputs": [],
   "source": [
    "import numpy as _np\n",
    "import spinmob as _s\n",
    "import matplotlib.pyplot as _plt\n",
    "import os as _os\n",
    "from scipy.optimize import curve_fit"
   ]
  },
  {
   "cell_type": "code",
   "execution_count": 2,
   "metadata": {},
   "outputs": [
    {
     "name": "stdout",
     "output_type": "stream",
     "text": [
      "['beta_0.75_parallel(1).csv', 'beta_0.75_parallel.csv', 'beta_0.775_parallel(1).csv', 'beta_0.775_parallel.csv', 'beta_0.825_parallel(1).csv', 'beta_0.825_parallel.csv', 'beta_0.85_parallel(1).csv', 'beta_0.85_parallel.csv', 'beta_0.875_parallel(1).csv', 'beta_0.875_parallel.csv', 'beta_0.8_parallel(1).csv', 'beta_0.8_parallel.csv', 'beta_0.925_parallel(1).csv', 'beta_0.925_parallel.csv', 'beta_0.95_parallel(1).csv', 'beta_0.95_parallel.csv', 'beta_0.975_parallel(1).csv', 'beta_0.975_parallel.csv', 'beta_0.9_parallel(1).csv', 'beta_0.9_parallel.csv', 'beta_1.025_parallel(1).csv', 'beta_1.025_parallel.csv', 'beta_1.05_parallel(1).csv', 'beta_1.05_parallel.csv', 'beta_1.075_parallel(1).csv', 'beta_1.075_parallel.csv', 'beta_1.0_parallel(1).csv', 'beta_1.0_parallel.csv', 'beta_1.1_parallel(1).csv', 'beta_1.1_parallel.csv']\n",
      "[0.75, 0.75, 0.775, 0.775, 0.825, 0.825, 0.85, 0.85, 0.875, 0.875, 0.8, 0.8, 0.925, 0.925, 0.95, 0.95, 0.975, 0.975, 0.9, 0.9, 1.025, 1.025, 1.05, 1.05, 1.075, 1.075, 1.0, 1.0, 1.1, 1.1]\n"
     ]
    }
   ],
   "source": [
    "data_file_names = []\n",
    "betas = []\n",
    "beta_start = \"beta_\"\n",
    "beta_end = \"_par\"\n",
    "for name in _os.listdir(_os.getcwd()):\n",
    "    if name.find(\"beta\")>=0:\n",
    "        data_file_names.append(name)\n",
    "        betas.append(float(name[name.find(beta_start)+len(beta_start):name.find(beta_end)]))\n",
    "print(data_file_names)\n",
    "print(betas)\n"
   ]
  },
  {
   "cell_type": "code",
   "execution_count": 3,
   "metadata": {},
   "outputs": [],
   "source": [
    "data_boxes = _s.data.load_multiple(paths = data_file_names)"
   ]
  },
  {
   "cell_type": "code",
   "execution_count": 4,
   "metadata": {},
   "outputs": [
    {
     "data": {
      "text/plain": [
       "30"
      ]
     },
     "execution_count": 4,
     "metadata": {},
     "output_type": "execute_result"
    }
   ],
   "source": [
    "len(data_boxes)"
   ]
  },
  {
   "cell_type": "code",
   "execution_count": 5,
   "metadata": {},
   "outputs": [],
   "source": [
    "def exp_decay(x, gamma, amp):\n",
    "    return amp*_np.exp(-x/gamma)\n",
    "\n",
    "def correlation(data, data_average):\n",
    "    data_correlations = []\n",
    "    correlation_distance = _np.array(range(len(data)-1))+1\n",
    "    for distance in correlation_distance:\n",
    "        correlations = data[:-distance]*data[distance::]-data_average**2\n",
    "        data_correlations.append(_np.average(correlations))\n",
    "    return data_correlations, correlation_distance\n",
    "\n",
    "def fit_exp_decay(data, distacnes, p0):\n",
    "    popt, cov = curve_fit(exp_decay, distacnes[:2000], data[:2000], p0=p0)\n",
    "    return [popt, cov]\n",
    "\n",
    "def plot_exp_decay_fit(correlation, distances, popt, ep_str, n_or_e):\n",
    "    _plt.plot(distances, correlation, label=\"data\")\n",
    "    _plt.axhline(0, linestyle=\"--\", color=\"grey\", alpha=0.5)\n",
    "    _plt.plot(distances[:2000], exp_decay(distances[:2000], *popt), label=\"fit\")\n",
    "    _plt.title(n_or_e+\" correlation for ε=\"+ep_str, size=35)\n",
    "    _plt.ylabel(r'$\\tilde{e_n}\\tilde{e}_{n+d} - \\langle \\tilde{e}\\rangle^2$', size=35)\n",
    "    _plt.xlabel(\"d\", size=35)\n",
    "    _plt.tick_params(axis=\"both\", labelsize=30)\n",
    "    _plt.legend(fontsize=30)\n",
    "    _plt.show()\n",
    "\n",
    "def choose_unc(es, es_popt, ns, ns_popt):\n",
    "    es_uncs = []\n",
    "    ns_uncs = []\n",
    "    num_trials = len(es)\n",
    "    for position, block in enumerate(block_sizes):\n",
    "        blocked_es = _np.reshape(es, (int(num_trials/block), block))\n",
    "        block_avg_es = _np.average(blocked_es, axis=1)\n",
    "        unc = _np.std(block_avg_es)/_np.sqrt(len(block_avg_es))\n",
    "        es_uncs.append(unc)\n",
    "\n",
    "        blocked_ns = _np.reshape(ns, (int(num_trials/block), block))\n",
    "        block_avg_ns = _np.average(blocked_ns, axis=1)\n",
    "        unc = _np.std(block_avg_ns)/_np.sqrt(len(block_avg_ns))\n",
    "        ns_uncs.append(unc)\n",
    "\n",
    "        print(\"E Unc: \", es_uncs[-1], \"E correlation/unc: \", _np.sqrt(exp_decay(block, *es_popt))/unc)\n",
    "        print(\"n Unc: \", ns_uncs[-1], \"n correlation/unc: \", _np.sqrt(exp_decay(block, *ns_popt))/unc)\n",
    "        print(\" num blocks: \", len(block_avg_es), \" blocksize: \", block, \"choice number\", position)\n",
    "        print(\"\\r\\r\\r\")\n",
    "    which_block = int(input(\"Which block_size?\"))\n",
    "    return [block_sizes[which_block], es_uncs[which_block], ns_uncs[which_block]]\n"
   ]
  },
  {
   "cell_type": "code",
   "execution_count": 6,
   "metadata": {},
   "outputs": [
    {
     "data": {
      "text/plain": [
       "array([ 11.96853298, 968.08069006])"
      ]
     },
     "execution_count": 6,
     "metadata": {},
     "output_type": "execute_result"
    }
   ],
   "source": [
    "chis0 = data_boxes[12][0][1000:]\n",
    "chis0_average = _np.average(chis0)\n",
    "chis0_correlation, chis0_distances = correlation(chis0, chis0_average)\n",
    "p0 = [200, 30]\n",
    "chis0_popt, chis0_cov = fit_exp_decay(chis0_correlation, chis0_distances, p0)\n",
    "p0 = [50, 800]\n",
    "chis0_popt, chis0_cov = fit_exp_decay(chis0_correlation, chis0_distances, p0)\n",
    "plot_exp_decay_fit(chis0_correlation, chis0_distances, chis0_popt, \"\", r\"$\\chi$\")\n",
    "chis0_popt"
   ]
  },
  {
   "cell_type": "code",
   "execution_count": 7,
   "metadata": {},
   "outputs": [
    {
     "data": {
      "text/plain": [
       "0.004307919698703232"
      ]
     },
     "execution_count": 7,
     "metadata": {},
     "output_type": "execute_result"
    }
   ],
   "source": [
    "block_size = 125\n",
    "exp_decay(block_size, *chis0_popt)/chis0_average*100"
   ]
  },
  {
   "cell_type": "code",
   "execution_count": 8,
   "metadata": {},
   "outputs": [],
   "source": [
    "def calcualte_windings_avg(data_box):\n",
    "    return _np.average(data_box[2])\n",
    "def calcualte_windings_unc(data_box):\n",
    "    return _np.std(data_box[2])/_np.sqrt(len(data_box[2])/block_size)\n",
    "\n",
    "windings_avg = [calcualte_windings_avg(data_box) for data_box in data_boxes]\n",
    "windings_unc = [calcualte_windings_unc(data_box) for data_box in data_boxes]"
   ]
  },
  {
   "cell_type": "code",
   "execution_count": 9,
   "metadata": {},
   "outputs": [
    {
     "name": "stdout",
     "output_type": "stream",
     "text": [
      "[0.75  0.775 0.8   0.825 0.85  0.875 0.9   0.925 0.95  0.975 1.    1.025\n",
      " 1.05  1.075 1.1  ]\n",
      "[4.12000000e-03 1.91200632e-03 8.38720608e-03 1.78155810e-02\n",
      " 5.42701118e-02 1.11668225e-01 3.06592832e-01 5.16909847e-01\n",
      " 9.35776680e-01 1.20703205e+00 1.53867416e+00 1.78652296e+00\n",
      " 2.01751739e+00 2.25667793e+00 2.47930020e+00]\n",
      "[0.00226468 0.00180541 0.00314657 0.00474025 0.00857137 0.01291878\n",
      " 0.0235927  0.03281468 0.05004449 0.06294235 0.07618843 0.08969996\n",
      " 0.10117627 0.11074738 0.12285391]\n"
     ]
    }
   ],
   "source": [
    "betas_final = []\n",
    "chis = []\n",
    "chis_unc = []\n",
    "N=20\n",
    "for beta in set(betas):\n",
    "    betas_final.append(beta)\n",
    "    indexes = _np.nonzero(_np.array(betas)==beta)\n",
    "    avgs = _np.array(windings_avg)[indexes]\n",
    "    uncs = _np.array(windings_unc)[indexes]\n",
    "    avgs = avgs[_np.nonzero(uncs)]\n",
    "    uncs = uncs[_np.nonzero(uncs)]\n",
    "    weights = uncs**-2\n",
    "    chis.append(_np.sum(weights*avgs)/_np.sum(weights))\n",
    "    chis_unc.append(1/_np.sqrt(_np.sum(weights)))\n",
    "sort_indexes = _np.argsort(betas_final)\n",
    "betas_final = _np.array(betas_final)[sort_indexes]\n",
    "chis = _np.array(chis)[sort_indexes]\n",
    "chis_unc = _np.array(chis_unc)[sort_indexes]\n",
    "print(betas_final)\n",
    "print(chis)\n",
    "print(chis_unc)"
   ]
  },
  {
   "cell_type": "code",
   "execution_count": 10,
   "metadata": {},
   "outputs": [
    {
     "name": "stderr",
     "output_type": "stream",
     "text": [
      "No handles with labels found to put in legend.\n"
     ]
    },
    {
     "data": {
      "text/plain": [
       "<matplotlib.legend.Legend at 0x2bbafd65e10>"
      ]
     },
     "execution_count": 10,
     "metadata": {},
     "output_type": "execute_result"
    }
   ],
   "source": [
    "_plt.errorbar(betas_final, chis, yerr=chis_unc, marker=\".\", color=\"blue\", zorder=1)\n",
    "_plt.title(r\"$\\chi_\\omega \\: vs \\: \\beta \\: at \\: N=20, \\: \\epsilon=0.01$\", size=18)\n",
    "_plt.xlabel(r\"$\\beta$\", size=18)\n",
    "_plt.ylabel(r\"$\\chi_\\omega$\", size=18)\n",
    "_plt.legend()"
   ]
  },
  {
   "cell_type": "code",
   "execution_count": 11,
   "metadata": {},
   "outputs": [
    {
     "data": {
      "text/plain": [
       "array([54.96799598, 94.42488076, 37.516294  , 26.60732319, 15.79390449,\n",
       "       11.56889627,  7.69512487,  6.34824015,  5.34790965,  5.2146382 ,\n",
       "        4.95156347,  5.02092424,  5.01488951,  4.90754014,  4.95518506])"
      ]
     },
     "execution_count": 11,
     "metadata": {},
     "output_type": "execute_result"
    }
   ],
   "source": [
    "chis_unc/chis*100"
   ]
  },
  {
   "cell_type": "code",
   "execution_count": 12,
   "metadata": {},
   "outputs": [
    {
     "name": "stdout",
     "output_type": "stream",
     "text": [
      "0.75 0.00412 0.002264681434551006\n",
      "0.775 0.001912006321490562 0.0018054096892704218\n",
      "0.8 0.00838720608052631 0.0031465688919556007\n",
      "0.825 0.017815580962482924 0.004740249204437283\n",
      "0.85 0.05427011183033771 0.008571369630605234\n",
      "0.875 0.11166822459615378 0.012918781067399672\n",
      "0.9 0.30659283188035263 0.023592701265924724\n",
      "0.925 0.5169098470292232 0.03281467842691488\n",
      "0.95 0.9357766803016367 0.05004449136966139\n",
      "0.975 1.2070320504675711 0.06294235438385021\n",
      "1.0 1.5386741561593251 0.07618842747371263\n",
      "1.025 1.7865229573588368 0.08969996425442045\n",
      "1.05 2.0175173894353673 0.10117626794278058\n",
      "1.075 2.256677930311366 0.1107473751545197\n",
      "1.1 2.4793002040418837 0.1228539133345776\n"
     ]
    }
   ],
   "source": [
    "for jj in range(len(chis)):\n",
    "    print(betas_final[jj], chis[jj], chis_unc[jj])"
   ]
  },
  {
   "cell_type": "code",
   "execution_count": 24,
   "metadata": {},
   "outputs": [
    {
     "name": "stdout",
     "output_type": "stream",
     "text": [
      "100000\n",
      "5000\n",
      "100000\n",
      "5000\n",
      "100000\n",
      "5000\n",
      "100000\n",
      "5000\n",
      "100000\n",
      "5000\n",
      "100000\n",
      "5000\n",
      "100000\n",
      "5000\n",
      "100000\n",
      "5000\n",
      "100000\n",
      "5000\n",
      "100000\n",
      "5000\n",
      "100000\n",
      "5000\n",
      "100000\n",
      "5000\n",
      "100000\n",
      "5000\n",
      "100000\n",
      "5000\n",
      "100000\n",
      "5000\n"
     ]
    }
   ],
   "source": [
    "for data_box in data_boxes:\n",
    "    print(len(data_box[0]))"
   ]
  },
  {
   "cell_type": "code",
   "execution_count": null,
   "metadata": {},
   "outputs": [],
   "source": []
  }
 ],
 "metadata": {
  "kernelspec": {
   "display_name": "Python 3",
   "language": "python",
   "name": "python3"
  },
  "language_info": {
   "codemirror_mode": {
    "name": "ipython",
    "version": 3
   },
   "file_extension": ".py",
   "mimetype": "text/x-python",
   "name": "python",
   "nbconvert_exporter": "python",
   "pygments_lexer": "ipython3",
   "version": "3.6.10"
  },
  "vscode": {
   "interpreter": {
    "hash": "42a939a256227b0e36c4deaa5bc479c5611cecdcf96637c7dc230fbf2d532ddd"
   }
  }
 },
 "nbformat": 4,
 "nbformat_minor": 2
}
