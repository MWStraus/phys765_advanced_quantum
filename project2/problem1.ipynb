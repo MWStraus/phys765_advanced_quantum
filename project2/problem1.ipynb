{
 "cells": [
  {
   "cell_type": "code",
   "execution_count": 18,
   "metadata": {},
   "outputs": [],
   "source": [
    "import numpy as np\n",
    "import matplotlib.pyplot as plt\n",
    "import import_ipynb\n",
    "from worm_simulation import Worm_algorithm"
   ]
  },
  {
   "cell_type": "code",
   "execution_count": 24,
   "metadata": {},
   "outputs": [
    {
     "ename": "KeyboardInterrupt",
     "evalue": "",
     "output_type": "error",
     "traceback": [
      "\u001b[1;31m---------------------------------------------------------------------------\u001b[0m",
      "\u001b[1;31mKeyboardInterrupt\u001b[0m                         Traceback (most recent call last)",
      "\u001b[1;32mz:\\users\\Jiyong\\Simulation\\Coursework\\Advanced quantum mechanics\\phys765_advanced_quantum\\project2\\problem1.ipynb Cell 2\u001b[0m in \u001b[0;36m<cell line: 42>\u001b[1;34m()\u001b[0m\n\u001b[0;32m     <a href='vscode-notebook-cell:/z%3A/users/Jiyong/Simulation/Coursework/Advanced%20quantum%20mechanics/phys765_advanced_quantum/project2/problem1.ipynb#W1sZmlsZQ%3D%3D?line=49'>50</a>\u001b[0m n_Monte_Carlo\u001b[39m.\u001b[39mappend(num_particles)\n\u001b[0;32m     <a href='vscode-notebook-cell:/z%3A/users/Jiyong/Simulation/Coursework/Advanced%20quantum%20mechanics/phys765_advanced_quantum/project2/problem1.ipynb#W1sZmlsZQ%3D%3D?line=51'>52</a>\u001b[0m old_grid \u001b[39m=\u001b[39m worm_algorithm\u001b[39m.\u001b[39mget_pathed_grid()\n\u001b[1;32m---> <a href='vscode-notebook-cell:/z%3A/users/Jiyong/Simulation/Coursework/Advanced%20quantum%20mechanics/phys765_advanced_quantum/project2/problem1.ipynb#W1sZmlsZQ%3D%3D?line=52'>53</a>\u001b[0m new_grid \u001b[39m=\u001b[39m worm_algorithm\u001b[39m.\u001b[39;49mupdate_grid(old_grid)\n\u001b[0;32m     <a href='vscode-notebook-cell:/z%3A/users/Jiyong/Simulation/Coursework/Advanced%20quantum%20mechanics/phys765_advanced_quantum/project2/problem1.ipynb#W1sZmlsZQ%3D%3D?line=53'>54</a>\u001b[0m worm_algorithm\u001b[39m.\u001b[39mset_pathed_grid(new_grid)\n\u001b[0;32m     <a href='vscode-notebook-cell:/z%3A/users/Jiyong/Simulation/Coursework/Advanced%20quantum%20mechanics/phys765_advanced_quantum/project2/problem1.ipynb#W1sZmlsZQ%3D%3D?line=55'>56</a>\u001b[0m \u001b[39m#print('-----------------' + str(counter) + ' New grid created----------------------')\u001b[39;00m\n",
      "File \u001b[1;32m<string>:249\u001b[0m, in \u001b[0;36mupdate_grid\u001b[1;34m(self, pathed_grid)\u001b[0m\n",
      "\u001b[1;31mKeyboardInterrupt\u001b[0m: "
     ]
    }
   ],
   "source": [
    "################################################### Block function #####################################################\n",
    "def block(array, N):\n",
    "    # Device the given array into blocks with block size N\n",
    "    \n",
    "    l = int(len(array) / N)\n",
    "    \n",
    "    blocked_array = np.zeros([l, N])\n",
    "    \n",
    "    for i in range(l):\n",
    "        block_start = i * N\n",
    "        block_end = block_start + N\n",
    "        \n",
    "        blocked_array[i] = array[block_start: block_end]\n",
    "        \n",
    "    return blocked_array\n",
    "\n",
    "def get_error(blocked_array):\n",
    "    l = len(blocked_array)\n",
    "    average_each_block = []\n",
    "    \n",
    "    for i in range(l):\n",
    "        average_each_block.append(np.average(blocked_array[i]))\n",
    "\n",
    "    return np.std(average_each_block) / np.sqrt(l)\n",
    "\n",
    "\n",
    "################################################### Simulation #####################################################\n",
    "\n",
    "### Parameter Setting ###\n",
    "[N, epsilon, beta, dimension] = [4, 0.01, 100, 3]\n",
    "\n",
    "N_mu = 10\n",
    "mu_array = np.linspace(0, 0.5, N_mu)\n",
    "\n",
    "num_trials = 500 # Monte-Carlo try number\n",
    "block_size = 50\n",
    "\n",
    "n_array = [] # saves number of particle result for each mu\n",
    "n_error_array = [] # saves error result for each mu\n",
    "\n",
    "### Get the number of particles varying the mu ###\n",
    "for mu in mu_array:\n",
    "    parameters = [N, mu, epsilon, beta, dimension]\n",
    "    worm_algorithm = Worm_algorithm(parameters) # Initialization\n",
    "    n_Monte_Carlo = [] # Saves the number of particle result of each Monte-Carlo try\n",
    "    \n",
    "    # Monte-Carlo simulation part\n",
    "    for counter in range(num_trials):\n",
    "        num_particles, e_tilda, weight = worm_algorithm.measure_observables()\n",
    "        n_Monte_Carlo.append(num_particles)\n",
    "\n",
    "        old_grid = worm_algorithm.get_pathed_grid()\n",
    "        new_grid = worm_algorithm.update_grid(old_grid)\n",
    "        worm_algorithm.set_pathed_grid(new_grid)\n",
    "        \n",
    "        #print('-----------------' + str(counter) + ' New grid created----------------------')\n",
    "        #if (((counter + 1) % 500) == 0): print('-----------------' + str(counter + 1) + ' New grid created----------------------')\n",
    "    \n",
    "    n_array.append(np.average(n_Monte_Carlo))\n",
    "    n_error_array.append(get_error(block(n_Monte_Carlo, block_size)))\n",
    "    \n",
    "    print('-----------------------mu = %.2f done-----------------------------' %mu)\n",
    "    \n",
    "    "
   ]
  },
  {
   "cell_type": "code",
   "execution_count": 17,
   "metadata": {},
   "outputs": [
    {
     "name": "stdout",
     "output_type": "stream",
     "text": [
      "[0.5, 0.5]\n"
     ]
    },
    {
     "data": {
      "image/png": "[encoded data removed]",
      "text/plain": [
       "<Figure size 432x288 with 1 Axes>"
      ]
     },
     "metadata": {},
     "output_type": "display_data"
    }
   ],
   "source": [
    "plt.rcParams['figure.facecolor'] = 'white'\n",
    "#plt.plot(mu_array, n_array)\n",
    "\n",
    "plt.errorbar(mu_array, n_array, yerr = n_error_array, marker = 'o', markersize = 6, color = 'blue', linestyle = 'none', linewidth = 1, capsize = 3)\n",
    "\n",
    "print(n_error_array)\n"
   ]
  }
 ],
 "metadata": {
  "kernelspec": {
   "display_name": "Python 3.9.10 ('base')",
   "language": "python",
   "name": "python3"
  },
  "language_info": {
   "codemirror_mode": {
    "name": "ipython",
    "version": 3
   },
   "file_extension": ".py",
   "mimetype": "text/x-python",
   "name": "python",
   "nbconvert_exporter": "python",
   "pygments_lexer": "ipython3",
   "version": "3.9.10"
  },
  "orig_nbformat": 4,
  "vscode": {
   "interpreter": {
    "hash": "0b02a0ef022d45bcc180fff1def0af5074bd7f4df6b707b70d1d96a855118f8f"
   }
  }
 },
 "nbformat": 4,
 "nbformat_minor": 2
}
