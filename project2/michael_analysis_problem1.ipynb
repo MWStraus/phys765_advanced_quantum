{
 "cells": [
  {
   "cell_type": "code",
   "execution_count": 43,
   "metadata": {},
   "outputs": [],
   "source": [
    "import numpy as _np\n",
    "import spinmob as _s\n",
    "import matplotlib.pyplot as _plt\n",
    "import os as _os\n",
    "from scipy.optimize import curve_fit"
   ]
  },
  {
   "cell_type": "code",
   "execution_count": 95,
   "metadata": {},
   "outputs": [],
   "source": [
    "data_box = _s.data.load(path = \"problem1data.csv\")\n",
    "data_box2 = _s.data.load(path = \"problem1data_zoomed.csv\")\n"
   ]
  },
  {
   "cell_type": "code",
   "execution_count": 45,
   "metadata": {},
   "outputs": [],
   "source": [
    "def exp_decay(x, gamma, amp):\n",
    "    return amp*_np.exp(-x/gamma)\n",
    "\n",
    "def correlation(data, data_average):\n",
    "    data_correlations = []\n",
    "    correlation_distance = _np.array(range(len(data)-1))+1\n",
    "    for distance in correlation_distance:\n",
    "        correlations = data[:-distance]*data[distance::]-data_average**2\n",
    "        data_correlations.append(_np.average(correlations))\n",
    "    return data_correlations, correlation_distance\n",
    "\n",
    "def fit_exp_decay(data, distacnes, p0):\n",
    "    popt, cov = curve_fit(exp_decay, distacnes[:2000], data[:2000], p0=p0)\n",
    "    return [popt, cov]\n",
    "\n",
    "def plot_exp_decay_fit(correlation, distances, popt, ep_str, n_or_e):\n",
    "    _plt.plot(distances, correlation, label=\"data\")\n",
    "    _plt.axhline(0, linestyle=\"--\", color=\"grey\", alpha=0.5)\n",
    "    _plt.plot(distances[:2000], exp_decay(distances[:2000], *popt), label=\"fit\")\n",
    "    _plt.title(n_or_e+\" correlation for ε=\"+ep_str, size=35)\n",
    "    _plt.ylabel(r'$\\tilde{e_n}\\tilde{e}_{n+d} - \\langle \\tilde{e}\\rangle^2$', size=35)\n",
    "    _plt.xlabel(\"d\", size=35)\n",
    "    _plt.tick_params(axis=\"both\", labelsize=30)\n",
    "    _plt.legend(fontsize=30)\n",
    "    _plt.show()\n",
    "\n",
    "def choose_unc(es, es_popt, ns, ns_popt):\n",
    "    es_uncs = []\n",
    "    ns_uncs = []\n",
    "    num_trials = len(es)\n",
    "    for position, block in enumerate(block_sizes):\n",
    "        blocked_es = _np.reshape(es, (int(num_trials/block), block))\n",
    "        block_avg_es = _np.average(blocked_es, axis=1)\n",
    "        unc = _np.std(block_avg_es)/_np.sqrt(len(block_avg_es))\n",
    "        es_uncs.append(unc)\n",
    "\n",
    "        blocked_ns = _np.reshape(ns, (int(num_trials/block), block))\n",
    "        block_avg_ns = _np.average(blocked_ns, axis=1)\n",
    "        unc = _np.std(block_avg_ns)/_np.sqrt(len(block_avg_ns))\n",
    "        ns_uncs.append(unc)\n",
    "\n",
    "        print(\"E Unc: \", es_uncs[-1], \"E correlation/unc: \", _np.sqrt(exp_decay(block, *es_popt))/unc)\n",
    "        print(\"n Unc: \", ns_uncs[-1], \"n correlation/unc: \", _np.sqrt(exp_decay(block, *ns_popt))/unc)\n",
    "        print(\" num blocks: \", len(block_avg_es), \" blocksize: \", block, \"choice number\", position)\n",
    "        print(\"\\r\\r\\r\")\n",
    "    which_block = int(input(\"Which block_size?\"))\n",
    "    return [block_sizes[which_block], es_uncs[which_block], ns_uncs[which_block]]\n"
   ]
  },
  {
   "cell_type": "code",
   "execution_count": 96,
   "metadata": {},
   "outputs": [],
   "source": [
    "mus, ns, es, ws = _np.array([data for data in data_box])\n",
    "mus2, ns2, es2, ws2 = _np.array([data for data in data_box2])\n",
    "mus = _np.append(mus, mus2)\n",
    "ns = _np.append(ns, ns2)\n",
    "es = _np.append(es, es2)\n",
    "ws = _np.append(ws, ws2)"
   ]
  },
  {
   "cell_type": "code",
   "execution_count": 108,
   "metadata": {},
   "outputs": [],
   "source": [
    "indexes = _np.nonzero(mus==list(set(mus))[10])\n",
    "ns0 = ns[indexes]"
   ]
  },
  {
   "cell_type": "code",
   "execution_count": 109,
   "metadata": {},
   "outputs": [
    {
     "data": {
      "text/plain": [
       "array([3.63435139, 0.19710816])"
      ]
     },
     "execution_count": 109,
     "metadata": {},
     "output_type": "execute_result"
    }
   ],
   "source": [
    "indexes = _np.nonzero(mus==list(set(mus))[2])\n",
    "ns0 = ns[indexes]\n",
    "ns0_average = _np.average(ns0)\n",
    "ns0_correlation, ns0_distances = correlation(ns0, ns0_average)\n",
    "p0 = [200, 30]\n",
    "ns0_popt, ns0_cov = fit_exp_decay(ns0_correlation, ns0_distances, p0)\n",
    "p0 = [50, 800]\n",
    "ns0_popt, ns0_cov = fit_exp_decay(ns0_correlation, ns0_distances, p0)\n",
    "plot_exp_decay_fit(ns0_correlation, ns0_distances, ns0_popt, \"\", r\"$n$\")\n",
    "ns0_popt"
   ]
  },
  {
   "cell_type": "code",
   "execution_count": 116,
   "metadata": {},
   "outputs": [
    {
     "data": {
      "text/plain": [
       "0.06346170557600839"
      ]
     },
     "execution_count": 116,
     "metadata": {},
     "output_type": "execute_result"
    }
   ],
   "source": [
    "block_size = 20\n",
    "equilibriation_time = 25\n",
    "exp_decay(block_size, *ns0_popt)/ns0_average*100"
   ]
  },
  {
   "cell_type": "code",
   "execution_count": 100,
   "metadata": {},
   "outputs": [],
   "source": [
    "mus_final = []\n",
    "ns_final = []\n",
    "ns_unc_final = []\n",
    "N=20\n",
    "for mu in set(mus):\n",
    "    mus_final.append(mu)\n",
    "    indexes = _np.nonzero(mus==mu)\n",
    "    ns_temp = ns[indexes][equilibriation_time:]\n",
    "    ns_final.append(_np.average(ns_temp))\n",
    "    ns_unc_final.append(_np.std(ns_temp) / _np.sqrt(len(ns_temp)/block_size))\n",
    "sort_indexes = _np.argsort(mus_final)\n",
    "mus_final = _np.array(mus_final)[sort_indexes]\n",
    "ns_final = _np.array(ns_final)[sort_indexes]\n",
    "ns_unc_final = _np.array(ns_unc_final)[sort_indexes]"
   ]
  },
  {
   "cell_type": "code",
   "execution_count": 103,
   "metadata": {},
   "outputs": [
    {
     "data": {
      "text/plain": [
       "<matplotlib.legend.Legend at 0x1e5145619e8>"
      ]
     },
     "execution_count": 103,
     "metadata": {},
     "output_type": "execute_result"
    }
   ],
   "source": [
    "_plt.errorbar(mus_final, ns_final, yerr=ns_unc_final, marker=\".\", color=\"blue\", zorder=1)\n",
    "_plt.errorbar(mus_final, ns_final, yerr=ns_unc_final, marker=\"\", linestyle=\"\", color=\"red\", zorder=2, label=\"error bar\")\n",
    "_plt.title(r\"$n \\: vs \\: \\mu \\: at \\: N=4, \\: \\beta=100, \\epsilon=0.01$\", size=18)\n",
    "_plt.xlabel(r\"$\\mu$\", size=18)\n",
    "_plt.ylabel(r\"$n$\", size=18)\n",
    "_plt.legend()"
   ]
  },
  {
   "cell_type": "code",
   "execution_count": 114,
   "metadata": {},
   "outputs": [
    {
     "name": "stdout",
     "output_type": "stream",
     "text": [
      "0.025252525252525256 0.925371142618849 0.006788077220026601\n",
      "0.05050505050505051 0.9939949958298582 0.001995648994470182\n",
      "0.13131313131313133 1.1213344453711427 0.008434109931325965\n",
      "0.15656565656565657 1.6399332777314428 0.012399216467034796\n",
      "0.20202020202020204 1.9943619683069225 0.001934066537707664\n",
      "0.29292929292929293 2.2155462885738113 0.01062158521271363\n",
      "0.31818181818181823 2.777347789824854 0.010746241377304677\n",
      "0.3535353535353536 2.9916263552960802 0.0023537844924133495\n",
      "0.45 3.1706422018348626 0.009717389064647787\n",
      "0.47586206896551725 3.7362468723936613 0.011382717106652689\n"
     ]
    }
   ],
   "source": [
    "for jj in range(len(mus_final)):\n",
    "    if (jj+1)%20==0:\n",
    "        print(mus_final[jj], ns_final[jj], ns_unc_final[jj])"
   ]
  },
  {
   "cell_type": "code",
   "execution_count": 12,
   "metadata": {},
   "outputs": [
    {
     "name": "stdout",
     "output_type": "stream",
     "text": [
      "0.75 0.00412 0.002264681434551006\n",
      "0.775 0.001912006321490562 0.0018054096892704218\n",
      "0.8 0.00838720608052631 0.0031465688919556007\n",
      "0.825 0.017815580962482924 0.004740249204437283\n",
      "0.85 0.05427011183033771 0.008571369630605234\n",
      "0.875 0.11166822459615378 0.012918781067399672\n",
      "0.9 0.30659283188035263 0.023592701265924724\n",
      "0.925 0.5169098470292232 0.03281467842691488\n",
      "0.95 0.9357766803016367 0.05004449136966139\n",
      "0.975 1.2070320504675711 0.06294235438385021\n",
      "1.0 1.5386741561593251 0.07618842747371263\n",
      "1.025 1.7865229573588368 0.08969996425442045\n",
      "1.05 2.0175173894353673 0.10117626794278058\n",
      "1.075 2.256677930311366 0.1107473751545197\n",
      "1.1 2.4793002040418837 0.1228539133345776\n"
     ]
    }
   ],
   "source": [
    "for jj in range(len(chis)):\n",
    "    print(betas_final[jj], chis[jj], chis_unc[jj])"
   ]
  }
 ],
 "metadata": {
  "kernelspec": {
   "display_name": "Python 3",
   "language": "python",
   "name": "python3"
  },
  "language_info": {
   "codemirror_mode": {
    "name": "ipython",
    "version": 3
   },
   "file_extension": ".py",
   "mimetype": "text/x-python",
   "name": "python",
   "nbconvert_exporter": "python",
   "pygments_lexer": "ipython3",
   "version": "3.6.10"
  },
  "vscode": {
   "interpreter": {
    "hash": "42a939a256227b0e36c4deaa5bc479c5611cecdcf96637c7dc230fbf2d532ddd"
   }
  }
 },
 "nbformat": 4,
 "nbformat_minor": 2
}
