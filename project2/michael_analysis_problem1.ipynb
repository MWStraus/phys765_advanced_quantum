{
 "cells": [
  {
   "cell_type": "code",
   "execution_count": 1,
   "metadata": {},
   "outputs": [],
   "source": [
    "import numpy as _np\n",
    "import spinmob as _s\n",
    "import matplotlib.pyplot as _plt\n",
    "import os as _os\n",
    "from scipy.optimize import curve_fit"
   ]
  },
  {
   "cell_type": "code",
   "execution_count": 2,
   "metadata": {},
   "outputs": [],
   "source": [
    "data_box = _s.data.load(path = \"problem1data_small_test.csv\")\n"
   ]
  },
  {
   "cell_type": "code",
   "execution_count": 3,
   "metadata": {},
   "outputs": [],
   "source": [
    "def exp_decay(x, gamma, amp):\n",
    "    return amp*_np.exp(-x/gamma)\n",
    "\n",
    "def correlation(data, data_average):\n",
    "    data_correlations = []\n",
    "    correlation_distance = _np.array(range(len(data)-1))+1\n",
    "    for distance in correlation_distance:\n",
    "        correlations = data[:-distance]*data[distance::]-data_average**2\n",
    "        data_correlations.append(_np.average(correlations))\n",
    "    return data_correlations, correlation_distance\n",
    "\n",
    "def fit_exp_decay(data, distacnes, p0):\n",
    "    popt, cov = curve_fit(exp_decay, distacnes[:2000], data[:2000], p0=p0)\n",
    "    return [popt, cov]\n",
    "\n",
    "def plot_exp_decay_fit(correlation, distances, popt, ep_str, n_or_e):\n",
    "    _plt.plot(distances, correlation, label=\"data\")\n",
    "    _plt.axhline(0, linestyle=\"--\", color=\"grey\", alpha=0.5)\n",
    "    _plt.plot(distances[:2000], exp_decay(distances[:2000], *popt), label=\"fit\")\n",
    "    _plt.title(n_or_e+\" correlation for ε=\"+ep_str, size=35)\n",
    "    _plt.ylabel(r'$\\tilde{e_n}\\tilde{e}_{n+d} - \\langle \\tilde{e}\\rangle^2$', size=35)\n",
    "    _plt.xlabel(\"d\", size=35)\n",
    "    _plt.tick_params(axis=\"both\", labelsize=30)\n",
    "    _plt.legend(fontsize=30)\n",
    "    _plt.show()\n",
    "\n",
    "def choose_unc(es, es_popt, ns, ns_popt):\n",
    "    es_uncs = []\n",
    "    ns_uncs = []\n",
    "    num_trials = len(es)\n",
    "    for position, block in enumerate(block_sizes):\n",
    "        blocked_es = _np.reshape(es, (int(num_trials/block), block))\n",
    "        block_avg_es = _np.average(blocked_es, axis=1)\n",
    "        unc = _np.std(block_avg_es)/_np.sqrt(len(block_avg_es))\n",
    "        es_uncs.append(unc)\n",
    "\n",
    "        blocked_ns = _np.reshape(ns, (int(num_trials/block), block))\n",
    "        block_avg_ns = _np.average(blocked_ns, axis=1)\n",
    "        unc = _np.std(block_avg_ns)/_np.sqrt(len(block_avg_ns))\n",
    "        ns_uncs.append(unc)\n",
    "\n",
    "        print(\"E Unc: \", es_uncs[-1], \"E correlation/unc: \", _np.sqrt(exp_decay(block, *es_popt))/unc)\n",
    "        print(\"n Unc: \", ns_uncs[-1], \"n correlation/unc: \", _np.sqrt(exp_decay(block, *ns_popt))/unc)\n",
    "        print(\" num blocks: \", len(block_avg_es), \" blocksize: \", block, \"choice number\", position)\n",
    "        print(\"\\r\\r\\r\")\n",
    "    which_block = int(input(\"Which block_size?\"))\n",
    "    return [block_sizes[which_block], es_uncs[which_block], ns_uncs[which_block]]\n"
   ]
  },
  {
   "cell_type": "code",
   "execution_count": 11,
   "metadata": {},
   "outputs": [],
   "source": [
    "mus, ns, es, ws = _np.array([data for data in data_box])"
   ]
  },
  {
   "cell_type": "code",
   "execution_count": 35,
   "metadata": {},
   "outputs": [
    {
     "data": {
      "text/plain": [
       "[<matplotlib.lines.Line2D at 0x1e4f18f54e0>]"
      ]
     },
     "execution_count": 35,
     "metadata": {},
     "output_type": "execute_result"
    }
   ],
   "source": [
    "indexes = _np.nonzero(mus==list(set(mus))[0])\n",
    "ns0 = ns[indexes]\n",
    "_plt.plot(range(len(ns0)), ns0)"
   ]
  },
  {
   "cell_type": "code",
   "execution_count": 32,
   "metadata": {},
   "outputs": [
    {
     "data": {
      "text/plain": [
       "array([ 5.50276846e+08, -9.46381581e-01])"
      ]
     },
     "execution_count": 32,
     "metadata": {},
     "output_type": "execute_result"
    }
   ],
   "source": [
    "indexes = _np.nonzero(mus==list(set(mus))[2])\n",
    "ns0 = ns[indexes]\n",
    "ns0_average = _np.average(ns0)\n",
    "ns0_correlation, ns0_distances = correlation(ns0, ns0_average)\n",
    "p0 = [200, 30]\n",
    "ns0_popt, ns0_cov = fit_exp_decay(ns0_correlation, ns0_distances, p0)\n",
    "p0 = [50, 800]\n",
    "ns0_popt, ns0_cov = fit_exp_decay(ns0_correlation, ns0_distances, p0)\n",
    "plot_exp_decay_fit(ns0_correlation, ns0_distances, ns0_popt, \"\", r\"$n$\")\n",
    "ns0_popt"
   ]
  },
  {
   "cell_type": "code",
   "execution_count": 36,
   "metadata": {},
   "outputs": [
    {
     "data": {
      "text/plain": [
       "-24.328573136530103"
      ]
     },
     "execution_count": 36,
     "metadata": {},
     "output_type": "execute_result"
    }
   ],
   "source": [
    "block_size = 50\n",
    "equilibriation_time = 25\n",
    "exp_decay(block_size, *ns0_popt)/ns0_average*100"
   ]
  },
  {
   "cell_type": "code",
   "execution_count": 41,
   "metadata": {},
   "outputs": [
    {
     "name": "stdout",
     "output_type": "stream",
     "text": [
      "[0.   0.25 0.5 ]\n",
      "[0.50666667 2.         4.        ]\n",
      "[0.408212 0.       0.      ]\n"
     ]
    }
   ],
   "source": [
    "mus_final = []\n",
    "ns_final = []\n",
    "ns_unc_final = []\n",
    "N=20\n",
    "for mu in set(mus):\n",
    "    mus_final.append(mu)\n",
    "    indexes = _np.nonzero(mus==mu)\n",
    "    ns_temp = ns[indexes][equilibriation_time:]\n",
    "    ns_final.append(_np.average(ns_temp))\n",
    "    ns_unc_final.append(_np.std(ns_temp) / _np.sqrt(len(ns_temp)/block_size))\n",
    "sort_indexes = _np.argsort(mus_final)\n",
    "mus_final = _np.array(mus_final)[sort_indexes]\n",
    "ns_final = _np.array(ns_final)[sort_indexes]\n",
    "ns_unc_final = _np.array(ns_unc_final)[sort_indexes]\n",
    "print(mus_final)\n",
    "print(ns_final)\n",
    "print(ns_unc_final)"
   ]
  },
  {
   "cell_type": "code",
   "execution_count": 42,
   "metadata": {},
   "outputs": [
    {
     "name": "stderr",
     "output_type": "stream",
     "text": [
      "No handles with labels found to put in legend.\n"
     ]
    },
    {
     "data": {
      "text/plain": [
       "<matplotlib.legend.Legend at 0x1e4f4a657b8>"
      ]
     },
     "execution_count": 42,
     "metadata": {},
     "output_type": "execute_result"
    }
   ],
   "source": [
    "_plt.errorbar(mus_final, ns_final, yerr=ns_unc_final, marker=\".\", color=\"blue\", zorder=1)\n",
    "_plt.title(r\"$n \\: vs \\: \\mu \\: at \\: N=4, \\: \\beta=100, \\epsilon=0.01$\", size=18)\n",
    "_plt.xlabel(r\"$\\beta$\", size=18)\n",
    "_plt.ylabel(r\"$n$\", size=18)\n",
    "_plt.legend()"
   ]
  },
  {
   "cell_type": "code",
   "execution_count": 11,
   "metadata": {},
   "outputs": [
    {
     "data": {
      "text/plain": [
       "array([54.96799598, 94.42488076, 37.516294  , 26.60732319, 15.79390449,\n",
       "       11.56889627,  7.69512487,  6.34824015,  5.34790965,  5.2146382 ,\n",
       "        4.95156347,  5.02092424,  5.01488951,  4.90754014,  4.95518506])"
      ]
     },
     "execution_count": 11,
     "metadata": {},
     "output_type": "execute_result"
    }
   ],
   "source": [
    "chis_unc/chis*100"
   ]
  },
  {
   "cell_type": "code",
   "execution_count": 12,
   "metadata": {},
   "outputs": [
    {
     "name": "stdout",
     "output_type": "stream",
     "text": [
      "0.75 0.00412 0.002264681434551006\n",
      "0.775 0.001912006321490562 0.0018054096892704218\n",
      "0.8 0.00838720608052631 0.0031465688919556007\n",
      "0.825 0.017815580962482924 0.004740249204437283\n",
      "0.85 0.05427011183033771 0.008571369630605234\n",
      "0.875 0.11166822459615378 0.012918781067399672\n",
      "0.9 0.30659283188035263 0.023592701265924724\n",
      "0.925 0.5169098470292232 0.03281467842691488\n",
      "0.95 0.9357766803016367 0.05004449136966139\n",
      "0.975 1.2070320504675711 0.06294235438385021\n",
      "1.0 1.5386741561593251 0.07618842747371263\n",
      "1.025 1.7865229573588368 0.08969996425442045\n",
      "1.05 2.0175173894353673 0.10117626794278058\n",
      "1.075 2.256677930311366 0.1107473751545197\n",
      "1.1 2.4793002040418837 0.1228539133345776\n"
     ]
    }
   ],
   "source": [
    "for jj in range(len(chis)):\n",
    "    print(betas_final[jj], chis[jj], chis_unc[jj])"
   ]
  }
 ],
 "metadata": {
  "kernelspec": {
   "display_name": "Python 3",
   "language": "python",
   "name": "python3"
  },
  "language_info": {
   "codemirror_mode": {
    "name": "ipython",
    "version": 3
   },
   "file_extension": ".py",
   "mimetype": "text/x-python",
   "name": "python",
   "nbconvert_exporter": "python",
   "pygments_lexer": "ipython3",
   "version": "3.6.10"
  },
  "vscode": {
   "interpreter": {
    "hash": "42a939a256227b0e36c4deaa5bc479c5611cecdcf96637c7dc230fbf2d532ddd"
   }
  }
 },
 "nbformat": 4,
 "nbformat_minor": 2
}
