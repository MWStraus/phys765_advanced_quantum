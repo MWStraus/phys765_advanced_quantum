{
 "cells": [
  {
   "cell_type": "code",
   "execution_count": 1,
   "metadata": {},
   "outputs": [],
   "source": [
    "import numpy as _np\n",
    "import spinmob as _s\n",
    "import matplotlib.pyplot as _plt\n",
    "import os as _os\n",
    "from scipy.optimize import curve_fit"
   ]
  },
  {
   "cell_type": "code",
   "execution_count": 2,
   "metadata": {},
   "outputs": [
    {
     "name": "stdout",
     "output_type": "stream",
     "text": [
      "['c:\\\\Users\\\\MWStr\\\\code\\\\phys765_advanced_quantum\\\\project2\\\\problem3data\\\\N_16_beta_0.88_parallel(1).csv', 'c:\\\\Users\\\\MWStr\\\\code\\\\phys765_advanced_quantum\\\\project2\\\\problem3data\\\\N_16_beta_0.88_parallel.csv', 'c:\\\\Users\\\\MWStr\\\\code\\\\phys765_advanced_quantum\\\\project2\\\\problem3data\\\\N_16_beta_0.89_parallel(1).csv', 'c:\\\\Users\\\\MWStr\\\\code\\\\phys765_advanced_quantum\\\\project2\\\\problem3data\\\\N_16_beta_0.89_parallel.csv', 'c:\\\\Users\\\\MWStr\\\\code\\\\phys765_advanced_quantum\\\\project2\\\\problem3data\\\\N_16_beta_0.91_parallel(1).csv', 'c:\\\\Users\\\\MWStr\\\\code\\\\phys765_advanced_quantum\\\\project2\\\\problem3data\\\\N_16_beta_0.91_parallel.csv', 'c:\\\\Users\\\\MWStr\\\\code\\\\phys765_advanced_quantum\\\\project2\\\\problem3data\\\\N_16_beta_0.92_parallel(1).csv', 'c:\\\\Users\\\\MWStr\\\\code\\\\phys765_advanced_quantum\\\\project2\\\\problem3data\\\\N_16_beta_0.92_parallel.csv', 'c:\\\\Users\\\\MWStr\\\\code\\\\phys765_advanced_quantum\\\\project2\\\\problem3data\\\\N_16_beta_0.93_parallel(1).csv', 'c:\\\\Users\\\\MWStr\\\\code\\\\phys765_advanced_quantum\\\\project2\\\\problem3data\\\\N_16_beta_0.93_parallel.csv', 'c:\\\\Users\\\\MWStr\\\\code\\\\phys765_advanced_quantum\\\\project2\\\\problem3data\\\\N_16_beta_0.94_parallel(1).csv', 'c:\\\\Users\\\\MWStr\\\\code\\\\phys765_advanced_quantum\\\\project2\\\\problem3data\\\\N_16_beta_0.94_parallel.csv', 'c:\\\\Users\\\\MWStr\\\\code\\\\phys765_advanced_quantum\\\\project2\\\\problem3data\\\\N_16_beta_0.95_parallel(1).csv', 'c:\\\\Users\\\\MWStr\\\\code\\\\phys765_advanced_quantum\\\\project2\\\\problem3data\\\\N_16_beta_0.95_parallel.csv', 'c:\\\\Users\\\\MWStr\\\\code\\\\phys765_advanced_quantum\\\\project2\\\\problem3data\\\\N_16_beta_0.9_parallel(1).csv', 'c:\\\\Users\\\\MWStr\\\\code\\\\phys765_advanced_quantum\\\\project2\\\\problem3data\\\\N_16_beta_0.9_parallel.csv', 'c:\\\\Users\\\\MWStr\\\\code\\\\phys765_advanced_quantum\\\\project2\\\\problem3data\\\\N_20_beta_0.88_parallel(1).csv', 'c:\\\\Users\\\\MWStr\\\\code\\\\phys765_advanced_quantum\\\\project2\\\\problem3data\\\\N_20_beta_0.88_parallel.csv', 'c:\\\\Users\\\\MWStr\\\\code\\\\phys765_advanced_quantum\\\\project2\\\\problem3data\\\\N_20_beta_0.89_parallel(1).csv', 'c:\\\\Users\\\\MWStr\\\\code\\\\phys765_advanced_quantum\\\\project2\\\\problem3data\\\\N_20_beta_0.89_parallel.csv', 'c:\\\\Users\\\\MWStr\\\\code\\\\phys765_advanced_quantum\\\\project2\\\\problem3data\\\\N_20_beta_0.91_parallel(1).csv', 'c:\\\\Users\\\\MWStr\\\\code\\\\phys765_advanced_quantum\\\\project2\\\\problem3data\\\\N_20_beta_0.91_parallel.csv', 'c:\\\\Users\\\\MWStr\\\\code\\\\phys765_advanced_quantum\\\\project2\\\\problem3data\\\\N_20_beta_0.92_parallel(1).csv', 'c:\\\\Users\\\\MWStr\\\\code\\\\phys765_advanced_quantum\\\\project2\\\\problem3data\\\\N_20_beta_0.92_parallel.csv', 'c:\\\\Users\\\\MWStr\\\\code\\\\phys765_advanced_quantum\\\\project2\\\\problem3data\\\\N_20_beta_0.93_parallel(1).csv', 'c:\\\\Users\\\\MWStr\\\\code\\\\phys765_advanced_quantum\\\\project2\\\\problem3data\\\\N_20_beta_0.93_parallel.csv', 'c:\\\\Users\\\\MWStr\\\\code\\\\phys765_advanced_quantum\\\\project2\\\\problem3data\\\\N_20_beta_0.94_parallel(1).csv', 'c:\\\\Users\\\\MWStr\\\\code\\\\phys765_advanced_quantum\\\\project2\\\\problem3data\\\\N_20_beta_0.94_parallel.csv', 'c:\\\\Users\\\\MWStr\\\\code\\\\phys765_advanced_quantum\\\\project2\\\\problem3data\\\\N_20_beta_0.95_parallel(1).csv', 'c:\\\\Users\\\\MWStr\\\\code\\\\phys765_advanced_quantum\\\\project2\\\\problem3data\\\\N_20_beta_0.95_parallel.csv', 'c:\\\\Users\\\\MWStr\\\\code\\\\phys765_advanced_quantum\\\\project2\\\\problem3data\\\\N_20_beta_0.9_parallel(1).csv', 'c:\\\\Users\\\\MWStr\\\\code\\\\phys765_advanced_quantum\\\\project2\\\\problem3data\\\\N_20_beta_0.9_parallel.csv', 'c:\\\\Users\\\\MWStr\\\\code\\\\phys765_advanced_quantum\\\\project2\\\\problem3data\\\\N_24_beta_0.88_parallel(1).csv', 'c:\\\\Users\\\\MWStr\\\\code\\\\phys765_advanced_quantum\\\\project2\\\\problem3data\\\\N_24_beta_0.88_parallel.csv', 'c:\\\\Users\\\\MWStr\\\\code\\\\phys765_advanced_quantum\\\\project2\\\\problem3data\\\\N_24_beta_0.89_parallel(1).csv', 'c:\\\\Users\\\\MWStr\\\\code\\\\phys765_advanced_quantum\\\\project2\\\\problem3data\\\\N_24_beta_0.89_parallel.csv', 'c:\\\\Users\\\\MWStr\\\\code\\\\phys765_advanced_quantum\\\\project2\\\\problem3data\\\\N_24_beta_0.91_parallel(1).csv', 'c:\\\\Users\\\\MWStr\\\\code\\\\phys765_advanced_quantum\\\\project2\\\\problem3data\\\\N_24_beta_0.91_parallel.csv', 'c:\\\\Users\\\\MWStr\\\\code\\\\phys765_advanced_quantum\\\\project2\\\\problem3data\\\\N_24_beta_0.92_parallel(1).csv', 'c:\\\\Users\\\\MWStr\\\\code\\\\phys765_advanced_quantum\\\\project2\\\\problem3data\\\\N_24_beta_0.92_parallel.csv', 'c:\\\\Users\\\\MWStr\\\\code\\\\phys765_advanced_quantum\\\\project2\\\\problem3data\\\\N_24_beta_0.93_parallel(1).csv', 'c:\\\\Users\\\\MWStr\\\\code\\\\phys765_advanced_quantum\\\\project2\\\\problem3data\\\\N_24_beta_0.93_parallel.csv', 'c:\\\\Users\\\\MWStr\\\\code\\\\phys765_advanced_quantum\\\\project2\\\\problem3data\\\\N_24_beta_0.94_parallel(1).csv', 'c:\\\\Users\\\\MWStr\\\\code\\\\phys765_advanced_quantum\\\\project2\\\\problem3data\\\\N_24_beta_0.94_parallel.csv', 'c:\\\\Users\\\\MWStr\\\\code\\\\phys765_advanced_quantum\\\\project2\\\\problem3data\\\\N_24_beta_0.95_parallel(1).csv', 'c:\\\\Users\\\\MWStr\\\\code\\\\phys765_advanced_quantum\\\\project2\\\\problem3data\\\\N_24_beta_0.95_parallel.csv', 'c:\\\\Users\\\\MWStr\\\\code\\\\phys765_advanced_quantum\\\\project2\\\\problem3data\\\\N_24_beta_0.9_parallel(1).csv', 'c:\\\\Users\\\\MWStr\\\\code\\\\phys765_advanced_quantum\\\\project2\\\\problem3data\\\\N_24_beta_0.9_parallel.csv']\n",
      "[0.88, 0.88, 0.89, 0.89, 0.91, 0.91, 0.92, 0.92, 0.93, 0.93, 0.94, 0.94, 0.95, 0.95, 0.9, 0.9, 0.88, 0.88, 0.89, 0.89, 0.91, 0.91, 0.92, 0.92, 0.93, 0.93, 0.94, 0.94, 0.95, 0.95, 0.9, 0.9, 0.88, 0.88, 0.89, 0.89, 0.91, 0.91, 0.92, 0.92, 0.93, 0.93, 0.94, 0.94, 0.95, 0.95, 0.9, 0.9]\n",
      "[16, 16, 16, 16, 16, 16, 16, 16, 16, 16, 16, 16, 16, 16, 16, 16, 20, 20, 20, 20, 20, 20, 20, 20, 20, 20, 20, 20, 20, 20, 20, 20, 24, 24, 24, 24, 24, 24, 24, 24, 24, 24, 24, 24, 24, 24, 24, 24]\n"
     ]
    }
   ],
   "source": [
    "data_file_names = []\n",
    "betas = []\n",
    "Ns = []\n",
    "beta_start = \"beta_\"\n",
    "beta_end = \"_par\"\n",
    "N_start = \"N_\"\n",
    "N_end = \"_beta\"\n",
    "for name in _os.listdir(_os.getcwd()+\"\\\\problem3data\"):\n",
    "    if name.find(\"beta\")>=0:\n",
    "        data_file_names.append(_os.getcwd()+\"\\\\problem3data\\\\\"+name)\n",
    "        betas.append(float(name[name.find(beta_start)+len(beta_start):name.find(beta_end)]))\n",
    "        Ns.append(int(name[name.find(N_start)+len(N_start):name.find(N_end)]))\n",
    "print(data_file_names)\n",
    "print(betas)\n",
    "print(Ns)\n"
   ]
  },
  {
   "cell_type": "code",
   "execution_count": 3,
   "metadata": {},
   "outputs": [],
   "source": [
    "data_boxes = _s.data.load_multiple(paths = data_file_names)"
   ]
  },
  {
   "cell_type": "code",
   "execution_count": 4,
   "metadata": {},
   "outputs": [
    {
     "data": {
      "text/plain": [
       "48"
      ]
     },
     "execution_count": 4,
     "metadata": {},
     "output_type": "execute_result"
    }
   ],
   "source": [
    "len(data_boxes)"
   ]
  },
  {
   "cell_type": "code",
   "execution_count": 5,
   "metadata": {},
   "outputs": [],
   "source": [
    "def exp_decay(x, gamma, amp):\n",
    "    return amp*_np.exp(-x/gamma)\n",
    "\n",
    "def correlation(data, data_average):\n",
    "    data_correlations = []\n",
    "    correlation_distance = _np.array(range(len(data)-1))+1\n",
    "    for distance in correlation_distance:\n",
    "        correlations = data[:-distance]*data[distance::]-data_average**2\n",
    "        data_correlations.append(_np.average(correlations))\n",
    "    return data_correlations, correlation_distance\n",
    "\n",
    "def fit_exp_decay(data, distacnes, p0):\n",
    "    popt, cov = curve_fit(exp_decay, distacnes[:2000], data[:2000], p0=p0)\n",
    "    return [popt, cov]\n",
    "\n",
    "def plot_exp_decay_fit(correlation, distances, popt, ep_str, n_or_e):\n",
    "    _plt.plot(distances, correlation, label=\"data\")\n",
    "    _plt.axhline(0, linestyle=\"--\", color=\"grey\", alpha=0.5)\n",
    "    _plt.plot(distances[:2000], exp_decay(distances[:2000], *popt), label=\"fit\")\n",
    "    _plt.title(n_or_e+\" correlation for ε=\"+ep_str, size=35)\n",
    "    _plt.ylabel(r'$\\tilde{e_n}\\tilde{e}_{n+d} - \\langle \\tilde{e}\\rangle^2$', size=35)\n",
    "    _plt.xlabel(\"d\", size=35)\n",
    "    _plt.tick_params(axis=\"both\", labelsize=30)\n",
    "    _plt.legend(fontsize=30)\n",
    "    _plt.show()\n",
    "\n",
    "def choose_unc(es, es_popt, ns, ns_popt):\n",
    "    es_uncs = []\n",
    "    ns_uncs = []\n",
    "    num_trials = len(es)\n",
    "    for position, block in enumerate(block_sizes):\n",
    "        blocked_es = _np.reshape(es, (int(num_trials/block), block))\n",
    "        block_avg_es = _np.average(blocked_es, axis=1)\n",
    "        unc = _np.std(block_avg_es)/_np.sqrt(len(block_avg_es))\n",
    "        es_uncs.append(unc)\n",
    "\n",
    "        blocked_ns = _np.reshape(ns, (int(num_trials/block), block))\n",
    "        block_avg_ns = _np.average(blocked_ns, axis=1)\n",
    "        unc = _np.std(block_avg_ns)/_np.sqrt(len(block_avg_ns))\n",
    "        ns_uncs.append(unc)\n",
    "\n",
    "        print(\"E Unc: \", es_uncs[-1], \"E correlation/unc: \", _np.sqrt(exp_decay(block, *es_popt))/unc)\n",
    "        print(\"n Unc: \", ns_uncs[-1], \"n correlation/unc: \", _np.sqrt(exp_decay(block, *ns_popt))/unc)\n",
    "        print(\" num blocks: \", len(block_avg_es), \" blocksize: \", block, \"choice number\", position)\n",
    "        print(\"\\r\\r\\r\")\n",
    "    which_block = int(input(\"Which block_size?\"))\n",
    "    return [block_sizes[which_block], es_uncs[which_block], ns_uncs[which_block]]\n"
   ]
  },
  {
   "cell_type": "code",
   "execution_count": 6,
   "metadata": {},
   "outputs": [
    {
     "name": "stdout",
     "output_type": "stream",
     "text": [
      "16\n"
     ]
    },
    {
     "data": {
      "text/plain": [
       "array([ 14.45406099, 413.4934241 ])"
      ]
     },
     "execution_count": 6,
     "metadata": {},
     "output_type": "execute_result"
    }
   ],
   "source": [
    "ns0 = data_boxes[2][0][1000:]\n",
    "ns0_average = _np.average(ns0)\n",
    "ns0_correlation, ns0_distances = correlation(ns0, ns0_average)\n",
    "p0 = [200, 30]\n",
    "ns0_popt, ns0_cov = fit_exp_decay(ns0_correlation, ns0_distances, p0)\n",
    "plot_exp_decay_fit(ns0_correlation, ns0_distances, ns0_popt, \"\", r\"$\\chi$\")\n",
    "print(Ns[0])\n",
    "ns0_popt\n"
   ]
  },
  {
   "cell_type": "code",
   "execution_count": 7,
   "metadata": {},
   "outputs": [
    {
     "data": {
      "text/plain": [
       "0.12314666333433891"
      ]
     },
     "execution_count": 7,
     "metadata": {},
     "output_type": "execute_result"
    }
   ],
   "source": [
    "block_size = 100\n",
    "exp_decay(block_size, *ns0_popt)/ns0_average*100"
   ]
  },
  {
   "cell_type": "code",
   "execution_count": 8,
   "metadata": {},
   "outputs": [],
   "source": [
    "def calcualte_windings_avg(data_box):\n",
    "    return _np.average(data_box[2])\n",
    "def calcualte_windings_unc(data_box):\n",
    "    return _np.std(data_box[2])/_np.sqrt(len(data_box[2])/block_size)\n",
    "\n",
    "windings_avg = [calcualte_windings_avg(data_box) for data_box in data_boxes]\n",
    "windings_unc = [calcualte_windings_unc(data_box) for data_box in data_boxes]"
   ]
  },
  {
   "cell_type": "code",
   "execution_count": 9,
   "metadata": {},
   "outputs": [
    {
     "name": "stdout",
     "output_type": "stream",
     "text": [
      "(array([0, 1], dtype=int64),) (array([16, 17], dtype=int64),) (array([32, 33], dtype=int64),)\n",
      "(array([2, 3], dtype=int64),) (array([18, 19], dtype=int64),) (array([34, 35], dtype=int64),)\n",
      "(array([6, 7], dtype=int64),) (array([22, 23], dtype=int64),) (array([38, 39], dtype=int64),)\n",
      "(array([4, 5], dtype=int64),) (array([20, 21], dtype=int64),) (array([36, 37], dtype=int64),)\n",
      "(array([8, 9], dtype=int64),) (array([24, 25], dtype=int64),) (array([40, 41], dtype=int64),)\n",
      "(array([10, 11], dtype=int64),) (array([26, 27], dtype=int64),) (array([42, 43], dtype=int64),)\n",
      "(array([12, 13], dtype=int64),) (array([28, 29], dtype=int64),) (array([44, 45], dtype=int64),)\n",
      "(array([14, 15], dtype=int64),) (array([30, 31], dtype=int64),) (array([46, 47], dtype=int64),)\n",
      "[0.88 0.89 0.9  0.91 0.92 0.93 0.94 0.95]\n",
      "[0.22079667 0.2706387  0.34868733 0.43341478 0.43175462 0.5229698\n",
      " 0.61620204 0.79800292]\n",
      "[0.01430051 0.01621802 0.01848305 0.02178716 0.0221155  0.02457274\n",
      " 0.0269932  0.03327961]\n",
      "[0.1567752  0.22106307 0.30463098 0.40783793 0.40136479 0.51885696\n",
      " 0.64260197 0.94057986]\n",
      "[0.01160052 0.01432694 0.01730273 0.02131505 0.02058896 0.02432238\n",
      " 0.02886096 0.03815806]\n",
      "[0.11105255 0.16613307 0.25506837 0.37041122 0.38100109 0.53900819\n",
      " 0.71455084 1.07466755]\n",
      "[0.009532428555137078, 0.012008734287425327, 0.0197467905943788, 0.019950164398290105, 0.02537832184232094, 0.030665632407949162, 0.042229461973366064, 0.015970073188654125]\n"
     ]
    }
   ],
   "source": [
    "betas_final = []\n",
    "Ns_final = []\n",
    "chis_16 = []\n",
    "chis_unc_16 = []\n",
    "chis_20 = []\n",
    "chis_unc_20 = []\n",
    "chis_24 = []\n",
    "chis_unc_24 = []\n",
    "N=20\n",
    "\n",
    "def avg(avgs_array, uncs_array, indexes):\n",
    "    avgs = _np.array(avgs_array)[indexes]\n",
    "    uncs = _np.array(uncs_array)[indexes]\n",
    "    avgs = avgs[_np.nonzero(uncs)]\n",
    "    uncs = uncs[_np.nonzero(uncs)]\n",
    "    weights = uncs**-2\n",
    "    weighted_average = (_np.sum(weights*avgs)/_np.sum(weights))\n",
    "    final_unc = (1/_np.sqrt(_np.sum(weights)))\n",
    "    return weighted_average, final_unc\n",
    "\n",
    "\n",
    "for beta in set(betas):\n",
    "    betas_final.append(beta)\n",
    "    Ns_final.append(N)\n",
    "    indexes_16 = _np.nonzero(_np.logical_and(_np.array(betas)==beta, _np.array(Ns)==16))\n",
    "    indexes_20 = _np.nonzero(_np.logical_and(_np.array(betas)==beta, _np.array(Ns)==20))\n",
    "    indexes_24 = _np.nonzero(_np.logical_and(_np.array(betas)==beta, _np.array(Ns)==24))\n",
    "    print(indexes_16, indexes_20, indexes_24)\n",
    "    avg_16, unc_16 = avg(windings_avg, windings_unc, indexes_16)\n",
    "    avg_20, unc_20 = avg(windings_avg, windings_unc, indexes_20)\n",
    "    avg_24, unc_24 = avg(windings_avg, windings_unc, indexes_24)\n",
    "    chis_16.append(avg_16)\n",
    "    chis_unc_16.append(unc_16)\n",
    "    chis_20.append(avg_20)\n",
    "    chis_unc_20.append(unc_20)\n",
    "    chis_24.append(avg_24)\n",
    "    chis_unc_24.append(unc_24)\n",
    "\n",
    "sort_indexes = _np.argsort(betas_final)\n",
    "betas_final = _np.array(betas_final)[sort_indexes]\n",
    "chis_16 = _np.array(chis_16)[sort_indexes]\n",
    "chis_unc_16 = _np.array(chis_unc_16)[sort_indexes]\n",
    "chis_20 = _np.array(chis_20)[sort_indexes]\n",
    "chis_unc_20 = _np.array(chis_unc_20)[sort_indexes]\n",
    "chis_24 = _np.array(chis_24)[sort_indexes]\n",
    "chis_unc_124 = _np.array(chis_unc_24)[sort_indexes]\n",
    "print(betas_final)\n",
    "print(chis_16)\n",
    "print(chis_unc_16)\n",
    "print(chis_20)\n",
    "print(chis_unc_20)\n",
    "print(chis_24)\n",
    "print(chis_unc_24)"
   ]
  },
  {
   "cell_type": "code",
   "execution_count": null,
   "metadata": {},
   "outputs": [],
   "source": []
  },
  {
   "cell_type": "code",
   "execution_count": 10,
   "metadata": {},
   "outputs": [
    {
     "data": {
      "text/plain": [
       "<matplotlib.legend.Legend at 0x1d78277f5c0>"
      ]
     },
     "execution_count": 10,
     "metadata": {},
     "output_type": "execute_result"
    }
   ],
   "source": [
    "_plt.errorbar(betas_final, chis_16, yerr=chis_unc_16, marker=\".\", color=\"blue\", zorder=1, label=\"N=16\")\n",
    "_plt.errorbar(betas_final, chis_20, yerr=chis_unc_20, marker=\".\", color=\"green\", zorder=1, label=\"N=20\")\n",
    "_plt.errorbar(betas_final, chis_24, yerr=chis_unc_24, marker=\".\", color=\"purple\", zorder=1, label=\"N=24\")\n",
    "_plt.title(r\"$\\chi_\\omega \\: vs \\: \\beta \\: with \\: \\epsilon=0.01$\", size=18)\n",
    "_plt.xlabel(r\"$\\beta$\", size=18)\n",
    "_plt.ylabel(r\"$\\chi_\\omega$\", size=18)\n",
    "_plt.legend()"
   ]
  },
  {
   "cell_type": "code",
   "execution_count": 18,
   "metadata": {},
   "outputs": [
    {
     "data": {
      "text/plain": [
       "array([4.91648702, 8.44561809, 3.35555935, 2.37983133, 1.41264976,\n",
       "       1.03475354, 0.68827289, 0.56780386, 0.47833158, 0.46641142,\n",
       "       0.4428813 , 0.44908512, 0.44854535, 0.43894373, 0.44320523])"
      ]
     },
     "execution_count": 18,
     "metadata": {},
     "output_type": "execute_result"
    }
   ],
   "source": [
    "chis_unc/chis*100"
   ]
  },
  {
   "cell_type": "code",
   "execution_count": 11,
   "metadata": {},
   "outputs": [
    {
     "data": {
      "text/plain": [
       "0.9279333333333334"
      ]
     },
     "execution_count": 11,
     "metadata": {},
     "output_type": "execute_result"
    }
   ],
   "source": [
    "_np.average([0.925, 0.9275,0.9313])"
   ]
  },
  {
   "cell_type": "code",
   "execution_count": 12,
   "metadata": {},
   "outputs": [
    {
     "data": {
      "text/plain": [
       "0.0025901522906749794"
      ]
     },
     "execution_count": 12,
     "metadata": {},
     "output_type": "execute_result"
    }
   ],
   "source": [
    "_np.std([0.925, 0.9275,0.9313])"
   ]
  },
  {
   "cell_type": "code",
   "execution_count": 18,
   "metadata": {},
   "outputs": [
    {
     "name": "stdout",
     "output_type": "stream",
     "text": [
      "0.88 0.2207966745030477 0.01430050922056269 || 0.1567751961416103 0.011600518640511051 || 0.11105254776110972 0.009532428555137078\n",
      "0.89 0.27063870008170077 0.01621802043636162 || 0.22106306614550278 0.014326938812429552 || 0.16613307119930446 0.012008734287425327\n",
      "0.9 0.3486873313627744 0.01848304580563656 || 0.30463098333600575 0.017302725616332146 || 0.25506836795948756 0.0197467905943788\n",
      "0.91 0.43341478018609125 0.02178715584927068 || 0.4078379279757144 0.0213150516447774 || 0.370411218088683 0.019950164398290105\n",
      "0.92 0.43175461870676224 0.022115498952385182 || 0.4013647938441588 0.020588957304421986 || 0.3810010942576526 0.02537832184232094\n",
      "0.93 0.5229697976393621 0.024572744448488976 || 0.5188569623787315 0.024322383058461003 || 0.539008187017439 0.030665632407949162\n",
      "0.94 0.6162020415119904 0.026993200278815258 || 0.642601968975964 0.028860961857291343 || 0.7145508416792828 0.042229461973366064\n",
      "0.95 0.7980029243125601 0.03327961017377011 || 0.9405798568062663 0.03815805711034295 || 1.0746675539875088 0.015970073188654125\n"
     ]
    }
   ],
   "source": [
    "for jj in range(len(chis_16)):\n",
    "    print(betas_final[jj], chis_16[jj], chis_unc_16[jj], \"||\", chis_20[jj], chis_unc_20[jj], \"||\", chis_24[jj], chis_unc_24[jj])"
   ]
  },
  {
   "cell_type": "code",
   "execution_count": 20,
   "metadata": {},
   "outputs": [],
   "source": [
    "def calcualte_n_avg(data_box):\n",
    "    return _np.average(data_box[0])\n",
    "def calcualte_n_unc(data_box):\n",
    "    return _np.std(data_box[0])/_np.sqrt(len(data_box[2])/block_size)\n",
    "\n",
    "ns_avg = [calcualte_n_avg(data_box) for data_box in data_boxes]\n",
    "ns_unc = [calcualte_n_unc(data_box) for data_box in data_boxes]"
   ]
  },
  {
   "cell_type": "code",
   "execution_count": 22,
   "metadata": {},
   "outputs": [
    {
     "name": "stdout",
     "output_type": "stream",
     "text": [
      "(array([0, 1], dtype=int64),) (array([16, 17], dtype=int64),) (array([32, 33], dtype=int64),)\n",
      "(array([2, 3], dtype=int64),) (array([18, 19], dtype=int64),) (array([34, 35], dtype=int64),)\n",
      "(array([6, 7], dtype=int64),) (array([22, 23], dtype=int64),) (array([38, 39], dtype=int64),)\n",
      "(array([4, 5], dtype=int64),) (array([20, 21], dtype=int64),) (array([36, 37], dtype=int64),)\n",
      "(array([8, 9], dtype=int64),) (array([24, 25], dtype=int64),) (array([40, 41], dtype=int64),)\n",
      "(array([10, 11], dtype=int64),) (array([26, 27], dtype=int64),) (array([42, 43], dtype=int64),)\n",
      "(array([12, 13], dtype=int64),) (array([28, 29], dtype=int64),) (array([44, 45], dtype=int64),)\n",
      "(array([14, 15], dtype=int64),) (array([30, 31], dtype=int64),) (array([46, 47], dtype=int64),)\n",
      "[0.88 0.89 0.9  0.91 0.92 0.93 0.94 0.95]\n",
      "[0.22079667 0.2706387  0.34868733 0.43341478 0.43175462 0.5229698\n",
      " 0.61620204 0.79800292]\n",
      "[0.01430051 0.01621802 0.01848305 0.02178716 0.0221155  0.02457274\n",
      " 0.0269932  0.03327961]\n",
      "[0.1567752  0.22106307 0.30463098 0.40783793 0.40136479 0.51885696\n",
      " 0.64260197 0.94057986]\n",
      "[0.01160052 0.01432694 0.01730273 0.02131505 0.02058896 0.02432238\n",
      " 0.02886096 0.03815806]\n",
      "[0.11105255 0.16613307 0.25506837 0.37041122 0.38100109 0.53900819\n",
      " 0.71455084 1.07466755]\n",
      "[0.009532428555137078, 0.012008734287425327, 0.0197467905943788, 0.019950164398290105, 0.02537832184232094, 0.030665632407949162, 0.042229461973366064, 0.015970073188654125]\n"
     ]
    }
   ],
   "source": [
    "betas_final = []\n",
    "Ns_final = []\n",
    "ns_16 = []\n",
    "ns_unc_16 = []\n",
    "ns_20 = []\n",
    "ns_unc_20 = []\n",
    "ns_24 = []\n",
    "ns_unc_24 = []\n",
    "N=20\n",
    "\n",
    "def avg(avgs_array, uncs_array, indexes):\n",
    "    avgs = _np.array(avgs_array)[indexes]\n",
    "    uncs = _np.array(uncs_array)[indexes]\n",
    "    avgs = avgs[_np.nonzero(uncs)]\n",
    "    uncs = uncs[_np.nonzero(uncs)]\n",
    "    weights = uncs**-2\n",
    "    weighted_average = (_np.sum(weights*avgs)/_np.sum(weights))\n",
    "    final_unc = (1/_np.sqrt(_np.sum(weights)))\n",
    "    return weighted_average, final_unc\n",
    "\n",
    "\n",
    "for beta in set(betas):\n",
    "    betas_final.append(beta)\n",
    "    Ns_final.append(N)\n",
    "    indexes_16 = _np.nonzero(_np.logical_and(_np.array(betas)==beta, _np.array(Ns)==16))\n",
    "    indexes_20 = _np.nonzero(_np.logical_and(_np.array(betas)==beta, _np.array(Ns)==20))\n",
    "    indexes_24 = _np.nonzero(_np.logical_and(_np.array(betas)==beta, _np.array(Ns)==24))\n",
    "    print(indexes_16, indexes_20, indexes_24)\n",
    "    avg_16, unc_16 = avg(ns_avg, ns_unc, indexes_16)\n",
    "    avg_20, unc_20 = avg(ns_avg, ns_unc, indexes_20)\n",
    "    avg_24, unc_24 = avg(ns_avg, ns_unc, indexes_24)\n",
    "    ns_16.append(avg_16)\n",
    "    ns_unc_16.append(unc_16)\n",
    "    ns_20.append(avg_20)\n",
    "    ns_unc_20.append(unc_20)\n",
    "    ns_24.append(avg_24)\n",
    "    ns_unc_24.append(unc_24)\n",
    "\n",
    "sort_indexes = _np.argsort(betas_final)\n",
    "betas_final = _np.array(betas_final)[sort_indexes]\n",
    "ns_16 = _np.array(ns_16)[sort_indexes]\n",
    "ns_unc_16 = _np.array(ns_unc_16)[sort_indexes]\n",
    "ns_20 = _np.array(ns_20)[sort_indexes]\n",
    "ns_unc_20 = _np.array(ns_unc_20)[sort_indexes]\n",
    "ns_24 = _np.array(ns_24)[sort_indexes]\n",
    "ns_unc_24 = _np.array(ns_unc_24)[sort_indexes]"
   ]
  },
  {
   "cell_type": "code",
   "execution_count": 25,
   "metadata": {},
   "outputs": [
    {
     "name": "stdout",
     "output_type": "stream",
     "text": [
      "0.88 0.08079625336793006 0.0001309294674845918 || 0.08006313875664903 9.355418712785525e-05 || 0.07966947335974801 7.326922212683818e-05\n",
      "0.89 0.08103661610476764 0.00013359414110516844 || 0.0803412926581575 9.53458675757073e-05 || 0.07978024792193025 7.295937542326906e-05\n",
      "0.9 0.0814691687213226 0.00013639599776566884 || 0.08068837378740643 9.879455440775063e-05 || 0.08013709759555505 7.717351663446838e-05\n",
      "0.91 0.08198240933767424 0.00014054469083716695 || 0.08105612940992253 0.00010103195769780015 || 0.08061874124845324 7.918003136467407e-05\n",
      "0.92 0.08188320592964683 0.00013926727030599085 || 0.08116349603010976 0.0001022721461059708 || 0.0806978004954859 8.094496599703398e-05\n",
      "0.93 0.08244991978605147 0.00014008518049345452 || 0.08172291740975257 0.00010385110077803203 || 0.08133736823385564 8.021965446478423e-05\n",
      "0.94 0.08305421934548339 0.00014284540117439362 || 0.08244349793001136 0.00010618586855010625 || 0.08217670399902853 8.122376791071424e-05\n",
      "0.95 0.08438361381024463 0.0001419867665462147 || 0.08393260608114443 0.0001044063708313087 || 0.08382682990584982 8.035086082696142e-05\n"
     ]
    }
   ],
   "source": [
    "for jj in range(len(chis_16)):\n",
    "    print(betas_final[jj], ns_16[jj]/16**3, ns_unc_16[jj]/16**3, \"||\", ns_20[jj]/20**3, ns_unc_20[jj]/20**3, \"||\", ns_24[jj]/24**3, ns_unc_24[jj]/24**3)"
   ]
  },
  {
   "cell_type": "code",
   "execution_count": 29,
   "metadata": {},
   "outputs": [
    {
     "name": "stdout",
     "output_type": "stream",
     "text": [
      "0.08164646248476293 5.782425998905889e-05\n"
     ]
    }
   ],
   "source": [
    "avgs = _np.array([ns_16[5]/(16**3), ns_20[5]/(20**3), ns_24[5]/(24**3)])\n",
    "uncs = _np.array([ns_unc_16[5]/(16**3), ns_unc_20[5]/(20**3), ns_unc_24[5]/(24**3)])\n",
    "avgs = avgs[_np.nonzero(uncs)]\n",
    "uncs = uncs[_np.nonzero(uncs)]\n",
    "weights = uncs**-2\n",
    "weighted_average = (_np.sum(weights*avgs)/_np.sum(weights))\n",
    "final_unc = (1/_np.sqrt(_np.sum(weights)))\n",
    "print(weighted_average, final_unc)"
   ]
  },
  {
   "cell_type": "code",
   "execution_count": null,
   "metadata": {},
   "outputs": [],
   "source": []
  },
  {
   "cell_type": "code",
   "execution_count": 19,
   "metadata": {},
   "outputs": [
    {
     "name": "stdout",
     "output_type": "stream",
     "text": [
      "100000\n",
      "50000\n",
      "100000\n",
      "50000\n",
      "100000\n",
      "50000\n",
      "100000\n",
      "50000\n",
      "100000\n",
      "50000\n",
      "100000\n",
      "50000\n",
      "100000\n",
      "50000\n",
      "100000\n",
      "50000\n",
      "100000\n",
      "50000\n",
      "100000\n",
      "50000\n",
      "100000\n",
      "50000\n",
      "100000\n",
      "50000\n",
      "100000\n",
      "50000\n",
      "100000\n",
      "50000\n",
      "100000\n",
      "50000\n",
      "100000\n",
      "50000\n",
      "100000\n",
      "50000\n",
      "100000\n",
      "50000\n",
      "100000\n",
      "50000\n",
      "100000\n",
      "50000\n",
      "100000\n",
      "50000\n",
      "100000\n",
      "50000\n",
      "100000\n",
      "50000\n",
      "100000\n",
      "50000\n"
     ]
    }
   ],
   "source": [
    "for data_box in data_boxes:\n",
    "    print(len(data_box[0]))"
   ]
  },
  {
   "cell_type": "code",
   "execution_count": null,
   "metadata": {},
   "outputs": [],
   "source": []
  }
 ],
 "metadata": {
  "kernelspec": {
   "display_name": "Python 3",
   "language": "python",
   "name": "python3"
  },
  "language_info": {
   "codemirror_mode": {
    "name": "ipython",
    "version": 3
   },
   "file_extension": ".py",
   "mimetype": "text/x-python",
   "name": "python",
   "nbconvert_exporter": "python",
   "pygments_lexer": "ipython3",
   "version": "3.6.10"
  },
  "vscode": {
   "interpreter": {
    "hash": "42a939a256227b0e36c4deaa5bc479c5611cecdcf96637c7dc230fbf2d532ddd"
   }
  }
 },
 "nbformat": 4,
 "nbformat_minor": 2
}
