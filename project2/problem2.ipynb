{
 "cells": [
  {
   "cell_type": "markdown",
   "metadata": {},
   "source": [
    "### 2022 Fall Phy 765 Advanced Quantum Mechanics Project #2 Problem 2\n",
    "### Members: Michael Straus, Eren Guttentag, Jiyong Yu"
   ]
  },
  {
   "cell_type": "code",
   "execution_count": 1,
   "metadata": {},
   "outputs": [
    {
     "name": "stdout",
     "output_type": "stream",
     "text": [
      "importing Jupyter notebook from worm_simulation.ipynb\n"
     ]
    }
   ],
   "source": [
    "import numpy as np\n",
    "import matplotlib.pyplot as plt\n",
    "import import_ipynb\n",
    "from worm_simulation import Worm_algorithm\n",
    "import pandas as pd"
   ]
  },
  {
   "cell_type": "code",
   "execution_count": null,
   "metadata": {},
   "outputs": [
    {
     "name": "stdout",
     "output_type": "stream",
     "text": [
      "-----------------------beta = 0.750 done-----------------------------\n",
      "-----------------------beta = 0.775 done-----------------------------\n",
      "-----------------------beta = 0.800 done-----------------------------\n"
     ]
    }
   ],
   "source": [
    "################################################### Block function #####################################################\n",
    "def block(array, N):\n",
    "    # Device the given array into blocks with block size N\n",
    "    \n",
    "    l = int(len(array) / N)\n",
    "    \n",
    "    blocked_array = np.zeros([l, N])\n",
    "    \n",
    "    for i in range(l):\n",
    "        block_start = i * N\n",
    "        block_end = block_start + N\n",
    "        \n",
    "        blocked_array[i] = array[block_start: block_end]\n",
    "        \n",
    "    return blocked_array\n",
    "\n",
    "def get_error(blocked_array):\n",
    "    l = len(blocked_array)\n",
    "    average_each_block = []\n",
    "    \n",
    "    for i in range(l):\n",
    "        average_each_block.append(np.average(blocked_array[i]))\n",
    "\n",
    "    return np.std(average_each_block) / np.sqrt(l)\n",
    "\n",
    "################################################### Simulation #####################################################\n",
    "\n",
    "### Parameter Setting ###\n",
    "[N, mu, epsilon, dimension] = [20, 1.0, 0.01, 3]\n",
    "\n",
    "N_beta = 15\n",
    "beta_min = 0.75\n",
    "beta_max = 1.1\n",
    "beta_array = np.linspace(beta_min, beta_max, N_beta)\n",
    "\n",
    "susceptibility_array = []\n",
    "susceptibility_error_array = []\n",
    "\n",
    "num_trials = 5000# Monte-Carlo try number\n",
    "block_size = 50\n",
    "\n",
    "### Get the square of the winding number varying the beta ###\n",
    "for beta in beta_array:\n",
    "    parameters = [N, mu, epsilon, beta, dimension]\n",
    "    worm_algorithm = Worm_algorithm(parameters) # Initialization\n",
    "    num_winding_square_Monte_Carlo = [] # Saves the winding number result of each Monte-Carlo try\n",
    "    num_particles_Monte_Carlo = []\n",
    "    energy_Monte_Carlo = []\n",
    "    # Monte-Carlo simulation part\n",
    "    for counter in range(num_trials):\n",
    "        num_particles, e_tilda, weight, num_winding = worm_algorithm.measure_observables()\n",
    "        num_particles_Monte_Carlo.append(num_particles)\n",
    "        energy_Monte_Carlo.append(e_tilda)\n",
    "        num_winding_square_Monte_Carlo.append(num_winding/3)\n",
    "\n",
    "        old_grid = worm_algorithm.get_pathed_grid()\n",
    "        new_grid = worm_algorithm.update_grid(old_grid)\n",
    "        worm_algorithm.set_pathed_grid(new_grid)\n",
    "        \n",
    "        #print('-----------------' + str(counter) + ' New grid created----------------------')\n",
    "        #if (((counter + 1) % 500) == 0): print('-----------------' + str(counter + 1) + ' New grid created----------------------')\n",
    "    \n",
    "    susceptibility_array.append(np.average(num_winding_square_Monte_Carlo) / (N * beta))\n",
    "    susceptibility_error_array.append(get_error(block(num_winding_square_Monte_Carlo, block_size)) / (N * beta))\n",
    "    data = np.array([num_particles_Monte_Carlo, energy_Monte_Carlo, num_winding_square_Monte_Carlo]).transpose()\n",
    "    pd.DataFrame(data).to_csv(\"beta_\"+str(beta)+\".csv\", index=False, header=[\"n\", \"e_tilda\", \"w^2\"])\n",
    "    print('-----------------------beta = %.3f done-----------------------------' % beta)\n",
    "\n"
   ]
  },
  {
   "cell_type": "code",
   "execution_count": null,
   "metadata": {},
   "outputs": [],
   "source": [
    "plt.rcParams['figure.facecolor'] = 'white'\n",
    "#plt.plot(mu_array, n_array)\n",
    "\n",
    "plt.figure(figsize = (9, 7))\n",
    "plt.xlabel('beta', fontsize = 12)\n",
    "plt.ylabel('Susceptibility', fontsize = 12)\n",
    "plt.title('Worm algorithm simulation (N = 20, mu = 1.0, epsilon = 0.01)', fontsize = 15)\n",
    "plt.errorbar(beta_array, susceptibility_array, yerr = susceptibility_error_array, marker = 'o', markersize = 4, color = 'blue', linestyle = 'none', linewidth = 1, capsize = 3)\n"
   ]
  }
 ],
 "metadata": {
  "kernelspec": {
   "display_name": "Python 3.9.10 ('base')",
   "language": "python",
   "name": "python3"
  },
  "language_info": {
   "codemirror_mode": {
    "name": "ipython",
    "version": 3
   },
   "file_extension": ".py",
   "mimetype": "text/x-python",
   "name": "python",
   "nbconvert_exporter": "python",
   "pygments_lexer": "ipython3",
   "version": "3.9.10"
  },
  "vscode": {
   "interpreter": {
    "hash": "0b02a0ef022d45bcc180fff1def0af5074bd7f4df6b707b70d1d96a855118f8f"
   }
  }
 },
 "nbformat": 4,
 "nbformat_minor": 2
}
