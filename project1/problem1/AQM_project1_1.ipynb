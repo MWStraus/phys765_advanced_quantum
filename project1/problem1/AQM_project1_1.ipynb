{
 "cells": [
  {
   "cell_type": "code",
   "execution_count": 3,
   "id": "519d75bc",
   "metadata": {},
   "outputs": [],
   "source": [
    "import numpy as np\n",
    "from qutip import *\n",
    "import matplotlib.pyplot as plt"
   ]
  },
  {
   "cell_type": "markdown",
   "id": "d32b0894",
   "metadata": {},
   "source": [
    "# Harcore bosons: Exact Diagonalization"
   ]
  },
  {
   "cell_type": "markdown",
   "id": "2fa258f8",
   "metadata": {},
   "source": [
    "#### We consider the hardcore boson hamiltonian in 3D. We set N = 2 and therefore have the total eight sites.\n",
    "#### Since we are dealing with the hardcore boson case, we only consider the hopping term and the chemical term\n",
    "#### We can also map the creation operator to sigmap and annihilation operator to sigmam\n",
    "#### For the basis order, we will use (0,0,0), (1,0,0), (0,1,0), (0,0,1), (1,1,0), (1,0,1), (0,1,1), (1,1,1)\n",
    "\n",
    "<div>\n",
    "<img src=\"Lattice.png\" width=\"400\"/>\n",
    "</div>"
   ]
  },
  {
   "cell_type": "markdown",
   "id": "f66b3cd2",
   "metadata": {},
   "source": [
    "### Function implementation for the simulation"
   ]
  },
  {
   "cell_type": "code",
   "execution_count": 4,
   "id": "39bee6c3",
   "metadata": {},
   "outputs": [],
   "source": [
    "####### Hopping and Number operator #######\n",
    "\n",
    "# The input variable (i, j) represent the index for each site\n",
    "# Implements the hopping part: sigma(a_dag(i) * a(j) + a_dag(j) * a_dag(i))\n",
    "def hopping(i, j): \n",
    "    H = qeye(1)\n",
    "    for k in range(8): \n",
    "        if k==i: H = tensor(H, sigmap())\n",
    "        elif k==j: H = tensor(H, sigmam())\n",
    "        else: H = tensor(H, qeye(2))\n",
    "    \n",
    "    H = H + H.dag() # Hermicity\n",
    "    return H\n",
    "\n",
    "# Implements the local number operator: a_dag(i) * a(i)\n",
    "def local_number(i):\n",
    "    H = qeye(1)\n",
    "    for k in range(8):\n",
    "        if k==i: \n",
    "            H = tensor(H, sigmap() * sigmam())\n",
    "        else: H = tensor(H, qeye(2))\n",
    "    return H\n",
    "        \n",
    "# Implements the total number operator: sigma(a_dag(i) * a(i))    \n",
    "def total_number():\n",
    "    H = local_number(0)\n",
    "    for i in range(1, 8):\n",
    "        H = H + local_number(i)\n",
    "    return H\n",
    "    \n",
    "####### Total Hamiltonian #######\n",
    "def hardcoreboson_lattice_hamiltonian(t, mu):\n",
    "    # Hopping term\n",
    "    Hhop = -t * (hopping(0, 1) + hopping(0, 2) + hopping(0, 3))\n",
    "    Hhop = Hhop -t * (hopping(1, 0) + hopping(1, 4) + hopping(1, 5))\n",
    "    Hhop = Hhop -t * (hopping(2, 0) + hopping(2, 4) + hopping(2, 6))\n",
    "    Hhop = Hhop -t * (hopping(3, 0) + hopping(3, 5) + hopping(3, 6))\n",
    "    Hhop = Hhop -t * (hopping(4, 1) + hopping(4, 2) + hopping(4, 7))\n",
    "    Hhop = Hhop -t * (hopping(5, 1) + hopping(5, 3) + hopping(5, 7))\n",
    "    Hhop = Hhop -t * (hopping(6, 2) + hopping(6, 3) + hopping(6, 7))\n",
    "    Hhop = Hhop -t * (hopping(7, 4) + hopping(7, 5) + hopping(7, 6))\n",
    "    \n",
    "    # Chemical term\n",
    "    H = Hhop\n",
    "    H = H + (6 * t - mu) * total_number()\n",
    "    \n",
    "    return H\n",
    "\n",
    "####### Partition function #######\n",
    "# beta is defined by the 1 / (k * T) where k is the Boltzmann constant, T is the temperature\n",
    "def partition(H, beta):\n",
    "    Z = 0\n",
    "    eigen_energy_spectrum = H.eigenenergies()\n",
    "    \n",
    "    for i in range(len(eigen_energy_spectrum)):\n",
    "        Z = Z + np.exp(-beta * eigen_energy_spectrum[i])\n",
    "    return Z\n",
    "\n",
    "####### Average particle number and average energy #######\n",
    "def average_particle_number(H, beta):\n",
    "    Z = partition(H, beta)\n",
    "    N = total_number()\n",
    "    \n",
    "    n_average = (N * (-beta * H).expm()).tr() / Z\n",
    "    return n_average\n",
    "\n",
    "def average_energy(H_mu0, H, beta):\n",
    "    Z = partition(H, beta)\n",
    "    \n",
    "    e_average = (H_mu0 * (-beta * H).expm()).tr() / Z\n",
    "    return e_average\n"
   ]
  },
  {
   "cell_type": "markdown",
   "id": "33e45481",
   "metadata": {},
   "source": [
    "### Real simulation: part (a)"
   ]
  },
  {
   "cell_type": "code",
   "execution_count": 5,
   "id": "8bcedce3",
   "metadata": {},
   "outputs": [
    {
     "name": "stdout",
     "output_type": "stream",
     "text": [
      "Average particle number:1.449191665713672\n",
      "Average energy: 0.6365022749532688\n"
     ]
    }
   ],
   "source": [
    "####### Hamiltonian setting #######\n",
    "t = 1\n",
    "beta = 12\n",
    "mu = 1.4\n",
    "\n",
    "# Average particle number calculation\n",
    "H = hardcoreboson_lattice_hamiltonian(t, mu)\n",
    "n_average = average_particle_number(H, beta)\n",
    "print('Average particle number:' + str(n_average))\n",
    "\n",
    "# Average energy calculation\n",
    "H_mu0 = hardcoreboson_lattice_hamiltonian(t, mu = 0)\n",
    "e_average = average_energy(H_mu0, H, beta)\n",
    "print('Average energy: ' + str(e_average))\n"
   ]
  },
  {
   "cell_type": "markdown",
   "id": "649a6ee2",
   "metadata": {},
   "source": [
    "### Real simulation: part (b)"
   ]
  },
  {
   "cell_type": "code",
   "execution_count": 6,
   "id": "a5f8bc32",
   "metadata": {},
   "outputs": [
    {
     "data": {
      "text/plain": [
       "Text(0.5, 1.0, 'Hardcore boson periodic cubic lattice model')"
      ]
     },
     "execution_count": 6,
     "metadata": {},
     "output_type": "execute_result"
    },
    {
     "data": {
      "image/png": "[encoded data removed]",
      "text/plain": [
       "<Figure size 432x288 with 1 Axes>"
      ]
     },
     "metadata": {},
     "output_type": "display_data"
    }
   ],
   "source": [
    "####### Hamiltonian setting #######\n",
    "t = 1\n",
    "beta = 12\n",
    "\n",
    "N = 100\n",
    "mu_min = 0\n",
    "mu_max = 5\n",
    "mu_array = np.linspace(mu_min, mu_max, N)\n",
    "\n",
    "# Average particle number calculation\n",
    "average_particle_number_array = []\n",
    "\n",
    "for mu in mu_array:\n",
    "    H = hardcoreboson_lattice_hamiltonian(t, mu)\n",
    "    n_average = average_particle_number(H, beta)\n",
    "    average_particle_number_array.append(n_average)\n",
    "\n",
    "# Plot the result\n",
    "plt.rcParams['figure.facecolor'] = 'white'\n",
    "plt.plot(mu_array, average_particle_number_array, 'bo')\n",
    "plt.xlabel('mu', fontsize = 12)\n",
    "plt.ylabel('Average particle number', fontsize = 12)\n",
    "plt.title('Hardcore boson periodic cubic lattice model', fontsize = 16)\n",
    "\n",
    "\n"
   ]
  },
  {
   "cell_type": "code",
   "execution_count": null,
   "id": "f4866e9a",
   "metadata": {},
   "outputs": [],
   "source": []
  }
 ],
 "metadata": {
  "kernelspec": {
   "display_name": "Python 3.9.10 ('base')",
   "language": "python",
   "name": "python3"
  },
  "language_info": {
   "codemirror_mode": {
    "name": "ipython",
    "version": 3
   },
   "file_extension": ".py",
   "mimetype": "text/x-python",
   "name": "python",
   "nbconvert_exporter": "python",
   "pygments_lexer": "ipython3",
   "version": "3.9.10"
  },
  "vscode": {
   "interpreter": {
    "hash": "0b02a0ef022d45bcc180fff1def0af5074bd7f4df6b707b70d1d96a855118f8f"
   }
  }
 },
 "nbformat": 4,
 "nbformat_minor": 5
}
