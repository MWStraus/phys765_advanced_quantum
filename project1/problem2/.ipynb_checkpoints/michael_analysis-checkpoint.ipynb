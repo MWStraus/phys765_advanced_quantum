{
 "cells": [
  {
   "cell_type": "code",
   "execution_count": 1,
   "metadata": {},
   "outputs": [],
   "source": [
    "import numpy as _np\n",
    "import spinmob as _s\n",
    "import matplotlib.pyplot as _plt\n",
    "import os as _os\n",
    "from scipy.optimize import curve_fit\n",
    "import math as _math\n",
    "from IPython.core.display import clear_output\n",
    "from time import sleep\n",
    "import pylab as pl\n",
    "from IPython import display"
   ]
  },
  {
   "cell_type": "code",
   "execution_count": 2,
   "metadata": {},
   "outputs": [
    {
     "name": "stdout",
     "output_type": "stream",
     "text": [
      "c:\\Users\\MWStr\\code\\phys765_advanced_quantum\\project1\\problem2\n"
     ]
    }
   ],
   "source": [
    "current_folder = _os.getcwd()\n",
    "print(current_folder)\n",
    "data  = _s.data.load(path=current_folder+\"\\epislon_0.001.csv\")\n",
    "es = _np.array(data['e_tidle'])\n",
    "ns = _np.array(data['n'])"
   ]
  },
  {
   "cell_type": "code",
   "execution_count": 2,
   "metadata": {},
   "outputs": [
    {
     "data": {
      "text/plain": [
       "[1,\n",
       " 2,\n",
       " 4,\n",
       " 5,\n",
       " 8,\n",
       " 10,\n",
       " 16,\n",
       " 20,\n",
       " 25,\n",
       " 32,\n",
       " 40,\n",
       " 50,\n",
       " 80,\n",
       " 100,\n",
       " 125,\n",
       " 160,\n",
       " 200,\n",
       " 250,\n",
       " 400,\n",
       " 500,\n",
       " 625,\n",
       " 800,\n",
       " 1000]"
      ]
     },
     "execution_count": 2,
     "metadata": {},
     "output_type": "execute_result"
    }
   ],
   "source": [
    "block_sizes= []\n",
    "block_size = 1\n",
    "ii=0\n",
    "while ii<23:\n",
    "    if int(1e5)%block_size==0:\n",
    "        block_sizes.append(block_size)\n",
    "        block_size+=1\n",
    "        ii+=1\n",
    "    else:\n",
    "        block_size += 1\n",
    "    \n",
    "\n",
    "block_sizes"
   ]
  },
  {
   "cell_type": "code",
   "execution_count": 3,
   "metadata": {},
   "outputs": [],
   "source": [
    "def get_data(ep_string):\n",
    "    current_folder = _os.getcwd()\n",
    "    data  = _s.data.load(path=current_folder+\"\\epislon_\"+ep_string+\".csv\")\n",
    "    es = _np.array(data['e_tidle'])\n",
    "    ns = _np.array(data['n'])\n",
    "    return ns ,es\n",
    "\n",
    "def exp_decay(x, gamma, amp):\n",
    "    return amp*_np.exp(-x/gamma)\n",
    "\n",
    "def correlation(data, data_average):\n",
    "    data_correlations = []\n",
    "    correlation_distance = _np.array(range(len(data)-1))+1\n",
    "    for distance in correlation_distance:\n",
    "        correlations = data[:-distance]*data[distance::]-data_average**2\n",
    "        data_correlations.append(_np.average(correlations))\n",
    "    return data_correlations, correlation_distance\n",
    "\n",
    "def fit_exp_decay(data, distacnes):\n",
    "    p0 = [data[0], 20]\n",
    "    popt, cov = curve_fit(exp_decay, distacnes[:1000], data[:1000], p0=p0)\n",
    "    return [popt, cov]\n",
    "\n",
    "def plot_exp_decay_fit(correlation, distances, popt, ep_str, n_or_e):\n",
    "    _plt.plot(distances, correlation, label=\"data\")\n",
    "    _plt.axhline(0, linestyle=\"--\", color=\"grey\", alpha=0.5)\n",
    "    _plt.plot(distances[:1000], exp_decay(distances[:1000], *popt), label=\"fit\")\n",
    "    _plt.title(n_or_e+\" correlation for ε=\"+ep_str)\n",
    "    _plt.ylabel('Correlation', size=20)\n",
    "    _plt.xlabel(\"d\", size=20)\n",
    "    _plt.legend()\n",
    "    _plt.show()\n",
    "    sleep(5)\n",
    "    display.clear_output(wait=True)\n",
    "    display.display(pl.gcf())\n",
    "    done = input(\"Done with graph?\")\n",
    "    _plt.close()\n",
    "\n",
    "def choose_unc(es, es_popt, ns, ns_popt):\n",
    "    es_uncs = []\n",
    "    ns_uncs = []\n",
    "    num_trials = len(es)\n",
    "    for position, block in enumerate(block_sizes):\n",
    "        blocked_es = _np.reshape(es, (int(num_trials/block), block))\n",
    "        block_avg_es = _np.average(blocked_es, axis=1)\n",
    "        unc = _np.std(block_avg_es)/_np.sqrt(len(block_avg_es))\n",
    "        es_uncs.append(unc)\n",
    "\n",
    "        blocked_ns = _np.reshape(ns, (int(num_trials/block), block))\n",
    "        block_avg_ns = _np.average(blocked_ns, axis=1)\n",
    "        unc = _np.std(block_avg_ns)/_np.sqrt(len(block_avg_ns))\n",
    "        ns_uncs.append(unc)\n",
    "\n",
    "        print(\"E Unc: \", es_uncs[-1], \"E correlation/unc: \", _np.sqrt(exp_decay(block, *es_popt))/unc)\n",
    "        print(\"n Unc: \", ns_uncs[-1], \"n correlation/unc: \", _np.sqrt(exp_decay(block, *ns_popt))/unc)\n",
    "        print(\" num blocks: \", len(block_avg_es), \" blocksize: \", block, \"choice number\", position)\n",
    "        print(\"\\r\\r\\r\")\n",
    "    which_block = input(\"Which block_size?\")\n",
    "    clear_output()\n",
    "    input(\"Move on?\")\n",
    "    return [block_sizes[which_block], es_uncs[which_block], ns_uncs]\n"
   ]
  },
  {
   "cell_type": "code",
   "execution_count": 4,
   "metadata": {},
   "outputs": [
    {
     "data": {
      "image/png": "[encoded data removed]",
      "text/plain": [
       "<Figure size 640x480 with 1 Axes>"
      ]
     },
     "metadata": {},
     "output_type": "display_data"
    },
    {
     "ename": "KeyboardInterrupt",
     "evalue": "Interrupted by user",
     "output_type": "error",
     "traceback": [
      "\u001b[1;31m---------------------------------------------------------------------------\u001b[0m",
      "\u001b[1;31mKeyboardInterrupt\u001b[0m                         Traceback (most recent call last)",
      "\u001b[1;32m<ipython-input-4-16b1c6569ead>\u001b[0m in \u001b[0;36m<module>\u001b[1;34m\u001b[0m\n\u001b[0;32m     18\u001b[0m \u001b[1;33m\u001b[0m\u001b[0m\n\u001b[0;32m     19\u001b[0m     \u001b[0mes_popt\u001b[0m\u001b[1;33m,\u001b[0m \u001b[0mes_cov\u001b[0m \u001b[1;33m=\u001b[0m \u001b[0mfit_exp_decay\u001b[0m\u001b[1;33m(\u001b[0m\u001b[0mes_correlation\u001b[0m\u001b[1;33m,\u001b[0m \u001b[0mes_distacnes\u001b[0m\u001b[1;33m)\u001b[0m\u001b[1;33m\u001b[0m\u001b[1;33m\u001b[0m\u001b[0m\n\u001b[1;32m---> 20\u001b[1;33m     \u001b[0mplot_exp_decay_fit\u001b[0m\u001b[1;33m(\u001b[0m\u001b[0mes_correlation\u001b[0m\u001b[1;33m,\u001b[0m \u001b[0mes_distacnes\u001b[0m\u001b[1;33m,\u001b[0m \u001b[0mes_popt\u001b[0m\u001b[1;33m,\u001b[0m \u001b[0mep_str\u001b[0m\u001b[1;33m,\u001b[0m \u001b[1;34m\"E\"\u001b[0m\u001b[1;33m)\u001b[0m\u001b[1;33m\u001b[0m\u001b[1;33m\u001b[0m\u001b[0m\n\u001b[0m\u001b[0;32m     21\u001b[0m \u001b[1;33m\u001b[0m\u001b[0m\n\u001b[0;32m     22\u001b[0m     \u001b[0mns_popt\u001b[0m\u001b[1;33m,\u001b[0m \u001b[0mns_cov\u001b[0m \u001b[1;33m=\u001b[0m \u001b[0mfit_exp_decay\u001b[0m\u001b[1;33m(\u001b[0m\u001b[0mns_correlation\u001b[0m\u001b[1;33m,\u001b[0m \u001b[0mns_distances\u001b[0m\u001b[1;33m)\u001b[0m\u001b[1;33m\u001b[0m\u001b[1;33m\u001b[0m\u001b[0m\n",
      "\u001b[1;32m<ipython-input-3-70fadf6cf4ad>\u001b[0m in \u001b[0;36mplot_exp_decay_fit\u001b[1;34m(correlation, distances, popt, ep_str, n_or_e)\u001b[0m\n\u001b[0;32m     34\u001b[0m     \u001b[0mdisplay\u001b[0m\u001b[1;33m.\u001b[0m\u001b[0mclear_output\u001b[0m\u001b[1;33m(\u001b[0m\u001b[0mwait\u001b[0m\u001b[1;33m=\u001b[0m\u001b[1;32mTrue\u001b[0m\u001b[1;33m)\u001b[0m\u001b[1;33m\u001b[0m\u001b[1;33m\u001b[0m\u001b[0m\n\u001b[0;32m     35\u001b[0m     \u001b[0mdisplay\u001b[0m\u001b[1;33m.\u001b[0m\u001b[0mdisplay\u001b[0m\u001b[1;33m(\u001b[0m\u001b[0mpl\u001b[0m\u001b[1;33m.\u001b[0m\u001b[0mgcf\u001b[0m\u001b[1;33m(\u001b[0m\u001b[1;33m)\u001b[0m\u001b[1;33m)\u001b[0m\u001b[1;33m\u001b[0m\u001b[1;33m\u001b[0m\u001b[0m\n\u001b[1;32m---> 36\u001b[1;33m     \u001b[0mdone\u001b[0m \u001b[1;33m=\u001b[0m \u001b[0minput\u001b[0m\u001b[1;33m(\u001b[0m\u001b[1;34m\"Done with graph?\"\u001b[0m\u001b[1;33m)\u001b[0m\u001b[1;33m\u001b[0m\u001b[1;33m\u001b[0m\u001b[0m\n\u001b[0m\u001b[0;32m     37\u001b[0m     \u001b[0m_plt\u001b[0m\u001b[1;33m.\u001b[0m\u001b[0mclose\u001b[0m\u001b[1;33m(\u001b[0m\u001b[1;33m)\u001b[0m\u001b[1;33m\u001b[0m\u001b[1;33m\u001b[0m\u001b[0m\n\u001b[0;32m     38\u001b[0m \u001b[1;33m\u001b[0m\u001b[0m\n",
      "\u001b[1;32mc:\\users\\mwstr\\anaconda3\\envs\\code3\\lib\\site-packages\\ipykernel\\kernelbase.py\u001b[0m in \u001b[0;36mraw_input\u001b[1;34m(self, prompt)\u001b[0m\n\u001b[0;32m    861\u001b[0m             \u001b[0mself\u001b[0m\u001b[1;33m.\u001b[0m\u001b[0m_parent_ident\u001b[0m\u001b[1;33m,\u001b[0m\u001b[1;33m\u001b[0m\u001b[1;33m\u001b[0m\u001b[0m\n\u001b[0;32m    862\u001b[0m             \u001b[0mself\u001b[0m\u001b[1;33m.\u001b[0m\u001b[0m_parent_header\u001b[0m\u001b[1;33m,\u001b[0m\u001b[1;33m\u001b[0m\u001b[1;33m\u001b[0m\u001b[0m\n\u001b[1;32m--> 863\u001b[1;33m             \u001b[0mpassword\u001b[0m\u001b[1;33m=\u001b[0m\u001b[1;32mFalse\u001b[0m\u001b[1;33m,\u001b[0m\u001b[1;33m\u001b[0m\u001b[1;33m\u001b[0m\u001b[0m\n\u001b[0m\u001b[0;32m    864\u001b[0m         )\n\u001b[0;32m    865\u001b[0m \u001b[1;33m\u001b[0m\u001b[0m\n",
      "\u001b[1;32mc:\\users\\mwstr\\anaconda3\\envs\\code3\\lib\\site-packages\\ipykernel\\kernelbase.py\u001b[0m in \u001b[0;36m_input_request\u001b[1;34m(self, prompt, ident, parent, password)\u001b[0m\n\u001b[0;32m    902\u001b[0m             \u001b[1;32mexcept\u001b[0m \u001b[0mKeyboardInterrupt\u001b[0m\u001b[1;33m:\u001b[0m\u001b[1;33m\u001b[0m\u001b[1;33m\u001b[0m\u001b[0m\n\u001b[0;32m    903\u001b[0m                 \u001b[1;31m# re-raise KeyboardInterrupt, to truncate traceback\u001b[0m\u001b[1;33m\u001b[0m\u001b[1;33m\u001b[0m\u001b[1;33m\u001b[0m\u001b[0m\n\u001b[1;32m--> 904\u001b[1;33m                 \u001b[1;32mraise\u001b[0m \u001b[0mKeyboardInterrupt\u001b[0m\u001b[1;33m(\u001b[0m\u001b[1;34m\"Interrupted by user\"\u001b[0m\u001b[1;33m)\u001b[0m \u001b[1;32mfrom\u001b[0m \u001b[1;32mNone\u001b[0m\u001b[1;33m\u001b[0m\u001b[1;33m\u001b[0m\u001b[0m\n\u001b[0m\u001b[0;32m    905\u001b[0m             \u001b[1;32mexcept\u001b[0m \u001b[0mException\u001b[0m \u001b[1;32mas\u001b[0m \u001b[0me\u001b[0m\u001b[1;33m:\u001b[0m\u001b[1;33m\u001b[0m\u001b[1;33m\u001b[0m\u001b[0m\n\u001b[0;32m    906\u001b[0m                 \u001b[0mself\u001b[0m\u001b[1;33m.\u001b[0m\u001b[0mlog\u001b[0m\u001b[1;33m.\u001b[0m\u001b[0mwarning\u001b[0m\u001b[1;33m(\u001b[0m\u001b[1;34m\"Invalid Message:\"\u001b[0m\u001b[1;33m,\u001b[0m \u001b[0mexc_info\u001b[0m\u001b[1;33m=\u001b[0m\u001b[1;32mTrue\u001b[0m\u001b[1;33m)\u001b[0m\u001b[1;33m\u001b[0m\u001b[1;33m\u001b[0m\u001b[0m\n",
      "\u001b[1;31mKeyboardInterrupt\u001b[0m: Interrupted by user"
     ]
    }
   ],
   "source": [
    "used_block_sizes = []\n",
    "es_avg = []\n",
    "es_unc = []\n",
    "ns_avg = []\n",
    "ns_unc = []\n",
    "epsilon_strings = [\"0.001\"]\n",
    "for ep_str in epsilon_strings:\n",
    "    es, ns = get_data(ep_str)\n",
    "    num_trials = len(es)\n",
    "    trials = _np.array(range(num_trials))\n",
    "    es_average = _np.average(es)\n",
    "    ns_average = _np.average(ns)\n",
    "    print(\"check 1\")\n",
    "    es_correlation, es_distacnes = correlation(es, es_average)\n",
    "    print(\"check 2\")\n",
    "    ns_correlation, ns_distances = correlation(ns, ns_average)\n",
    "    print(\"check 3\")\n",
    "\n",
    "    es_popt, es_cov = fit_exp_decay(es_correlation, es_distacnes)\n",
    "    plot_exp_decay_fit(es_correlation, es_distacnes, es_popt, ep_str, \"E\")\n",
    "\n",
    "    ns_popt, ns_cov = fit_exp_decay(ns_correlation, ns_distances)\n",
    "    plot_exp_decay_fit(ns_correlation, ns_distances, ns_popt, ep_str, \"n\")\n",
    "    block_size, es_unc, ns_unc = choose_unc(es, es_popt, ns, ns_popt)\n",
    "    used_block_sizes.append(block_size)\n",
    "    es_avg.append(es_average)\n",
    "    es_unc.append(es_unc)\n",
    "    ns_avg.append(ns_average)\n",
    "    ns_unc.append(ns_unc)\n",
    "    input(\"Move on to next ε?\")\n",
    "\n",
    "\n",
    "\n",
    "    "
   ]
  },
  {
   "cell_type": "code",
   "execution_count": 3,
   "metadata": {},
   "outputs": [],
   "source": [
    "num_trials = len(data['n'])\n",
    "trials = _np.array(range(num_trials))\n",
    "es_average = _np.average(data['e_tidle'])\n",
    "ns_average = _np.average(ns)\n",
    "def exp_decay(x, gamma, amp):\n",
    "    return amp*_np.exp(-x/gamma)"
   ]
  },
  {
   "cell_type": "code",
   "execution_count": 135,
   "metadata": {},
   "outputs": [
    {
     "data": {
      "text/plain": [
       "[1,\n",
       " 2,\n",
       " 4,\n",
       " 5,\n",
       " 8,\n",
       " 10,\n",
       " 16,\n",
       " 20,\n",
       " 25,\n",
       " 32,\n",
       " 40,\n",
       " 50,\n",
       " 80,\n",
       " 100,\n",
       " 125,\n",
       " 160,\n",
       " 200,\n",
       " 250,\n",
       " 400,\n",
       " 500,\n",
       " 625,\n",
       " 800,\n",
       " 1000]"
      ]
     },
     "execution_count": 135,
     "metadata": {},
     "output_type": "execute_result"
    }
   ],
   "source": [
    "\n"
   ]
  },
  {
   "cell_type": "code",
   "execution_count": 128,
   "metadata": {},
   "outputs": [
    {
     "data": {
      "text/plain": [
       "97.65625"
      ]
     },
     "execution_count": 128,
     "metadata": {},
     "output_type": "execute_result"
    }
   ],
   "source": [
    "num_trials/block_sizes[-1]"
   ]
  },
  {
   "cell_type": "code",
   "execution_count": 4,
   "metadata": {},
   "outputs": [
    {
     "name": "stdout",
     "output_type": "stream",
     "text": [
      "99.9900000000000143\r"
     ]
    }
   ],
   "source": [
    "es_correlation = []\n",
    "es_correlation_distance = _np.array(range(len(data['e_tidle'])-1))+1\n",
    "for distance in es_correlation_distance:\n",
    "    correlations = es[:-distance]*es[distance::]-es_average**2\n",
    "    es_correlation.append(_np.average(correlations))\n",
    "    if distance%10==0:\n",
    "        print(distance/num_trials*100, end = \"\\r\")"
   ]
  },
  {
   "cell_type": "code",
   "execution_count": 5,
   "metadata": {},
   "outputs": [
    {
     "name": "stdout",
     "output_type": "stream",
     "text": [
      "99.9900000000000143\r"
     ]
    }
   ],
   "source": [
    "ns_correlation = []\n",
    "ns_correlation_distance = _np.array(range(len(ns)-1))+1\n",
    "for distance in es_correlation_distance:\n",
    "    correlations = ns[:-distance]*ns[distance::]-ns_average**2\n",
    "    ns_correlation.append(_np.average(correlations))\n",
    "    if distance%10==0:\n",
    "        print(distance/num_trials*100, end = \"\\r\")"
   ]
  },
  {
   "cell_type": "code",
   "execution_count": 14,
   "metadata": {},
   "outputs": [
    {
     "name": "stdout",
     "output_type": "stream",
     "text": [
      "[5.11861328 1.13442761]\n",
      "[5.91074041 0.24786995]\n"
     ]
    }
   ],
   "source": [
    "es_p0 = [20, 1]\n",
    "es_popt, es_cov = curve_fit(exp_decay, es_correlation_distance[:1000], es_correlation[:1000], p0=es_p0)\n",
    "print(es_popt)\n",
    "ns_p0 = [20, 1]\n",
    "ns_popt, ns_cov = curve_fit(exp_decay, ns_correlation_distance[:1000], ns_correlation[:1000], p0=ns_p0)\n",
    "print(ns_popt)"
   ]
  },
  {
   "cell_type": "code",
   "execution_count": 11,
   "metadata": {},
   "outputs": [
    {
     "data": {
      "text/plain": [
       "<matplotlib.legend.Legend at 0x24c795a46a0>"
      ]
     },
     "execution_count": 11,
     "metadata": {},
     "output_type": "execute_result"
    }
   ],
   "source": [
    "_plt.plot(es_correlation_distance, es_correlation, label=\"data\")\n",
    "_plt.axhline(0, linestyle=\"--\", color=\"grey\", alpha=0.5)\n",
    "_plt.plot(es_correlation_distance[:1000], exp_decay(es_correlation_distance[:1000], *es_popt), label=\"fit\")\n",
    "_plt.plot(es_correlation_distance[:1000], exp_decay(es_correlation_distance[:1000], *es_p0), label=\"guess\")\n",
    "_plt.title(\"energy correlation\")\n",
    "_plt.ylabel(r'Average over i of $E_{i}E_{i+d}-\\langle E\\rangle^2$', size=20)\n",
    "_plt.xlabel(\"d\", size=20)\n",
    "_plt.legend()"
   ]
  },
  {
   "cell_type": "code",
   "execution_count": 16,
   "metadata": {},
   "outputs": [
    {
     "data": {
      "text/plain": [
       "Text(0.5, 0, 'd')"
      ]
     },
     "execution_count": 16,
     "metadata": {},
     "output_type": "execute_result"
    }
   ],
   "source": [
    "_plt.plot(ns_correlation_distance, ns_correlation)\n",
    "_plt.axhline(0, linestyle=\"--\", color=\"grey\", alpha=0.5)\n",
    "_plt.title(\"energy correlation\")\n",
    "_plt.ylabel(r'Average over i of $n_{i}n_{i+d}-\\langle n\\rangle^2$', size=20)\n",
    "_plt.plot(ns_correlation_distance[:1000], exp_decay(ns_correlation_distance[:1000], *ns_popt), label=\"fit\")\n",
    "_plt.plot(ns_correlation_distance[:1000], exp_decay(ns_correlation_distance[:1000], *ns_p0), label=\"guess\")\n",
    "_plt.xlabel(\"d\", size=20)"
   ]
  },
  {
   "cell_type": "code",
   "execution_count": 49,
   "metadata": {},
   "outputs": [],
   "source": [
    "block_sizes = []\n",
    "block_size=1"
   ]
  },
  {
   "cell_type": "code",
   "execution_count": 76,
   "metadata": {},
   "outputs": [
    {
     "name": "stdout",
     "output_type": "stream",
     "text": [
      "[1.5 3.5 5.5]\n"
     ]
    },
    {
     "data": {
      "text/plain": [
       "1.632993161855452"
      ]
     },
     "execution_count": 76,
     "metadata": {},
     "output_type": "execute_result"
    }
   ],
   "source": [
    "a = _np.reshape([1,2,3,4,5,6], [3, int(6/3)])\n",
    "a_block_avg = _np.average(a, axis=1)\n",
    "print(a_block_avg)\n",
    "_np.std(a_block_avg)"
   ]
  },
  {
   "cell_type": "code",
   "execution_count": 122,
   "metadata": {},
   "outputs": [
    {
     "name": "stdout",
     "output_type": "stream",
     "text": [
      "Unc:  0.0033851110377159954  correlation/unc:  285.3595514309508  num blocks:  100000  blocksize:  1\n",
      "Unc:  0.0045662077783794885  correlation/unc:  191.86095528300302  num blocks:  50000  blocksize:  2\n",
      "Unc:  0.006033420464895698  correlation/unc:  119.4352598999005  num blocks:  25000  blocksize:  4\n",
      "Unc:  0.006542935148310733  correlation/unc:  99.88504618813872  num blocks:  20000  blocksize:  5\n",
      "Unc:  0.007623414043531358  correlation/unc:  63.95203978635815  num blocks:  12500  blocksize:  8\n",
      "Unc:  0.008105667471247784  correlation/unc:  49.473086388020754  num blocks:  10000  blocksize:  10\n",
      "Unc:  0.00896730728953173  correlation/unc:  24.886130406026314  num blocks:  6250  blocksize:  16\n",
      "Unc:  0.009275055931427642  correlation/unc:  16.278359880169685  num blocks:  5000  blocksize:  20\n",
      "Unc:  0.009596206518868682  correlation/unc:  9.654111145708669  num blocks:  4000  blocksize:  25\n",
      "Unc:  0.010004733049067882  correlation/unc:  4.67352910420928  num blocks:  3125  blocksize:  32\n",
      "Unc:  0.00995846638996186  correlation/unc:  2.1491835639928962  num blocks:  2500  blocksize:  40\n",
      "Unc:  0.01025054162227538  correlation/unc:  0.786119472431394  num blocks:  2000  blocksize:  50\n",
      "Unc:  0.010326324779793523  correlation/unc:  0.041648347260359944  num blocks:  1250  blocksize:  80\n",
      "Unc:  0.010386196576332562  correlation/unc:  0.005869833787272847  num blocks:  1000  blocksize:  100\n",
      "Unc:  0.010493277106345547  correlation/unc:  0.0005053528126337139  num blocks:  800  blocksize:  125\n",
      "Unc:  0.010434919220472088  correlation/unc:  1.6642157188922148e-05  num blocks:  625  blocksize:  160\n",
      "Unc:  0.010570569614631833  correlation/unc:  3.30124609085219e-07  num blocks:  500  blocksize:  200\n",
      "Unc:  0.010774681277833181  correlation/unc:  2.4502975892380677e-09  num blocks:  400  blocksize:  250\n",
      "Unc:  0.010050481224520767  correlation/unc:  1.1375679079846764e-15  num blocks:  250  blocksize:  400\n",
      "Unc:  0.010774718709914323  correlation/unc:  6.073684044042766e-20  num blocks:  200  blocksize:  500\n",
      "Unc:  0.01085193300433409  correlation/unc:  3.002399431041058e-25  num blocks:  160  blocksize:  625\n",
      "Unc:  0.009935350528961388  correlation/unc:  1.2352554803974222e-32  num blocks:  125  blocksize:  800\n",
      "Unc:  0.009926360186672431  correlation/unc:  4.0507724828250744e-41  num blocks:  100  blocksize:  1000\n"
     ]
    }
   ],
   "source": [
    "uncs = []\n",
    "for block in block_sizes:\n",
    "    blocked_es = _np.reshape(es, (int(num_trials/block), block))\n",
    "    block_avg_es = _np.average(blocked_es, axis=1)\n",
    "    unc = _np.std(block_avg_es)/_np.sqrt(len(block_avg_es))\n",
    "    stds.append(unc)\n",
    "    print( \"Unc: \", unc,\" correlation/unc: \", _np.sqrt(exp_decay(block, *es_popt))/unc, \n",
    "           \" num blocks: \", len(block_avg_es), \" blocksize: \", block)\n"
   ]
  },
  {
   "cell_type": "code",
   "execution_count": 123,
   "metadata": {},
   "outputs": [
    {
     "data": {
      "text/plain": [
       "0.64827"
      ]
     },
     "execution_count": 123,
     "metadata": {},
     "output_type": "execute_result"
    }
   ],
   "source": [
    "_np.average(es)"
   ]
  },
  {
   "cell_type": "code",
   "execution_count": 91,
   "metadata": {},
   "outputs": [
    {
     "data": {
      "text/plain": [
       "0.64827"
      ]
     },
     "execution_count": 91,
     "metadata": {},
     "output_type": "execute_result"
    }
   ],
   "source": [
    "es_average"
   ]
  },
  {
   "cell_type": "code",
   "execution_count": 92,
   "metadata": {},
   "outputs": [
    {
     "data": {
      "text/plain": [
       "0.14480342113667874"
      ]
     },
     "execution_count": 92,
     "metadata": {},
     "output_type": "execute_result"
    }
   ],
   "source": [
    "stds[12]/es_average"
   ]
  },
  {
   "cell_type": "code",
   "execution_count": 103,
   "metadata": {},
   "outputs": [],
   "source": [
    "def unc(nums):\n",
    "    npnums = _np.array(nums)\n",
    "    mean = _np.average(npnums)\n",
    "    errors = (npnums-mean)**2\n",
    "    std = _np.sqrt(_np.sum(errors/len(errors)))\n",
    "    return std\n"
   ]
  },
  {
   "cell_type": "code",
   "execution_count": 97,
   "metadata": {},
   "outputs": [],
   "source": [
    "a = _np.array([1,2,3])\n",
    "b = [1,2,3,1,2,3]\n"
   ]
  },
  {
   "cell_type": "code",
   "execution_count": 104,
   "metadata": {},
   "outputs": [
    {
     "name": "stdout",
     "output_type": "stream",
     "text": [
      "0.816496580927726\n",
      "0.816496580927726\n",
      "0.816496580927726\n",
      "0.816496580927726\n"
     ]
    }
   ],
   "source": [
    "print(unc(a))\n",
    "print(_np.std(a))\n",
    "print(unc(b))\n",
    "print(_np.std(b))"
   ]
  },
  {
   "cell_type": "code",
   "execution_count": 121,
   "metadata": {},
   "outputs": [
    {
     "name": "stdout",
     "output_type": "stream",
     "text": [
      "[[1 2 3]\n",
      " [4 5 6]]\n"
     ]
    },
    {
     "data": {
      "text/plain": [
       "array([2., 5.])"
      ]
     },
     "execution_count": 121,
     "metadata": {},
     "output_type": "execute_result"
    }
   ],
   "source": [
    "b = [1,2,3,4,5,6]\n",
    "c = _np.reshape(b, (2,3))\n",
    "print(c)\n",
    "_np.average(c, axis=1)"
   ]
  },
  {
   "cell_type": "code",
   "execution_count": 125,
   "metadata": {},
   "outputs": [
    {
     "data": {
      "text/plain": [
       "23"
      ]
     },
     "execution_count": 125,
     "metadata": {},
     "output_type": "execute_result"
    }
   ],
   "source": [
    "len(block_sizes)"
   ]
  },
  {
   "cell_type": "code",
   "execution_count": 8,
   "metadata": {},
   "outputs": [
    {
     "name": "stdout",
     "output_type": "stream",
     "text": [
      "3\n"
     ]
    }
   ],
   "source": [
    "print(\"1, \\n, 2\")\n",
    "input(\"wait 0\")\n",
    "clear_output()\n",
    "input(\"wait\")\n",
    "print(\"3\")"
   ]
  },
  {
   "cell_type": "code",
   "execution_count": 4,
   "metadata": {},
   "outputs": [],
   "source": []
  },
  {
   "cell_type": "code",
   "execution_count": 155,
   "metadata": {},
   "outputs": [],
   "source": [
    "import sys"
   ]
  },
  {
   "cell_type": "code",
   "execution_count": 159,
   "metadata": {},
   "outputs": [
    {
     "name": "stdout",
     "output_type": "stream",
     "text": [
      "1,2,34,5,6"
     ]
    }
   ],
   "source": [
    "sys.stdout.write(\"1,2,3\")\n",
    "sys.stdout.flush()\n",
    "sys.stdout.write(\"4,5,6\")"
   ]
  },
  {
   "cell_type": "code",
   "execution_count": null,
   "metadata": {},
   "outputs": [],
   "source": []
  }
 ],
 "metadata": {
  "kernelspec": {
   "display_name": "Python 3",
   "language": "python",
   "name": "python3"
  },
  "language_info": {
   "codemirror_mode": {
    "name": "ipython",
    "version": 3
   },
   "file_extension": ".py",
   "mimetype": "text/x-python",
   "name": "python",
   "nbconvert_exporter": "python",
   "pygments_lexer": "ipython3",
   "version": "3.6.10"
  },
  "vscode": {
   "interpreter": {
    "hash": "42a939a256227b0e36c4deaa5bc479c5611cecdcf96637c7dc230fbf2d532ddd"
   }
  }
 },
 "nbformat": 4,
 "nbformat_minor": 2
}
