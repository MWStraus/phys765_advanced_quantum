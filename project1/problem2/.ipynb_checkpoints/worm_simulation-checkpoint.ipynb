{
 "cells": [
  {
   "cell_type": "markdown",
   "metadata": {},
   "source": [
    "# Trying to set out the framework for the worm algorithm\n",
    "### In several places I have put things have 0 added to multiplied by 1 or returning 0. Most of these are just place holders so the code can run.\n"
   ]
  },
  {
   "cell_type": "code",
   "execution_count": 1,
   "metadata": {},
   "outputs": [],
   "source": [
    "import numpy as _np\n",
    "import matplotlib.pyplot as _plt"
   ]
  },
  {
   "cell_type": "markdown",
   "metadata": {},
   "source": [
    "# Set up H and $\\beta$ and other fixed variables"
   ]
  },
  {
   "cell_type": "code",
   "execution_count": 2,
   "metadata": {},
   "outputs": [],
   "source": [
    "something = 0\n",
    "N = 2\n",
    "mu = 0\n",
    "epsilon = 1\n",
    "num_time_steps = int((something)/epsilon)\n",
    "class grid_location(object):\n",
    "    \"\"\"\n",
    "    an object for holding information about what is going on at each grid location\n",
    "    \"\"\"\n",
    "    def __init__(self, something):\n",
    "        self._is_particle = False\n",
    "        self._where_particle_came_from = something #need to specify either stationary or move in x or y or z\n",
    "        self._where_particle_is_going = something\n",
    "    def update_is_particle(is_particle):\n",
    "        self._is_particle = is_particle\n",
    "    def update_where_particle_came_from(where_particle_came_from):\n",
    "        self._where_particle_came_from = where_particle_came_from\n",
    "    def update_where_is_particle_going(where_particle_is_going):\n",
    "        self._where_particle_is_going = where_particle_is_going\n",
    "    \n",
    "    @property\n",
    "    def is_particle():\n",
    "        return self._is_particle\n",
    "    #also need to implement same for where particle is going to and coming from\n",
    "\n",
    "something = 0 #just used whenever I need some variable\n",
    "def H(site1, site2):\n",
    "    \"\"\"\n",
    "    returns matrix elements of H between two sites on the lattice\n",
    "    \"\"\"\n",
    "    return 0 #won't return 0 in final version\n",
    "\n",
    "def local_weight(step):\n",
    "    \"\"\"\n",
    "    return the weight of a single step in the path\n",
    "    \"\"\"\n",
    "    return 0\n",
    "def weight(pathed_grid):\n",
    "    \"\"\"\n",
    "    takes in an array of paths (0 to 8 paths)\n",
    "    \"\"\"\n",
    "    weight = 1\n",
    "    for x in _np.arange(N):\n",
    "        for y in _np.arange(N):\n",
    "            for z in _np.arange(N):\n",
    "                #for each end location check if there is a path\n",
    "                time = num_time_steps-1\n",
    "                loc = [x,y,z] #location\n",
    "                #check if there is a particle at the end location\n",
    "                if something:\n",
    "                    #go through the path updating weight as you follow the path\n",
    "                    while time>0:\n",
    "                        weight *= local_weight(pathed_grid[time, loc[0], loc[1], loc[2]])#something is related to the location\n",
    "                        location = something #update location stepping backwards through the path\n",
    "                        time -=1\n",
    "    return weight\n",
    "                \n",
    "    return 0 #won't return 0 in final version\n",
    "def num_particles(pathed_grid):\n",
    "    return something\n",
    "def energy(pathed_grid):\n",
    "    return something\n",
    "def update_grid(pathed_grid):\n",
    "    \"\"\"\n",
    "    worm update algorithm goes here\n",
    "    \"\"\"\n",
    "    return something #something is a new grid\n",
    "\"\"\"\n",
    "grid has indecies for time steps, x, y and z. Then at each grid location there is a grid_location object that says whether\n",
    "there is a particle, where it came from and where it is going.\n",
    "I think it is good to say where a particle came from each step because the worm algorithm only every  follows a path\n",
    "backwards.\n",
    "\"\"\"\n",
    "grid = _np.zeros(shape=(num_time_steps, N,N,N ,3), dtype=grid_location)"
   ]
  },
  {
   "cell_type": "markdown",
   "metadata": {},
   "source": [
    "# This next box is where the simulation acutally happens"
   ]
  },
  {
   "cell_type": "code",
   "execution_count": 5,
   "metadata": {},
   "outputs": [],
   "source": [
    "num_trials = 10 #I think in one of the lecctures, prof said we should expect this ot take ~1 million trials\n",
    "ns = [] #number of particles in each trial\n",
    "es = [] #energy of path in each trial\n",
    "Ws = [] #weight of paths in each trial\n",
    "for counter in range(int(num_trials)):\n",
    "    w = weight(grid)\n",
    "    Ws.append(w)\n",
    "    ns.append(num_particles(grid))\n",
    "    es.append(energy(grid))\n",
    "    grid = update_grid(grid)\n",
    "    \n",
    "    "
   ]
  },
  {
   "cell_type": "markdown",
   "metadata": {},
   "source": [
    "# Now do analysis, plot results, etc"
   ]
  },
  {
   "cell_type": "code",
   "execution_count": 7,
   "metadata": {},
   "outputs": [
    {
     "name": "stdout",
     "output_type": "stream",
     "text": [
      "[0, 0, 0, 0, 0, 0, 0, 0, 0, 0]\n"
     ]
    }
   ],
   "source": [
    "print(ns)"
   ]
  },
  {
   "cell_type": "code",
   "execution_count": null,
   "metadata": {},
   "outputs": [],
   "source": []
  }
 ],
 "metadata": {
  "kernelspec": {
   "display_name": "Python 3",
   "language": "python",
   "name": "python3"
  },
  "language_info": {
   "codemirror_mode": {
    "name": "ipython",
    "version": 3
   },
   "file_extension": ".py",
   "mimetype": "text/x-python",
   "name": "python",
   "nbconvert_exporter": "python",
   "pygments_lexer": "ipython3",
   "version": "3.8.3"
  }
 },
 "nbformat": 4,
 "nbformat_minor": 4
}
