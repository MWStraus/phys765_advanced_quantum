{
 "cells": [
  {
   "cell_type": "markdown",
   "metadata": {},
   "source": [
    "# Trying to set out the framework for the worm algorithm\n",
    "### In several places I have put things have 0 added to multiplied by 1 or returning 0. Most of these are just place holders so the code can run.\n"
   ]
  },
  {
   "cell_type": "code",
   "execution_count": 1,
   "metadata": {},
   "outputs": [],
   "source": [
    "import numpy as _np\n",
    "import matplotlib.pyplot as _plt\n",
    "import random"
   ]
  },
  {
   "cell_type": "markdown",
   "metadata": {},
   "source": [
    "# Set up H and $\\beta$ and other fixed variables"
   ]
  },
  {
   "cell_type": "code",
   "execution_count": 24,
   "metadata": {},
   "outputs": [],
   "source": [
    "something = 0\n",
    "N = 2\n",
    "mu = 1.4\n",
    "num_time_steps = 10\n",
    "beta = 12\n",
    "epsilon = beta/num_time_steps\n",
    "\n",
    "d = 3 #number of spacial dimension. Not actually fully flexible, but comes up in formulas\n",
    "something = 0 #just used whenever I need a placeholder for incomplete code\n",
    "p_move_foward = _np.exp(mu*epsilon) #the propability of moving forward in time given it is facing forward, either hop or staying\n",
    "p_move_back = 1-_np.exp(mu*epsilon) #the probability of moving backwards giving the worm is facing backwards\n",
    "p_move_hop = epsilon #propability of hopping given the worm is moving forward\n",
    "p_move_forward_straight = 1-2*d*p_move_hop\n",
    "weight_hop = min(p_move_foward,1)*(1-2*d*p_move_hop)\n",
    "wieght_no_hop = min(p_move_foward, 1)*p_move_hop\n",
    "\n",
    "class grid_location(object):\n",
    "    \"\"\"\n",
    "    an object for holding information about what is going on at each grid location\n",
    "    \"\"\"\n",
    "    def __init__(self):\n",
    "        self.is_particle = False #whether or not there is a particle on that location.\n",
    "        \"\"\"for where_particle_came_from/is_going there are 2 numbers. The first is whether is moved in x(0)\n",
    "        y(1) or z(2). The second (-1, 0, +1) is whether the previous/next position was \n",
    "        at the current cordinate, or +1 or -1 from it. For example a trajector that goes (in Cartesian)\n",
    "        (3,4,5)-> (3,5,5)->(2,5,5) would have where_paricle_came_from = [2, 1] and \n",
    "        where_particle_is_going = [1, -1]\n",
    "        Note if the particle is stationary where_particle_came_from = [0,0] or [1,0] or [2,0]. It doesn't matter\"\"\"\n",
    "        self.where_particle_came_from = [0,0]\n",
    "        self.where_particle_is_going = [0,0]\n",
    "\n",
    "def oberservables(pathed_grid):\n",
    "    \"\"\"count up the number of particles and number of hops which gives all information needed to compute\n",
    "    the weight and energy of the path, then returns the number of particles, the weight of the path and the energy\"\"\"\n",
    "    num_particles = 0 #running total of number of particles\n",
    "    num_hops = 0 #running total of number of steps in which those particles hop\n",
    "    #loop through the grid\n",
    "    for x in _np.arange(N):\n",
    "        for y in _np.arange(N):\n",
    "            for z in _np.arange(N):\n",
    "                #for each end location check if there is a path\n",
    "                time = num_time_steps-1 #start at the end time of the grid and work backwards\n",
    "                loc = [x,y,z] #location in space only\n",
    "                if pathed_grid[loc[0], loc[1], loc[2], time].is_particle:\n",
    "                    num_particles += 1\n",
    "                    #go through the path\n",
    "                    while time>0:\n",
    "                        step = pathed_grid[loc[0], loc[1], loc[2], time] #the grid_locaiton object where we are in path\n",
    "                        if step.where_particle_came_from[1]!=0:\n",
    "                            num_hops +=1\n",
    "                        #update location to the previous step on the path\n",
    "                        loc[step.where_particle_came_from[0]] = step.where_particle_came_from[1]\n",
    "                        loc[step.where_particle_came_from[0]] %= N #isn't Python great that %= works just like += but for mod \n",
    "                        time -=1\n",
    "    e_tilda = 2*d*num_particles-1/beta*num_hops\n",
    "    weight = weight_hop**(num_hops)*wieght_no_hop**(num_time_steps*num_particles-num_hops)\n",
    "    return [num_particles, e_tilda, weight]\n",
    "\n",
    "\"\"\"\n",
    "grid has indecies for time steps, x, y and z. Then at each grid location there is a grid_location object that says whether\n",
    "there is a particle, where it came from and where it is going.\n",
    "I think it is good to say where a particle came from each step because the worm algorithm only every  follows a path\n",
    "backwards.\n",
    "\"\"\"\n",
    "grid = _np.full((N,N,N, num_time_steps), grid_location() )"
   ]
  },
  {
   "cell_type": "markdown",
   "metadata": {},
   "source": [
    "# Grid visualization"
   ]
  },
  {
   "cell_type": "code",
   "execution_count": 78,
   "metadata": {},
   "outputs": [],
   "source": [
    "def plot_grid(pathed_grid, t):\n",
    "    \"\"\"This is supposed to plot a 3d grid showing one time step. It should have a green dot at each point where there\n",
    "    is a particle. There should also be a blue line from each particle to where it came from in the previous timestep,\n",
    "    and a red line leading to where it is going on the next time step. Ideally this would eventually lead to an\n",
    "    animated version where it shows each time step for ~1s.\n",
    "    This is currently not working (at least in the edge case where there are not particles, or particles at every point.)\n",
    "    \"\"\"\n",
    "    background_points = []\n",
    "    particle_points = []\n",
    "    particle_going_tos = []\n",
    "    particle_coming_froms = []\n",
    "    for x in range(N):\n",
    "        for y in range(N):\n",
    "            for z in range(N):\n",
    "                current_location = pathed_grid[x,y,z,t]\n",
    "                if not current_location.is_particle:\n",
    "                    background_points.append([x,y,z])\n",
    "                else:\n",
    "                    loc = [x,y,z]\n",
    "                    next_loc = loc.copy()\n",
    "                    next_loc[current_location.where_particle_is_going[0]] += current_location.where_particle_is_going[1]\n",
    "                    next_loc[current_location.where_particle_is_going[0]] %= N\n",
    "                    previous_loc = loc.copy()\n",
    "                    previous_loc[current_location.where_particle_came_from[0]] += current_location.where_particle_came_from[1]\n",
    "                    previous_loc[current_location.where_particle_came_from[0]] %= N\n",
    "                    particle_points.append(loc)\n",
    "                    particle_going_tos.append(next_loc)\n",
    "                    particle_coming_froms.append(previous_loc)\n",
    "                    \n",
    "                \n",
    "    ax = _plt.axes(projection='3d')\n",
    "    \n",
    "    bp =_np.array(background_points).T\n",
    "    print(background_points, bp)\n",
    "    print(particle_points)\n",
    "    \n",
    "    ax.scatter(bp[0], bp[1], bp[2], color=\"grey\", marker=\".\", alpha=\"0.5\")\n",
    "    ax.scatter(*_np.array(particle_points).T)\n",
    "    for i in range(length(particle_points)):\n",
    "        ax.plot(*_np.array([particle_going_tos[i], particle_points[i]]).T, color=\"red\")\n",
    "        ax.plot(*_np.array([particle_coming_froms[i], particle_points[i]]).T, color=\"blue\")"
   ]
  },
  {
   "cell_type": "code",
   "execution_count": 79,
   "metadata": {},
   "outputs": [
    {
     "name": "stdout",
     "output_type": "stream",
     "text": [
      "[] []\n",
      "[[0, 0, 0], [0, 0, 1], [0, 1, 0], [0, 1, 1], [1, 0, 0], [1, 0, 1], [1, 1, 0], [1, 1, 1]]\n"
     ]
    },
    {
     "ename": "IndexError",
     "evalue": "index 0 is out of bounds for axis 0 with size 0",
     "output_type": "error",
     "traceback": [
      "\u001b[1;31m---------------------------------------------------------------------------\u001b[0m",
      "\u001b[1;31mIndexError\u001b[0m                                Traceback (most recent call last)",
      "\u001b[1;32m<ipython-input-79-2818c49b6013>\u001b[0m in \u001b[0;36m<module>\u001b[1;34m\u001b[0m\n\u001b[1;32m----> 1\u001b[1;33m \u001b[0mplot_grid\u001b[0m\u001b[1;33m(\u001b[0m\u001b[0mgrid\u001b[0m\u001b[1;33m,\u001b[0m \u001b[1;36m0\u001b[0m\u001b[1;33m)\u001b[0m\u001b[1;33m\u001b[0m\u001b[1;33m\u001b[0m\u001b[0m\n\u001b[0m",
      "\u001b[1;32m<ipython-input-78-fb94eed8a832>\u001b[0m in \u001b[0;36mplot_grid\u001b[1;34m(pathed_grid, t)\u001b[0m\n\u001b[0;32m     29\u001b[0m     \u001b[0mprint\u001b[0m\u001b[1;33m(\u001b[0m\u001b[0mparticle_points\u001b[0m\u001b[1;33m)\u001b[0m\u001b[1;33m\u001b[0m\u001b[1;33m\u001b[0m\u001b[0m\n\u001b[0;32m     30\u001b[0m \u001b[1;33m\u001b[0m\u001b[0m\n\u001b[1;32m---> 31\u001b[1;33m     \u001b[0max\u001b[0m\u001b[1;33m.\u001b[0m\u001b[0mscatter\u001b[0m\u001b[1;33m(\u001b[0m\u001b[0mbp\u001b[0m\u001b[1;33m[\u001b[0m\u001b[1;36m0\u001b[0m\u001b[1;33m]\u001b[0m\u001b[1;33m,\u001b[0m \u001b[0mbp\u001b[0m\u001b[1;33m[\u001b[0m\u001b[1;36m1\u001b[0m\u001b[1;33m]\u001b[0m\u001b[1;33m,\u001b[0m \u001b[0mbp\u001b[0m\u001b[1;33m[\u001b[0m\u001b[1;36m2\u001b[0m\u001b[1;33m]\u001b[0m\u001b[1;33m,\u001b[0m \u001b[0mcolor\u001b[0m\u001b[1;33m=\u001b[0m\u001b[1;34m\"grey\"\u001b[0m\u001b[1;33m,\u001b[0m \u001b[0mmarker\u001b[0m\u001b[1;33m=\u001b[0m\u001b[1;34m\".\"\u001b[0m\u001b[1;33m,\u001b[0m \u001b[0malpha\u001b[0m\u001b[1;33m=\u001b[0m\u001b[1;34m\"0.5\"\u001b[0m\u001b[1;33m)\u001b[0m\u001b[1;33m\u001b[0m\u001b[1;33m\u001b[0m\u001b[0m\n\u001b[0m\u001b[0;32m     32\u001b[0m     \u001b[0max\u001b[0m\u001b[1;33m.\u001b[0m\u001b[0mscatter\u001b[0m\u001b[1;33m(\u001b[0m\u001b[1;33m*\u001b[0m\u001b[0m_np\u001b[0m\u001b[1;33m.\u001b[0m\u001b[0marray\u001b[0m\u001b[1;33m(\u001b[0m\u001b[0mparticle_points\u001b[0m\u001b[1;33m)\u001b[0m\u001b[1;33m.\u001b[0m\u001b[0mT\u001b[0m\u001b[1;33m)\u001b[0m\u001b[1;33m\u001b[0m\u001b[1;33m\u001b[0m\u001b[0m\n\u001b[0;32m     33\u001b[0m     \u001b[1;32mfor\u001b[0m \u001b[0mi\u001b[0m \u001b[1;32min\u001b[0m \u001b[0mrange\u001b[0m\u001b[1;33m(\u001b[0m\u001b[0mlength\u001b[0m\u001b[1;33m(\u001b[0m\u001b[0mparticle_points\u001b[0m\u001b[1;33m)\u001b[0m\u001b[1;33m)\u001b[0m\u001b[1;33m:\u001b[0m\u001b[1;33m\u001b[0m\u001b[1;33m\u001b[0m\u001b[0m\n",
      "\u001b[1;31mIndexError\u001b[0m: index 0 is out of bounds for axis 0 with size 0"
     ]
    },
    {
     "data": {
      "image/png": "[encoded data removed]",
      "text/plain": [
       "<Figure size 432x288 with 1 Axes>"
      ]
     },
     "metadata": {
      "needs_background": "light"
     },
     "output_type": "display_data"
    }
   ],
   "source": [
    "plot_grid(grid, 0)"
   ]
  },
  {
   "cell_type": "code",
   "execution_count": 63,
   "metadata": {},
   "outputs": [
    {
     "ename": "AttributeError",
     "evalue": "'list' object has no attribute 'tranpose'",
     "output_type": "error",
     "traceback": [
      "\u001b[1;31m---------------------------------------------------------------------------\u001b[0m",
      "\u001b[1;31mAttributeError\u001b[0m                            Traceback (most recent call last)",
      "\u001b[1;32m<ipython-input-63-745ef21a4530>\u001b[0m in \u001b[0;36m<module>\u001b[1;34m\u001b[0m\n\u001b[1;32m----> 1\u001b[1;33m \u001b[1;33m[\u001b[0m\u001b[1;33m[\u001b[0m\u001b[1;36m0\u001b[0m\u001b[1;33m,\u001b[0m\u001b[1;36m1\u001b[0m\u001b[1;33m]\u001b[0m\u001b[1;33m,\u001b[0m \u001b[1;33m[\u001b[0m\u001b[1;36m2\u001b[0m\u001b[1;33m,\u001b[0m\u001b[1;36m3\u001b[0m\u001b[1;33m]\u001b[0m\u001b[1;33m]\u001b[0m\u001b[1;33m.\u001b[0m\u001b[0mtranpose\u001b[0m\u001b[1;33m(\u001b[0m\u001b[1;33m)\u001b[0m\u001b[1;33m\u001b[0m\u001b[1;33m\u001b[0m\u001b[0m\n\u001b[0m",
      "\u001b[1;31mAttributeError\u001b[0m: 'list' object has no attribute 'tranpose'"
     ]
    }
   ],
   "source": [
    "[[0,1], [2,3]].tranpose()"
   ]
  },
  {
   "cell_type": "code",
   "execution_count": 66,
   "metadata": {},
   "outputs": [
    {
     "data": {
      "text/plain": [
       "<mpl_toolkits.mplot3d.art3d.Path3DCollection at 0x26dbf9719e8>"
      ]
     },
     "execution_count": 66,
     "metadata": {},
     "output_type": "execute_result"
    },
    {
     "data": {
      "image/png": "[encoded data removed]",
      "text/plain": [
       "<Figure size 432x288 with 1 Axes>"
      ]
     },
     "metadata": {
      "needs_background": "light"
     },
     "output_type": "display_data"
    }
   ],
   "source": [
    "ax = _plt.axes(projection='3d')\n",
    "ax.scatter3D(*_np.array([[0,0,1], [0,1,0], [1,0,0]]))"
   ]
  },
  {
   "cell_type": "markdown",
   "metadata": {},
   "source": [
    "## This part is the actual worm algorithm"
   ]
  },
  {
   "cell_type": "code",
   "execution_count": 35,
   "metadata": {},
   "outputs": [],
   "source": [
    "def move_forward(loc, pathed_grid):\n",
    "    \"\"\"\n",
    "    This function updates the grid if the worm moves forward. It needs to do 3 things:\n",
    "    1) choose a next location to go to\n",
    "    2) update where_particle_is_going on the old location and where_particle_came_from on the new location\n",
    "    3) deal with complications if there is already a particle at the location\"\"\"\n",
    "    new_loc = loc.copy()\n",
    "    #start by advancing the time\n",
    "    new_loc[3] += 1\n",
    "    new_loc[3] %= num_time_steps\n",
    "    if random.uniform(0,1)<p_move_forward_straight:\n",
    "        #don't hop, just move forward in time\n",
    "        current_location = pathed_grid[tuple(loc)]\n",
    "        new_going_to = [0,0] \n",
    "    else:\n",
    "        #hop at this time step\n",
    "        #get an integer 0-2 inclusive for the axis to move on and either +1=2*1-1\n",
    "        #or -1=2*0-1 for the direction\n",
    "        new_going_to = [random.randint(0,2), 2*random.getrandbits(1)-1]\n",
    "    #now the spatial new location the partcile moves to\n",
    "    new_loc[new_going_to[0]] = (new_loc[new_going_to[0]]+new_going_to[1])%N\n",
    "    #update the old location to say where it is going\n",
    "    pathed_grid[tuple(loc)].where_particle_is_going = new_going_to    \n",
    "    if pathed_grid[tuple(new_loc)].is_particle:\n",
    "        #now in the condition of at a spot with two particles and the arrow facing\n",
    "        #down along the path that was previously there\n",
    "        new_new_loc = new_loc.copy()\n",
    "        new_grid_location = pathed_grid[tuple(new_loc)]\n",
    "        new_new_loc[new_grid_location.where_particle_came_from[0]]+= new_grid_location.where_particle_came_from[1]\n",
    "        new_new_loc[new_grid_location.where_particle_came_from[0]] %= N\n",
    "        new_grid_location.where_particle_came_from = [new_going_to[0], -1*new_going_to[1]]\n",
    "        if random.uniform(0,1)< p_move_back:\n",
    "            #this is the simple case where we just move back along the path that was previously there \n",
    "            #then return to the main algorith with a worm at the new_new_location (back one step on the \n",
    "            #particle that was previously at the intersect location) with the worm facing down\n",
    "            return new_new_loc, False\n",
    "        else:\n",
    "            #the more complicated case is where we have to move forward. But this is roughly equivalent\n",
    "            #to being one step back with an arrow facing forward that we have already decided is going\n",
    "            #to move forward\n",
    "            return move_forward(new_new_loc, pathed_grid)\n",
    "    else:\n",
    "        #simple case where there is not already particle at the new location, just need to update\n",
    "        #where that location is going and that there is a particle there\n",
    "        pathed_grid[tuple(new_loc)].where_particle_came_from = [new_going_to[0], -1*new_going_to[1]]\n",
    "        pathed_grid[tuple(new_loc)].is_particle = True\n",
    "        return new_loc, True\n",
    "        \n",
    "            \n",
    "def update_grid(pathed_grid):\n",
    "    \"\"\"\n",
    "    worm update algorithm goes here\n",
    "    \"\"\"\n",
    "    #pick initial site\n",
    "    x0, y0, z0= random.randrange(N), random.randrange(N), random.randrange(N)\n",
    "    t0 = random.randrange(num_time_steps)\n",
    "    loc0 = [x0, y0, z0, t0] #original location\n",
    "    #up arrow if there is no particle\n",
    "    facing_forward = not(pathed_grid[tuple(loc0)].is_particle)\n",
    "    #current location of the worm\n",
    "    loc = [x0, y0, z0, t0]\n",
    "    keep_going = True\n",
    "    while keep_going:\n",
    "        print(\"hi\", loc, facing_forward)\n",
    "        if facing_forward:\n",
    "            if random.uniform(0,1)<=p_move_foward:\n",
    "                loc, facing_forward = move_forward(loc, pathed_grid)\n",
    "            else:\n",
    "                facing_forward = False\n",
    "        else:\n",
    "            #for the case of the worm facing backwards     \n",
    "            #for facing backwards the steps are as follows\n",
    "            #1) go back one along the path, deleting the particle at the current location\n",
    "            #2) switch the arrow to something like facing forward, except the probabilities of adding a new step\n",
    "            #   are different\n",
    "            pathed_grid[tuple(loc)].is_particle = False\n",
    "            current_grid_location = pathed_grid[tuple(loc)]\n",
    "            #go back along path, need %N to loop around and stay on the grid\n",
    "            loc[current_grid_location.where_particle_came_from[0]] += current_grid_location.where_particle_came_from[1]\n",
    "            loc[current_grid_location.where_particle_came_from[0]] %= N\n",
    "            loc[3]+= -1\n",
    "            loc[3] %= num_time_steps\n",
    "            if random.uniform(0,1)>=p_move_back:\n",
    "                loc, facing_forward = move_forward(loc, pathed_grid)\n",
    "        #now check whether we have arrive back at the place we started\n",
    "        #I don't think it is possible to arrive back at the start without having finished the worm\n",
    "        keep_going = (loc== loc0) \n",
    "    return pathed_grid"
   ]
  },
  {
   "cell_type": "markdown",
   "metadata": {},
   "source": [
    "# This next box is where the simulation acutally happens"
   ]
  },
  {
   "cell_type": "code",
   "execution_count": 80,
   "metadata": {},
   "outputs": [
    {
     "name": "stdout",
     "output_type": "stream",
     "text": [
      "[0, 0, 1]\n",
      "[0, 0, 1]\n",
      "[0, 0, 1]\n",
      "[0, 0, 1]\n",
      "[0, 0, 1]\n",
      "[0, 0, 1]\n",
      "[0, 0, 1]\n",
      "[0, 0, 1]\n",
      "[0, 0, 1]\n",
      "[0, 0, 1]\n",
      "[0, 0, 1]\n",
      "[0, 0, 1]\n",
      "[0, 0, 1]\n",
      "[0, 0, 1]\n",
      "[0, 0, 1]\n",
      "[0, 0, 1]\n",
      "[0, 0, 1]\n",
      "[0, 0, 1]\n",
      "[0, 1, 1]\n",
      "[0, 1, 1]\n",
      "[0, 1, 1]\n",
      "[0, 1, 1]\n",
      "[0, 1, 1]\n",
      "[0, 1, 1]\n",
      "[0, 1, 1]\n",
      "[0, 1, 1]\n",
      "[0, 1, 1]\n",
      "[0, 1, 1]\n",
      "[0, 1, 1]\n",
      "[0, 1, 1]\n",
      "[0, 1, 1]\n",
      "[0, 1, 1]\n",
      "[0, 1, 1]\n",
      "[0, 1, 1]\n",
      "[0, 1, 1]\n",
      "[0, 1, 1]\n",
      "[1, 0, 1]\n",
      "[1, 0, 1]\n",
      "[1, 0, 1]\n",
      "[1, 0, 1]\n",
      "[1, 0, 1]\n",
      "[1, 0, 1]\n",
      "[1, 0, 1]\n",
      "[1, 0, 1]\n",
      "[1, 0, 1]\n",
      "[1, 0, 1]\n",
      "[1, 0, 1]\n",
      "[1, 0, 1]\n",
      "[1, 0, 1]\n",
      "[1, 0, 1]\n",
      "[1, 0, 1]\n",
      "[1, 0, 1]\n",
      "[1, 0, 1]\n",
      "[1, 0, 1]\n",
      "[1, 1, 1]\n",
      "[1, 1, 1]\n",
      "[1, 1, 1]\n",
      "[1, 1, 1]\n",
      "[1, 1, 1]\n",
      "[1, 1, 1]\n",
      "[1, 1, 1]\n",
      "[1, 1, 1]\n",
      "[1, 1, 1]\n",
      "[1, 1, 1]\n",
      "[1, 1, 1]\n",
      "[1, 1, 1]\n",
      "[1, 1, 1]\n",
      "[1, 1, 1]\n",
      "[1, 1, 1]\n",
      "[1, 1, 1]\n",
      "[1, 1, 1]\n",
      "[1, 1, 1]\n",
      "hi [0, 1, 0, 1] False\n",
      "[0, 1, 0]\n",
      "[0, 1, 0]\n",
      "[0, 1, 0]\n",
      "[0, 1, 0]\n",
      "[0, 1, 0]\n",
      "[0, 1, 0]\n",
      "[0, 1, 0]\n",
      "[0, 1, 0]\n",
      "[0, 1, 0]\n",
      "[0, 1, 1]\n",
      "[0, 1, 1]\n",
      "[0, 1, 1]\n",
      "[0, 1, 1]\n",
      "[0, 1, 1]\n",
      "[0, 1, 1]\n",
      "[0, 1, 1]\n",
      "[0, 1, 1]\n",
      "[0, 1, 1]\n",
      "[0, 1, 0]\n",
      "[0, 1, 0]\n",
      "[0, 1, 0]\n",
      "[0, 1, 0]\n",
      "[0, 1, 0]\n",
      "[0, 1, 0]\n",
      "[0, 1, 0]\n",
      "[0, 1, 0]\n",
      "[0, 1, 0]\n",
      "[0, 1, 1]\n",
      "[0, 1, 1]\n",
      "[0, 1, 1]\n",
      "[0, 1, 1]\n",
      "[0, 1, 1]\n",
      "[0, 1, 1]\n",
      "[0, 1, 1]\n",
      "[0, 1, 1]\n",
      "[0, 1, 1]\n",
      "[1, 1, 0]\n",
      "[1, 1, 0]\n",
      "[1, 1, 0]\n",
      "[1, 1, 0]\n",
      "[1, 1, 0]\n",
      "[1, 1, 0]\n",
      "[1, 1, 0]\n",
      "[1, 1, 0]\n",
      "[1, 1, 0]\n",
      "[1, 1, 1]\n",
      "[1, 1, 1]\n",
      "[1, 1, 1]\n",
      "[1, 1, 1]\n",
      "[1, 1, 1]\n",
      "[1, 1, 1]\n",
      "[1, 1, 1]\n",
      "[1, 1, 1]\n",
      "[1, 1, 1]\n",
      "[1, 1, 0]\n",
      "[1, 1, 0]\n",
      "[1, 1, 0]\n",
      "[1, 1, 0]\n",
      "[1, 1, 0]\n",
      "[1, 1, 0]\n",
      "[1, 1, 0]\n",
      "[1, 1, 0]\n",
      "[1, 1, 0]\n",
      "[1, 1, 1]\n",
      "[1, 1, 1]\n",
      "[1, 1, 1]\n",
      "[1, 1, 1]\n",
      "[1, 1, 1]\n",
      "[1, 1, 1]\n",
      "[1, 1, 1]\n",
      "[1, 1, 1]\n",
      "[1, 1, 1]\n",
      "hi [1, 0, 1, 8] False\n",
      "[1, 0, 0]\n",
      "[1, 0, 0]\n",
      "[1, 0, 0]\n",
      "[1, 0, 0]\n",
      "[1, 0, 0]\n",
      "[1, 0, 0]\n",
      "[1, 0, 0]\n",
      "[1, 0, 0]\n",
      "[1, 0, 0]\n",
      "[1, 0, 1]\n",
      "[1, 0, 1]\n",
      "[1, 0, 1]\n",
      "[1, 0, 1]\n",
      "[1, 0, 1]\n",
      "[1, 0, 1]\n",
      "[1, 0, 1]\n",
      "[1, 0, 1]\n",
      "[1, 0, 1]\n",
      "[1, 1, 0]\n",
      "[1, 1, 0]\n",
      "[1, 1, 0]\n",
      "[1, 1, 0]\n",
      "[1, 1, 0]\n",
      "[1, 1, 0]\n",
      "[1, 1, 0]\n",
      "[1, 1, 0]\n",
      "[1, 1, 0]\n",
      "[1, 1, 1]\n",
      "[1, 1, 1]\n",
      "[1, 1, 1]\n",
      "[1, 1, 1]\n",
      "[1, 1, 1]\n",
      "[1, 1, 1]\n",
      "[1, 1, 1]\n",
      "[1, 1, 1]\n",
      "[1, 1, 1]\n",
      "[1, 0, 0]\n",
      "[1, 0, 0]\n",
      "[1, 0, 0]\n",
      "[1, 0, 0]\n",
      "[1, 0, 0]\n",
      "[1, 0, 0]\n",
      "[1, 0, 0]\n",
      "[1, 0, 0]\n",
      "[1, 0, 0]\n",
      "[1, 0, 1]\n",
      "[1, 0, 1]\n",
      "[1, 0, 1]\n",
      "[1, 0, 1]\n",
      "[1, 0, 1]\n",
      "[1, 0, 1]\n",
      "[1, 0, 1]\n",
      "[1, 0, 1]\n",
      "[1, 0, 1]\n",
      "[1, 1, 0]\n",
      "[1, 1, 0]\n",
      "[1, 1, 0]\n",
      "[1, 1, 0]\n",
      "[1, 1, 0]\n",
      "[1, 1, 0]\n",
      "[1, 1, 0]\n",
      "[1, 1, 0]\n",
      "[1, 1, 0]\n",
      "[1, 1, 1]\n",
      "[1, 1, 1]\n",
      "[1, 1, 1]\n",
      "[1, 1, 1]\n",
      "[1, 1, 1]\n",
      "[1, 1, 1]\n",
      "[1, 1, 1]\n",
      "[1, 1, 1]\n",
      "[1, 1, 1]\n",
      "hi [1, 1, 1, 1] False\n",
      "[0, 0, 1]\n",
      "[0, 0, 1]\n",
      "[0, 0, 1]\n",
      "[0, 0, 1]\n",
      "[0, 0, 1]\n",
      "[0, 0, 1]\n",
      "[0, 0, 1]\n",
      "[0, 0, 1]\n",
      "[0, 0, 1]\n",
      "[0, 0, 1]\n",
      "[0, 0, 1]\n",
      "[0, 0, 1]\n",
      "[0, 0, 1]\n",
      "[0, 0, 1]\n",
      "[0, 0, 1]\n",
      "[0, 0, 1]\n",
      "[0, 0, 1]\n",
      "[0, 0, 1]\n",
      "[0, 1, 1]\n",
      "[0, 1, 1]\n",
      "[0, 1, 1]\n",
      "[0, 1, 1]\n",
      "[0, 1, 1]\n",
      "[0, 1, 1]\n",
      "[0, 1, 1]\n",
      "[0, 1, 1]\n",
      "[0, 1, 1]\n",
      "[0, 1, 1]\n",
      "[0, 1, 1]\n",
      "[0, 1, 1]\n",
      "[0, 1, 1]\n",
      "[0, 1, 1]\n",
      "[0, 1, 1]\n",
      "[0, 1, 1]\n",
      "[0, 1, 1]\n",
      "[0, 1, 1]\n",
      "[1, 0, 1]\n",
      "[1, 0, 1]\n",
      "[1, 0, 1]\n",
      "[1, 0, 1]\n",
      "[1, 0, 1]\n",
      "[1, 0, 1]\n",
      "[1, 0, 1]\n",
      "[1, 0, 1]\n",
      "[1, 0, 1]\n",
      "[1, 0, 1]\n",
      "[1, 0, 1]\n",
      "[1, 0, 1]\n",
      "[1, 0, 1]\n",
      "[1, 0, 1]\n",
      "[1, 0, 1]\n",
      "[1, 0, 1]\n",
      "[1, 0, 1]\n",
      "[1, 0, 1]\n",
      "[1, 1, 1]\n",
      "[1, 1, 1]\n",
      "[1, 1, 1]\n",
      "[1, 1, 1]\n",
      "[1, 1, 1]\n",
      "[1, 1, 1]\n",
      "[1, 1, 1]\n",
      "[1, 1, 1]\n",
      "[1, 1, 1]\n",
      "[1, 1, 1]\n",
      "[1, 1, 1]\n",
      "[1, 1, 1]\n",
      "[1, 1, 1]\n",
      "[1, 1, 1]\n",
      "[1, 1, 1]\n",
      "[1, 1, 1]\n",
      "[1, 1, 1]\n",
      "[1, 1, 1]\n",
      "hi [1, 1, 1, 0] False\n"
     ]
    }
   ],
   "source": [
    "num_trials = 4 #I think in one of the lecctures, prof said we should expect this ot take ~1 million trials\n",
    "ns = [] #number of particles in each trial\n",
    "es = [] #energy of path in each trial\n",
    "Ws = [] #weight of paths in each trial\n",
    "for counter in range(num_trials):\n",
    "    #outdated\n",
    "    num_particles, e_tilda, weight = oberservables(grid)\n",
    "    Ws.append(weight)\n",
    "    ns.append(num_particles)\n",
    "    es.append(e_tilda)\n",
    "    grid = update_grid(grid)\n",
    "    \n",
    "#I don't know why it is printing all these numbers   "
   ]
  },
  {
   "cell_type": "code",
   "execution_count": 81,
   "metadata": {},
   "outputs": [
    {
     "name": "stdout",
     "output_type": "stream",
     "text": [
      "[8, 8, 8, 8] [42.0, 42.0, 42.0, 42.0] [4.848993615050053e+57, 4.848993615050053e+57, 4.848993615050053e+57, 4.848993615050053e+57]\n"
     ]
    }
   ],
   "source": [
    "print(ns, es, Ws)\n",
    "#There might be bug where it always populates all the states. It could also just be that the probability of moving forward\n",
    "#if the worm is facing forward is 1, so particles are only deleted if the worm starts by facing backwards and never\n",
    "#goes forwar, which is probability something like 1/5^10 which is ~10 million"
   ]
  },
  {
   "cell_type": "code",
   "execution_count": 83,
   "metadata": {},
   "outputs": [
    {
     "name": "stdout",
     "output_type": "stream",
     "text": [
      "5.3655559711219745\n",
      "-4.3655559711219745\n"
     ]
    }
   ],
   "source": [
    "print(p_move_foward)\n",
    "print(p_move_back)\n"
   ]
  },
  {
   "cell_type": "markdown",
   "metadata": {},
   "source": [
    "# Now do analysis, plot results, etc"
   ]
  },
  {
   "cell_type": "code",
   "execution_count": 16,
   "metadata": {},
   "outputs": [
    {
     "data": {
      "text/plain": [
       "False"
      ]
     },
     "execution_count": 16,
     "metadata": {},
     "output_type": "execute_result"
    }
   ],
   "source": [
    "test1 = _np.array([1,2,3])\n",
    "test2 = _np.array([2,3,4])\n",
    "test1==test2\n",
    "_np.all(test1==test2)"
   ]
  },
  {
   "cell_type": "markdown",
   "metadata": {},
   "source": [
    "## Scratch Work"
   ]
  },
  {
   "cell_type": "code",
   "execution_count": 34,
   "metadata": {},
   "outputs": [
    {
     "data": {
      "text/plain": [
       "array([[<__main__.grid_location object at 0x0000019ECB7C74E0>,\n",
       "        <__main__.grid_location object at 0x0000019ECB7C74E0>],\n",
       "       [<__main__.grid_location object at 0x0000019ECB7C74E0>,\n",
       "        <__main__.grid_location object at 0x0000019ECB7C74E0>]],\n",
       "      dtype=object)"
      ]
     },
     "execution_count": 34,
     "metadata": {},
     "output_type": "execute_result"
    }
   ],
   "source": [
    "grid = _np.full((2,2), grid_location())\n",
    "grid"
   ]
  },
  {
   "cell_type": "code",
   "execution_count": 35,
   "metadata": {},
   "outputs": [
    {
     "data": {
      "text/plain": [
       "False"
      ]
     },
     "execution_count": 35,
     "metadata": {},
     "output_type": "execute_result"
    }
   ],
   "source": [
    "grid[0,0].is_particle"
   ]
  },
  {
   "cell_type": "code",
   "execution_count": 39,
   "metadata": {},
   "outputs": [
    {
     "data": {
      "text/plain": [
       "1"
      ]
     },
     "execution_count": 39,
     "metadata": {},
     "output_type": "execute_result"
    }
   ],
   "source": [
    "2*True-1"
   ]
  },
  {
   "cell_type": "code",
   "execution_count": 53,
   "metadata": {},
   "outputs": [
    {
     "data": {
      "text/plain": [
       "0"
      ]
     },
     "execution_count": 53,
     "metadata": {},
     "output_type": "execute_result"
    }
   ],
   "source": [
    "random.randint(0,2) "
   ]
  },
  {
   "cell_type": "code",
   "execution_count": 64,
   "metadata": {},
   "outputs": [
    {
     "data": {
      "text/plain": [
       "0"
      ]
     },
     "execution_count": 64,
     "metadata": {},
     "output_type": "execute_result"
    }
   ],
   "source": [
    "random.getrandbits(1)"
   ]
  },
  {
   "cell_type": "code",
   "execution_count": 96,
   "metadata": {},
   "outputs": [
    {
     "data": {
      "text/plain": [
       "True"
      ]
     },
     "execution_count": 96,
     "metadata": {},
     "output_type": "execute_result"
    }
   ],
   "source": [
    "False==False"
   ]
  },
  {
   "cell_type": "code",
   "execution_count": 67,
   "metadata": {},
   "outputs": [
    {
     "data": {
      "text/plain": [
       "[1, 2, 3]"
      ]
     },
     "execution_count": 67,
     "metadata": {},
     "output_type": "execute_result"
    }
   ],
   "source": [
    "loc = [1,2,3]\n",
    "new_loc = loc.copy()\n",
    "new_loc[0]+=1\n",
    "loc"
   ]
  },
  {
   "cell_type": "code",
   "execution_count": 68,
   "metadata": {},
   "outputs": [
    {
     "data": {
      "text/plain": [
       "[2, 2, 3]"
      ]
     },
     "execution_count": 68,
     "metadata": {},
     "output_type": "execute_result"
    }
   ],
   "source": [
    "new_loc"
   ]
  },
  {
   "cell_type": "code",
   "execution_count": 81,
   "metadata": {},
   "outputs": [
    {
     "ename": "TypeError",
     "evalue": "'tuple' object does not support item assignment",
     "output_type": "error",
     "traceback": [
      "\u001b[1;31m---------------------------------------------------------------------------\u001b[0m",
      "\u001b[1;31mTypeError\u001b[0m                                 Traceback (most recent call last)",
      "\u001b[1;32m<ipython-input-81-95b0872d2f59>\u001b[0m in \u001b[0;36m<module>\u001b[1;34m\u001b[0m\n\u001b[0;32m      1\u001b[0m \u001b[0ma\u001b[0m \u001b[1;33m=\u001b[0m \u001b[0m_np\u001b[0m\u001b[1;33m.\u001b[0m\u001b[0marray\u001b[0m\u001b[1;33m(\u001b[0m\u001b[1;33m[\u001b[0m\u001b[1;33m[\u001b[0m\u001b[1;36m1\u001b[0m\u001b[1;33m,\u001b[0m\u001b[1;36m2\u001b[0m\u001b[1;33m]\u001b[0m\u001b[1;33m,\u001b[0m\u001b[1;33m[\u001b[0m\u001b[1;36m3\u001b[0m\u001b[1;33m,\u001b[0m\u001b[1;36m4\u001b[0m\u001b[1;33m]\u001b[0m\u001b[1;33m]\u001b[0m\u001b[1;33m)\u001b[0m\u001b[1;33m\u001b[0m\u001b[1;33m\u001b[0m\u001b[0m\n\u001b[0;32m      2\u001b[0m \u001b[0mb\u001b[0m\u001b[1;33m=\u001b[0m\u001b[1;33m(\u001b[0m\u001b[1;36m0\u001b[0m\u001b[1;33m,\u001b[0m\u001b[1;36m1\u001b[0m\u001b[1;33m)\u001b[0m\u001b[1;33m\u001b[0m\u001b[1;33m\u001b[0m\u001b[0m\n\u001b[1;32m----> 3\u001b[1;33m \u001b[0mb\u001b[0m\u001b[1;33m[\u001b[0m\u001b[1;36m0\u001b[0m\u001b[1;33m]\u001b[0m\u001b[1;33m+=\u001b[0m\u001b[1;36m1\u001b[0m\u001b[1;33m\u001b[0m\u001b[1;33m\u001b[0m\u001b[0m\n\u001b[0m\u001b[0;32m      4\u001b[0m \u001b[0ma\u001b[0m\u001b[1;33m[\u001b[0m\u001b[0mtuple\u001b[0m\u001b[1;33m(\u001b[0m\u001b[0mb\u001b[0m\u001b[1;33m)\u001b[0m\u001b[1;33m]\u001b[0m\u001b[1;33m\u001b[0m\u001b[1;33m\u001b[0m\u001b[0m\n",
      "\u001b[1;31mTypeError\u001b[0m: 'tuple' object does not support item assignment"
     ]
    }
   ],
   "source": [
    "a = _np.array([[1,2],[3,4]])\n",
    "b=(0,1)\n",
    "b[0]+=1\n",
    "a[tuple(b)]"
   ]
  },
  {
   "cell_type": "code",
   "execution_count": 93,
   "metadata": {},
   "outputs": [
    {
     "data": {
      "text/plain": [
       "True"
      ]
     },
     "execution_count": 93,
     "metadata": {},
     "output_type": "execute_result"
    }
   ],
   "source": [
    "a=[4, 5]\n",
    "b=[4,5]\n",
    "a==b"
   ]
  },
  {
   "cell_type": "code",
   "execution_count": null,
   "metadata": {},
   "outputs": [],
   "source": []
  }
 ],
 "metadata": {
  "kernelspec": {
   "display_name": "Python 3",
   "language": "python",
   "name": "python3"
  },
  "language_info": {
   "codemirror_mode": {
    "name": "ipython",
    "version": 3
   },
   "file_extension": ".py",
   "mimetype": "text/x-python",
   "name": "python",
   "nbconvert_exporter": "python",
   "pygments_lexer": "ipython3",
   "version": "3.6.10"
  }
 },
 "nbformat": 4,
 "nbformat_minor": 4
}
