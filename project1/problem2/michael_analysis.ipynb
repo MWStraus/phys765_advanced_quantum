{
 "cells": [
  {
   "cell_type": "code",
   "execution_count": 1,
   "metadata": {},
   "outputs": [],
   "source": [
    "import numpy as _np\n",
    "import spinmob as _s\n",
    "import matplotlib.pyplot as _plt\n",
    "import os as _os\n",
    "from scipy.optimize import curve_fit"
   ]
  },
  {
   "cell_type": "code",
   "execution_count": 2,
   "metadata": {},
   "outputs": [],
   "source": [
    "block_sizes= []\n",
    "block_size = 1\n",
    "ii=0\n",
    "while ii<23:\n",
    "    if int(1e5)%block_size==0:\n",
    "        block_sizes.append(block_size)\n",
    "        block_size+=1\n",
    "        ii+=1\n",
    "    else:\n",
    "        block_size += 1"
   ]
  },
  {
   "cell_type": "code",
   "execution_count": 85,
   "metadata": {},
   "outputs": [],
   "source": [
    "def get_data(ep_string):\n",
    "    current_folder = _os.getcwd()\n",
    "    data  = _s.data.load(path=current_folder+\"\\epislon_\"+ep_string+\".csv\")\n",
    "    es = _np.array(data['e_tidle'])\n",
    "    ns = _np.array(data['n'])\n",
    "    return ns ,es\n",
    "\n",
    "def exp_decay(x, gamma, amp):\n",
    "    return amp*_np.exp(-x/gamma)\n",
    "\n",
    "def correlation(data, data_average):\n",
    "    data_correlations = []\n",
    "    correlation_distance = _np.array(range(len(data)-1))+1\n",
    "    for distance in correlation_distance:\n",
    "        correlations = data[:-distance]*data[distance::]-data_average**2\n",
    "        data_correlations.append(_np.average(correlations))\n",
    "    return data_correlations, correlation_distance\n",
    "\n",
    "def fit_exp_decay(data, distacnes, p0):\n",
    "    popt, cov = curve_fit(exp_decay, distacnes[:1000], data[:1000], p0=p0)\n",
    "    return [popt, cov]\n",
    "\n",
    "def plot_exp_decay_fit(correlation, distances, popt, ep_str, n_or_e):\n",
    "    _plt.plot(distances, correlation, label=\"data\")\n",
    "    _plt.axhline(0, linestyle=\"--\", color=\"grey\", alpha=0.5)\n",
    "    _plt.plot(distances[:1000], exp_decay(distances[:1000], *popt), label=\"fit\")\n",
    "    _plt.title(n_or_e+\" correlation for ε=\"+ep_str, size=35)\n",
    "    _plt.ylabel(r'$\\tilde{e_n}\\tilde{e}_{n+d} - \\langle \\tilde{e}\\rangle^2$', size=35)\n",
    "    _plt.xlabel(\"d\", size=35)\n",
    "    _plt.tick_params(axis=\"both\", labelsize=30)\n",
    "    _plt.legend(fontsize=30)\n",
    "    _plt.show()\n",
    "\n",
    "def choose_unc(es, es_popt, ns, ns_popt):\n",
    "    es_uncs = []\n",
    "    ns_uncs = []\n",
    "    num_trials = len(es)\n",
    "    for position, block in enumerate(block_sizes):\n",
    "        blocked_es = _np.reshape(es, (int(num_trials/block), block))\n",
    "        block_avg_es = _np.average(blocked_es, axis=1)\n",
    "        unc = _np.std(block_avg_es)/_np.sqrt(len(block_avg_es))\n",
    "        es_uncs.append(unc)\n",
    "\n",
    "        blocked_ns = _np.reshape(ns, (int(num_trials/block), block))\n",
    "        block_avg_ns = _np.average(blocked_ns, axis=1)\n",
    "        unc = _np.std(block_avg_ns)/_np.sqrt(len(block_avg_ns))\n",
    "        ns_uncs.append(unc)\n",
    "\n",
    "        print(\"E Unc: \", es_uncs[-1], \"E correlation/unc: \", _np.sqrt(exp_decay(block, *es_popt))/unc)\n",
    "        print(\"n Unc: \", ns_uncs[-1], \"n correlation/unc: \", _np.sqrt(exp_decay(block, *ns_popt))/unc)\n",
    "        print(\" num blocks: \", len(block_avg_es), \" blocksize: \", block, \"choice number\", position)\n",
    "        print(\"\\r\\r\\r\")\n",
    "    which_block = int(input(\"Which block_size?\"))\n",
    "    return [block_sizes[which_block], es_uncs[which_block], ns_uncs[which_block]]\n"
   ]
  },
  {
   "cell_type": "code",
   "execution_count": 4,
   "metadata": {},
   "outputs": [],
   "source": [
    "used_block_sizes = []\n",
    "es_avg_across_epsilons = []\n",
    "es_unc_across_epsilons = []\n",
    "ns_avg_across_epislons = []\n",
    "ns_unc_across_epsilons = []\n",
    "epsilons_used = []"
   ]
  },
  {
   "cell_type": "code",
   "execution_count": 41,
   "metadata": {},
   "outputs": [
    {
     "name": "stdout",
     "output_type": "stream",
     "text": [
      "check 1\n",
      "check 2\n",
      "check 3\n"
     ]
    }
   ],
   "source": [
    "\n",
    "epsilon_strings = [\"0.03\", \"0.02\", \"0.01\", \"0.008\", \"0.005\",\"0.002\", \"0.001\"]\n",
    "ep_str = epsilon_strings[6]\n",
    "ns, es = get_data(ep_str)\n",
    "num_trials = len(es)\n",
    "trials = _np.array(range(num_trials))\n",
    "es_average = _np.average(es)\n",
    "ns_average = _np.average(ns)\n",
    "print(\"check 1\")\n",
    "es_correlation, es_distacnes = correlation(es, es_average)\n",
    "print(\"check 2\")\n",
    "ns_correlation, ns_distances = correlation(ns, ns_average)\n",
    "print(\"check 3\")\n",
    "\n"
   ]
  },
  {
   "cell_type": "code",
   "execution_count": 87,
   "metadata": {},
   "outputs": [],
   "source": [
    "p0 = [1, 5]\n",
    "es_popt, es_cov = fit_exp_decay(es_correlation, es_distacnes, p0)\n",
    "plot_exp_decay_fit(es_correlation, es_distacnes, es_popt, ep_str, r\"$\\tilde{e}$\")"
   ]
  },
  {
   "cell_type": "code",
   "execution_count": 43,
   "metadata": {},
   "outputs": [],
   "source": [
    "p0 = [1,5]\n",
    "ns_popt, ns_cov = fit_exp_decay(ns_correlation, ns_distances, p0)\n",
    "plot_exp_decay_fit(ns_correlation, ns_distances, ns_popt, ep_str, \"n\")"
   ]
  },
  {
   "cell_type": "code",
   "execution_count": 44,
   "metadata": {},
   "outputs": [
    {
     "name": "stdout",
     "output_type": "stream",
     "text": [
      "E Unc:  0.0015763056099627382 E correlation/unc:  135.14540537261095\n",
      "n Unc:  0.0033851110377159954 n correlation/unc:  285.359586447528\n",
      " num blocks:  100000  blocksize:  1 choice number 0\n",
      "\n",
      "E Unc:  0.002140252030018895 E correlation/unc:  92.06208191104464\n",
      "n Unc:  0.0045662077783794885 n correlation/unc:  191.86096759975743\n",
      " num blocks:  50000  blocksize:  2 choice number 1\n",
      "\n",
      "E Unc:  0.0028541123846127715 E correlation/unc:  58.82980160805499\n",
      "n Unc:  0.006033420464895698 n correlation/unc:  119.43525358989935\n",
      " num blocks:  25000  blocksize:  4 choice number 2\n",
      "\n",
      "E Unc:  0.003108069638859464 E correlation/unc:  49.848330466014204\n",
      "n Unc:  0.006542935148310733 n correlation/unc:  99.88503506632938\n",
      " num blocks:  20000  blocksize:  5 choice number 3\n",
      "\n",
      "E Unc:  0.0036582940024005735 E correlation/unc:  33.194069345212924\n",
      "n Unc:  0.007623414043531358 n correlation/unc:  63.95202143925966\n",
      " num blocks:  12500  blocksize:  8 choice number 4\n",
      "\n",
      "E Unc:  0.003912338656098166 E correlation/unc:  26.360020038625617\n",
      "n Unc:  0.008105667471247784 n correlation/unc:  49.47306640502026\n",
      " num blocks:  10000  blocksize:  10 choice number 5\n",
      "\n",
      "E Unc:  0.004377856783404409 E correlation/unc:  14.34319854988556\n",
      "n Unc:  0.00896730728953173 n correlation/unc:  24.88611161697091\n",
      " num blocks:  6250  blocksize:  16 choice number 6\n",
      "\n",
      "E Unc:  0.004593646429580753 E correlation/unc:  9.886454098060648\n",
      "n Unc:  0.009275055931427642 n correlation/unc:  16.27834377993834\n",
      " num blocks:  5000  blocksize:  20 choice number 7\n",
      "\n",
      "E Unc:  0.004741063635936561 E correlation/unc:  6.259920126749689\n",
      "n Unc:  0.009596206518868682 n correlation/unc:  9.654098772733489\n",
      " num blocks:  4000  blocksize:  25 choice number 8\n",
      "\n",
      "E Unc:  0.004962505418838352 E correlation/unc:  3.3212278666565793\n",
      "n Unc:  0.010004733049067882 n correlation/unc:  4.673521200216339\n",
      " num blocks:  3125  blocksize:  32 choice number 9\n",
      "\n",
      "E Unc:  0.005002896664933226 E correlation/unc:  1.6959372301634434\n",
      "n Unc:  0.00995846638996186 n correlation/unc:  2.149178923179562\n",
      " num blocks:  2500  blocksize:  40 choice number 10\n",
      "\n",
      "E Unc:  0.005097937700678579 E correlation/unc:  0.7070953723528295\n",
      "n Unc:  0.01025054162227538 n correlation/unc:  0.7861173149441634\n",
      " num blocks:  2000  blocksize:  50 choice number 11\n",
      "\n",
      "E Unc:  0.005156253492604877 E correlation/unc:  0.055481314877746005\n",
      "n Unc:  0.010326324779793523 n correlation/unc:  0.04164815984718518\n",
      " num blocks:  1250  blocksize:  80 choice number 12\n",
      "\n",
      "E Unc:  0.00514543852358572 E correlation/unc:  0.010159705793454906\n",
      "n Unc:  0.010386196576332562 n correlation/unc:  0.005869800504311498\n",
      " num blocks:  1000  blocksize:  100 choice number 13\n",
      "\n",
      "E Unc:  0.005290200563305705 E correlation/unc:  0.0012133412392206335\n",
      "n Unc:  0.010493277106345547 n correlation/unc:  0.0005053492079447574\n",
      " num blocks:  800  blocksize:  125 choice number 14\n",
      "\n",
      "E Unc:  0.0052003557724448046 E correlation/unc:  6.318063873482637e-05\n",
      "n Unc:  0.010434919220472088 n correlation/unc:  1.664200439741224e-05\n",
      " num blocks:  625  blocksize:  160 choice number 15\n",
      "\n",
      "E Unc:  0.005191673641514844 E correlation/unc:  2.1157531787760888e-06\n",
      "n Unc:  0.010570569614631833 n correlation/unc:  3.301208055438819e-07\n",
      " num blocks:  500  blocksize:  200 choice number 16\n",
      "\n",
      "E Unc:  0.00532184592035508 E correlation/unc:  3.021842478739761e-08\n",
      "n Unc:  0.010774681277833181 n correlation/unc:  2.4502621892985767e-09\n",
      " num blocks:  400  blocksize:  250 choice number 17\n",
      "\n",
      "E Unc:  0.00521211573163912 E correlation/unc:  9.996039921959032e-14\n",
      "n Unc:  0.010050481224520767 n correlation/unc:  1.1375414889345728e-15\n",
      " num blocks:  250  blocksize:  400 choice number 18\n",
      "\n",
      "E Unc:  0.00525595738186679 E correlation/unc:  1.9762169519708546e-17\n",
      "n Unc:  0.010774718709914323 n correlation/unc:  6.073507449185099e-20\n",
      " num blocks:  200  blocksize:  500 choice number 19\n",
      "\n",
      "E Unc:  0.00519552788463309 E correlation/unc:  5.017826157471889e-22\n",
      "n Unc:  0.01085193300433409 n correlation/unc:  3.00229017542009e-25\n",
      " num blocks:  160  blocksize:  625 choice number 20\n",
      "\n",
      "E Unc:  0.00528476118665735 E correlation/unc:  2.0404903069111435e-28\n",
      "n Unc:  0.009935350528961388 n correlation/unc:  1.23519788169327e-32\n",
      " num blocks:  125  blocksize:  800 choice number 21\n",
      "\n",
      "E Unc:  0.0048696176441277205 E correlation/unc:  9.174431153405305e-36\n",
      "n Unc:  0.009926360186672431 n correlation/unc:  4.050536196446443e-41\n",
      " num blocks:  100  blocksize:  1000 choice number 22\n",
      "\n"
     ]
    }
   ],
   "source": [
    "block_size, es_unc, ns_unc = choose_unc(es, es_popt, ns, ns_popt)\n",
    "used_block_sizes.append(block_size)\n",
    "es_avg_across_epsilons.append(es_average)\n",
    "es_unc_across_epsilons.append(es_unc)\n",
    "ns_avg_across_epislons.append(ns_average)\n",
    "ns_unc_across_epsilons.append(ns_unc)\n",
    "epsilons_used.append(float(ep_str))"
   ]
  },
  {
   "cell_type": "code",
   "execution_count": 47,
   "metadata": {},
   "outputs": [
    {
     "name": "stdout",
     "output_type": "stream",
     "text": [
      "[0.03, 0.02, 0.01, 0.008, 0.005, 0.002, 0.001]\n",
      "[0.7244633333333332, 0.7370816666666667, 0.6992883333333334, 0.6799966666666666, 0.6697566666666666, 0.6355149999999998, 0.64827]\n",
      "[0.0087435309670763, 0.009386704249377294, 0.00968767341572383, 0.010187654020376276, 0.010561949701904263, 0.010642089949751932, 0.01025054162227538]\n",
      "[1.72278, 1.63402, 1.54489, 1.52134, 1.49264, 1.46153, 1.46068]\n",
      "[0.0042429630919912555, 0.0046542582438021205, 0.005021906405937889, 0.005199240540694381, 0.0051215735082101475, 0.005174295077592695, 0.005097937700678579]\n"
     ]
    }
   ],
   "source": [
    "print(epsilons_used)\n",
    "print(es_avg_across_epsilons)\n",
    "print(es_unc_across_epsilons)\n",
    "print(ns_avg_across_epislons)\n",
    "print(ns_unc_across_epsilons)"
   ]
  },
  {
   "cell_type": "code",
   "execution_count": 48,
   "metadata": {},
   "outputs": [],
   "source": [
    "def cubic_curve(ep, a, b, c, d):\n",
    "    return a+b*ep+c*ep**2+d*ep**3"
   ]
  },
  {
   "cell_type": "code",
   "execution_count": 72,
   "metadata": {},
   "outputs": [
    {
     "name": "stdout",
     "output_type": "stream",
     "text": [
      "[ 6.34866589e-01  5.84810497e+00  8.57882499e+01 -6.04375312e+03]\n",
      "[[ 8.01044461e-05 -2.23733847e-02  1.53751956e+00 -2.94443573e+01]\n",
      " [-2.23733847e-02  8.78735860e+00 -6.85632461e+02  1.39862589e+04]\n",
      " [ 1.53751956e+00 -6.85632461e+02  5.81083645e+04 -1.24154163e+06]\n",
      " [-2.94443573e+01  1.39862589e+04 -1.24154163e+06  2.72532467e+07]]\n"
     ]
    }
   ],
   "source": [
    "e0_p0 = [0.63, 4, -1, 0]\n",
    "e0_popt, e0_cov = curve_fit(cubic_curve, epsilons_used, es_avg_across_epsilons, p0=e0_p0, sigma=es_unc_across_epsilons)\n",
    "print(e0_popt)\n",
    "print(e0_cov)"
   ]
  },
  {
   "cell_type": "code",
   "execution_count": 93,
   "metadata": {},
   "outputs": [
    {
     "data": {
      "text/plain": [
       "<matplotlib.legend.Legend at 0x2e5def46b38>"
      ]
     },
     "execution_count": 93,
     "metadata": {},
     "output_type": "execute_result"
    }
   ],
   "source": [
    "_plt.errorbar(epsilons_used, es_avg_across_epsilons, yerr=es_unc_across_epsilons, linestyle=\"\", marker=\".\", label=\"data\")\n",
    "epsilon_range = _np.linspace(0, max(epsilons_used), 100)\n",
    "_plt.plot(epsilon_range, cubic_curve(epsilon_range, *e0_popt), label=\"fit\")\n",
    "_plt.title(r'$\\langle \\tilde{e} \\rangle \\: vs \\: \\epsilon$', fontsize=20)\n",
    "_plt.xlabel(r'$\\epsilon$', fontsize=20)\n",
    "_plt.ylabel(r'$\\langle \\tilde{e} \\rangle$', fontsize=20)\n",
    "_plt.legend()"
   ]
  },
  {
   "cell_type": "code",
   "execution_count": 88,
   "metadata": {},
   "outputs": [
    {
     "data": {
      "text/plain": [
       "0.008950108718083357"
      ]
     },
     "execution_count": 88,
     "metadata": {},
     "output_type": "execute_result"
    }
   ],
   "source": [
    "_np.sqrt(e0_cov[0,0])"
   ]
  },
  {
   "cell_type": "code",
   "execution_count": null,
   "metadata": {},
   "outputs": [],
   "source": []
  }
 ],
 "metadata": {
  "kernelspec": {
   "display_name": "Python 3",
   "language": "python",
   "name": "python3"
  },
  "language_info": {
   "codemirror_mode": {
    "name": "ipython",
    "version": 3
   },
   "file_extension": ".py",
   "mimetype": "text/x-python",
   "name": "python",
   "nbconvert_exporter": "python",
   "pygments_lexer": "ipython3",
   "version": "3.6.10"
  },
  "vscode": {
   "interpreter": {
    "hash": "42a939a256227b0e36c4deaa5bc479c5611cecdcf96637c7dc230fbf2d532ddd"
   }
  }
 },
 "nbformat": 4,
 "nbformat_minor": 2
}
