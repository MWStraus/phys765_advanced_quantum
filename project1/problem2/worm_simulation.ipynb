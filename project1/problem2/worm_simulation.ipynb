{
 "cells": [
  {
   "cell_type": "markdown",
   "metadata": {},
   "source": [
    "# Trying to set out the framework for the worm algorithm\n",
    "### In several places I have put things have 0 added to multiplied by 1 or returning 0. Most of these are just place holders so the code can run.\n"
   ]
  },
  {
   "cell_type": "code",
   "execution_count": 3,
   "metadata": {},
   "outputs": [],
   "source": [
    "import numpy as _np\n",
    "import matplotlib.pyplot as _plt\n",
    "import random"
   ]
  },
  {
   "cell_type": "markdown",
   "metadata": {},
   "source": [
    "# Set up H and $\\beta$ and other fixed variables"
   ]
  },
  {
   "cell_type": "code",
   "execution_count": 16,
   "metadata": {},
   "outputs": [
    {
     "name": "stdout",
     "output_type": "stream",
     "text": [
      "p_move_forward: 1\n",
      "p_move_forward_hop: 0.001\n",
      "p_move_forward_straight: 0.994\n",
      "p_move_backward: 0.9986009795428267\n",
      "weight_no_hop: 0.9953925745747485\n",
      "weight_hop: 0.0010014009804574936\n"
     ]
    },
    {
     "data": {
      "text/plain": [
       "'\\ngrid has indices for time steps, x, y and z. Then at each grid location there is a grid_location object that says whether\\nthere is a particle, where it came from and where it is going.\\nI think it is good to say where a particle came from each step because the worm algorithm only every  follows a path\\nbackwards.\\n'"
      ]
     },
     "execution_count": 16,
     "metadata": {},
     "output_type": "execute_result"
    }
   ],
   "source": [
    "# We set t = 1 for the all simulation parameters so that we can implement the dimensionless Hamiltonian\n",
    "\n",
    "###################################################### Simulation parameter setting ##########################################################################\n",
    "N = 2 # Number of total sites in one dimension\n",
    "mu = 1.4 # Chemical constant\n",
    "epsilon = 0.002\n",
    "beta = 12 # beta is defined by 1/ (k * T) where T is the temperature, k is the Boltzmann constant\n",
    "num_time_steps = int(beta / epsilon)\n",
    "\n",
    "d = 3 # Number of spacial dimension. Not actually fully flexible, but comes up in formulas\n",
    "\n",
    "###################################################### Hopping weight setting ##########################################################################\n",
    "p_move_forward = min(1, _np.exp(mu * epsilon)) # The probability of moving forward in time given it is facing forward, either hop or staying\n",
    "p_move_forward_hop = epsilon # The probability of hopping given the worm is moving forward (Assuming that we set t = 1 in the problem)\n",
    "p_move_forward_straight = (1 - 2 * d * p_move_forward_hop) # Straight moving means no spatial hopping (only temporal hopping)\n",
    "p_move_backward = min(1, _np.exp(-mu * epsilon)) # The probability of moving backwards giving the worm is facing backwards\n",
    "\n",
    "print('p_move_forward: ' + str(p_move_forward))\n",
    "print('p_move_forward_hop: ' + str(p_move_forward_hop))\n",
    "print('p_move_forward_straight: ' + str(p_move_forward_straight))\n",
    "print('p_move_backward: ' + str(p_move_backward))\n",
    "\n",
    "weight_no_hop = _np.exp(mu * epsilon) * p_move_forward_straight\n",
    "weight_hop = _np.exp(mu * epsilon) * p_move_forward_hop\n",
    "\n",
    "print('weight_no_hop: ' + str(weight_no_hop))\n",
    "print('weight_hop: ' + str(weight_hop))\n",
    "\n",
    "class Grid_location(object):\n",
    "    \"\"\"\n",
    "    an object for holding information about what is going on at each grid location\n",
    "    \"\"\"\n",
    "    def __init__(self):\n",
    "        self.is_particle = False # Whether or not there is a particle on that location.\n",
    "        self.is_hardcore_boson_violated = False # Whether or not the hardcore boson constraint is violated\n",
    "        \n",
    "        \"\"\" Where_particle_came_from/is_going there are 2 numbers. The first is whether is moved in x(0)\n",
    "        y(1) or z(2). The second (-1, 0, +1) is whether the previous/next position was \n",
    "        at the current coordinate, or +1 or -1 from it. \n",
    "        \n",
    "        For example a trajector that goes (in Cartesian) (3,4,5) -> (3,5,5) -> (2,5,5) would have where_particle_came_from = [1, -1] and \n",
    "        where_particle_is_going = [0, -1] (It looks like we have to be careful with the sign!!)\n",
    "        \n",
    "        Note if the particle is stationary where_particle_came_from = [0, 0] or [1, 0] or [2, 0]. It doesn't matter\n",
    "        \"\"\"\n",
    "        self.where_particle_came_from = [0, 0]\n",
    "        self.where_particle_came_from_hardcore_boson_violated = [0, 0] # Specially used when hardcore boson constraint is violated\n",
    "        self.where_particle_is_going = [0, 0]\n",
    "        \n",
    "        \n",
    "    def set_where_particle_came_from(self, axis, direction): # axis can be x(0), y(1), z(2) and direction can be -1 and 1\n",
    "        self.where_particle_came_from = [axis, direction]\n",
    "    \n",
    "    def set_where_particle_came_from_hardcore_boson_violated(self, axis, direction): # axis can be x(0), y(1), z(2) and direction can be -1 and 1\n",
    "        self.where_particle_came_from_hardcore_boson_violated = [axis, direction]\n",
    "    \n",
    "    def set_where_particle_is_going(self, axis, direction): # axis can be x(0), y(1), z(2) and direction can be -1 and 1\n",
    "        self.where_particle_is_going = [axis, direction]\n",
    "    \n",
    "    def place_particle(self):\n",
    "        self.is_particle = True\n",
    "        \n",
    "    def remove_particle(self):\n",
    "        self.is_particle = False\n",
    "        \n",
    "def observables(pathed_grid):\n",
    "    \"\"\"count up the number of particles and number of hops which gives all information needed to compute\n",
    "    the weight and energy of the path, then returns the number of particles, the weight of the path and the energy\"\"\"\n",
    "    num_particles = 0 # Running total of number of particles\n",
    "    num_hops = 0 # Running total of number of steps in which those particles hop\n",
    "    \n",
    "    # Loop through the grid\n",
    "    for x in _np.arange(N):\n",
    "        for y in _np.arange(N):\n",
    "            for z in _np.arange(N):\n",
    "                # For each end location check if there is a path\n",
    "                time = 0 # Start at the first time of the grid and work forwards\n",
    "                loc = [x, y, z] # Location in space only\n",
    "                \n",
    "                if pathed_grid[loc[0], loc[1], loc[2], time].is_particle:\n",
    "                    num_particles += 1\n",
    "                \n",
    "                    # Go through the path\n",
    "                    while time <= (num_time_steps - 1): # Should we include time = 0 or not?\n",
    "                        step = pathed_grid[loc[0], loc[1], loc[2], time] # The grid_location object where we are in path\n",
    "\n",
    "                        if step.where_particle_is_going[1] != 0: # If this is 0, there is no hopping\n",
    "                            num_hops += 1\n",
    "                                                    \n",
    "                        # Update location to the previous step on the path\n",
    "                        loc[step.where_particle_is_going[0]] += step.where_particle_is_going[1]\n",
    "                        loc[step.where_particle_is_going[0]] %= N #isn't Python great that %= works just like += but for mod \n",
    "                        time = time + 1\n",
    "    \n",
    "    e_tilda = (2 * d * num_particles) - (num_hops / beta)\n",
    "    weight = (weight_hop ** num_hops) * (weight_no_hop ** ((num_time_steps - 1) * num_particles - num_hops))\n",
    "    return [num_particles, e_tilda, weight]\n",
    "\n",
    "\"\"\"\n",
    "grid has indices for time steps, x, y and z. Then at each grid location there is a grid_location object that says whether\n",
    "there is a particle, where it came from and where it is going.\n",
    "I think it is good to say where a particle came from each step because the worm algorithm only every  follows a path\n",
    "backwards.\n",
    "\"\"\""
   ]
  },
  {
   "cell_type": "markdown",
   "metadata": {},
   "source": [
    "# Grid visualization"
   ]
  },
  {
   "cell_type": "code",
   "execution_count": 201,
   "metadata": {},
   "outputs": [],
   "source": [
    "def plot_grid(pathed_grid, t):\n",
    "    \"\"\"This is supposed to plot a 3d grid showing one time step. It should have a green dot at each point where there\n",
    "    is a particle. There should also be a blue line from each particle to where it came from in the previous time step,\n",
    "    and a red line leading to where it is going on the next time step. Ideally this would eventually lead to an\n",
    "    animated version where it shows each time step for ~1s.\n",
    "    This is currently not working (at least in the edge case where there are not particles, or particles at every point.)\n",
    "    \"\"\"\n",
    "    background_points = []\n",
    "    particle_points = []\n",
    "    particle_going_tos = []\n",
    "    particle_coming_froms = []\n",
    "    for x in range(N):\n",
    "        for y in range(N):\n",
    "            for z in range(N):\n",
    "                current_location = pathed_grid[x, y, z, t]\n",
    "                if not current_location.is_particle:\n",
    "                    background_points.append([x,y,z])\n",
    "                else:\n",
    "                    loc = [x,y,z]\n",
    "                    next_loc = loc.copy()\n",
    "                    next_loc[current_location.where_particle_is_going[0]] += current_location.where_particle_is_going[1]\n",
    "                    next_loc[current_location.where_particle_is_going[0]] %= N\n",
    "                    previous_loc = loc.copy()\n",
    "                    previous_loc[current_location.where_particle_came_from[0]] += current_location.where_particle_came_from[1]\n",
    "                    previous_loc[current_location.where_particle_came_from[0]] %= N\n",
    "                    particle_points.append(loc)\n",
    "                    particle_going_tos.append(next_loc)\n",
    "                    particle_coming_froms.append(previous_loc)\n",
    "                    \n",
    "                \n",
    "    ax = _plt.axes(projection='3d')\n",
    "    \n",
    "    bp =_np.array(background_points).T\n",
    "    print(background_points, bp)\n",
    "    print(particle_points)\n",
    "    \n",
    "    ax.scatter(bp[0], bp[1], bp[2], color=\"grey\", marker=\".\", alpha=\"0.5\")\n",
    "    ax.scatter(*_np.array(particle_points).T)\n",
    "    for i in range(length(particle_points)):\n",
    "        ax.plot(*_np.array([particle_going_tos[i], particle_points[i]]).T, color=\"red\")\n",
    "        ax.plot(*_np.array([particle_coming_froms[i], particle_points[i]]).T, color=\"blue\")"
   ]
  },
  {
   "cell_type": "code",
   "execution_count": null,
   "metadata": {},
   "outputs": [],
   "source": [
    "plot_grid(grid, 0)"
   ]
  },
  {
   "cell_type": "code",
   "execution_count": 66,
   "metadata": {},
   "outputs": [
    {
     "data": {
      "text/plain": [
       "<mpl_toolkits.mplot3d.art3d.Path3DCollection at 0x26dbf9719e8>"
      ]
     },
     "execution_count": 66,
     "metadata": {},
     "output_type": "execute_result"
    },
    {
     "data": {
      "image/png": "[encoded data removed]",
      "text/plain": [
       "<Figure size 432x288 with 1 Axes>"
      ]
     },
     "metadata": {
      "needs_background": "light"
     },
     "output_type": "display_data"
    }
   ],
   "source": [
    "ax = _plt.axes(projection='3d')\n",
    "ax.scatter3D(*_np.array([[0,0,1], [0,1,0], [1,0,0]]))"
   ]
  },
  {
   "cell_type": "markdown",
   "metadata": {},
   "source": [
    "## This part is the actual worm algorithm"
   ]
  },
  {
   "cell_type": "code",
   "execution_count": 17,
   "metadata": {},
   "outputs": [],
   "source": [
    "def unit_move_forward(loc, hop_axis, hop_direction, N, num_time_steps): # Temporal forward\n",
    "    new_loc = loc.copy()\n",
    "    new_loc[hop_axis] = (loc[hop_axis] + hop_direction) % N # Periodic condition\n",
    "    new_loc[3] = (loc[3] + 1) % (num_time_steps)\n",
    "    \n",
    "    return new_loc\n",
    "\n",
    "def unit_move_backward(loc, hop_axis, hop_direction, N, num_time_steps): # Temporal backward\n",
    "    new_loc = loc.copy()\n",
    "    new_loc[hop_axis] = (loc[hop_axis] + hop_direction) % N # Periodic condition\n",
    "    new_loc[3] = (loc[3] - 1) % (num_time_steps)\n",
    "    \n",
    "    return new_loc\n",
    "    \n",
    "def move_forward(loc, pathed_grid):\n",
    "    \"\"\"\n",
    "    This function updates the grid if the worm moves forward. It needs to do 3 things:\n",
    "    1) choose a next location to go to\n",
    "    2) update where_particle_is_going on the old location and where_particle_came_from on the new location\n",
    "    3) deal with complications if there is already a particle at the location\"\"\"\n",
    "    \n",
    "    facing_forward = True # Defines the final temporal direction after finishing the function\n",
    "    \n",
    "    #### Store the old & new location information first ####\n",
    "    old_grid_location = pathed_grid[tuple(loc)]  \n",
    "    new_loc = loc.copy() # Initialization\n",
    "      \n",
    "    #### Hopping ####\n",
    "    if random.uniform(0, 1) < p_move_forward_straight:\n",
    "        # Don't hop spatially, just move forward in time\n",
    "        hop_axis = 0\n",
    "        hop_direction = 0\n",
    "        new_loc = unit_move_forward(loc, hop_axis, hop_direction, N, num_time_steps)\n",
    "        \n",
    "    else:        \n",
    "        # Hop both temporal and spatial at this time step\n",
    "        hop_axis = random.randint(0, d - 1) # Get an integer 0 ~ 2 inclusive for the axis to move on (0: x, 1: y, 2: z)\n",
    "        hop_direction = 2 * random.getrandbits(1) - 1 # For the direction, get +1 = 2 * 1 - 1 or -1 = 2 * 0 - 1\n",
    "        \n",
    "        new_loc = unit_move_forward(loc, hop_axis, hop_direction, N, num_time_steps)\n",
    "        \n",
    "        # Update the old location to say where it is going\n",
    "        old_grid_location.set_where_particle_is_going(hop_axis, hop_direction)    \n",
    "    \n",
    "    #### Check the hardcore boson constraint ####\n",
    "    new_grid_location = pathed_grid[tuple(new_loc)]\n",
    "    \n",
    "    if new_grid_location.is_particle:\n",
    "        # Now in the condition of at a spot with two particles and the arrow facing (hardcore boson constraint is violated)\n",
    "        facing_forward = False # Now we have to move backward \n",
    "        new_grid_location.is_hardcore_boson_violated = True\n",
    "        \n",
    "        # Save the information of original path\n",
    "        original_axis = new_grid_location.where_particle_came_from[0]\n",
    "        original_direction = new_grid_location.where_particle_came_from[1]\n",
    "        \n",
    "        new_grid_location.set_where_particle_came_from_hardcore_boson_violated(original_axis, original_direction)\n",
    "        new_grid_location.set_where_particle_came_from(hop_axis, -hop_direction)\n",
    "        \n",
    "    else: \n",
    "        # If there is no particle at the new location, just update it\n",
    "        new_grid_location.set_where_particle_came_from(hop_axis, -hop_direction)\n",
    "        new_grid_location.place_particle()\n",
    "        \n",
    "    return new_loc, facing_forward\n",
    "        \n",
    "            \n",
    "def update_grid(pathed_grid):\n",
    "    \"\"\"\n",
    "    worm update algorithm goes here\n",
    "    \"\"\"\n",
    "    # Pick initial site\n",
    "    x0, y0, z0 = random.randrange(N), random.randrange(N), random.randrange(N)\n",
    "    t0 = random.randrange(num_time_steps)\n",
    "    loc0 = [x0, y0, z0, t0] # Original location\n",
    "    \n",
    "    # Initial up arrow if there is no particle\n",
    "    facing_forward = not(pathed_grid[tuple(loc0)].is_particle)\n",
    "    \n",
    "    # Current location of the worm\n",
    "    tail = loc0.copy()\n",
    "    head = loc0.copy() # When copying the array, be careful with shallow & deep copy !!\n",
    "    keep_going = True\n",
    "    \n",
    "    while keep_going:        \n",
    "        #print(\"hi\", loc, facing_forward)\n",
    "        if facing_forward:\n",
    "            if random.uniform(0, 1) <= p_move_forward: # Move forward proposal accepted\n",
    "                head, facing_forward = move_forward(head, pathed_grid)\n",
    "            else:\n",
    "                facing_forward = False\n",
    "                \n",
    "        else:\n",
    "        #     For the case of the worm facing backwards     \n",
    "        #     For facing backwards the steps are as follows\n",
    "        #     1) go back one along the path, deleting the particle at the current location\n",
    "        #     2) switch the arrow to something like facing forward, except the probabilities of adding a new step\n",
    "        #       are different\n",
    "            \n",
    "            current_grid_location = pathed_grid[tuple(head)]\n",
    "            \n",
    "            # Hopping axis and direction setting (be careful with the hardcore boson violation condition)       \n",
    "            if current_grid_location.is_hardcore_boson_violated == True:\n",
    "                hop_back_axis = current_grid_location.where_particle_came_from_hardcore_boson_violated[0]\n",
    "                hop_back_direction = current_grid_location.where_particle_came_from_hardcore_boson_violated[1]  \n",
    "\n",
    "            else:\n",
    "                hop_back_axis = current_grid_location.where_particle_came_from[0]\n",
    "                hop_back_direction = current_grid_location.where_particle_came_from[1]     \n",
    "            \n",
    "            # Particle removal (be careful with the hardcore boson violation condition)\n",
    "            if current_grid_location.is_hardcore_boson_violated == False: \n",
    "                current_grid_location.remove_particle() # If it is the initial backward try, we should not remove the particle\n",
    "            \n",
    "            # Edge removal (be careful with the hardcore boson violation condition)\n",
    "            if current_grid_location.is_hardcore_boson_violated == True:\n",
    "                current_grid_location.set_where_particle_came_from_hardcore_boson_violated(0, 0) # Remove the spatial hopping edge\n",
    "                current_grid_location.is_hardcore_boson_violated = False          \n",
    "            else:\n",
    "                current_grid_location.set_where_particle_came_from(0, 0) \n",
    "                        \n",
    "            if random.uniform(0, 1) <= p_move_backward: # Move back proposal accepted\n",
    "                head = unit_move_backward(head, hop_back_axis, hop_back_direction, N, num_time_steps)\n",
    "                new_grid_location = pathed_grid[tuple(head)]\n",
    "                new_grid_location.set_where_particle_is_going(0, 0) # Remove the spatial hopping edge\n",
    "                \n",
    "            else:\n",
    "                head = unit_move_backward(head, hop_back_axis, hop_back_direction, N, num_time_steps)\n",
    "                new_grid_location = pathed_grid[tuple(head)]\n",
    "                new_grid_location.set_where_particle_is_going(0, 0) # Remove the spatial hopping edge\n",
    "                \n",
    "                head, facing_forward = move_forward(head, pathed_grid)\n",
    "                \n",
    "        # Now check whether we have arrive back at the place we started\n",
    "        # I don't think it is possible to arrive back at the start without having finished the worm - I also agree (Jiyong)\n",
    "        keep_going = (head != tail)\n",
    "    \n",
    "    return pathed_grid"
   ]
  },
  {
   "cell_type": "markdown",
   "metadata": {},
   "source": [
    "# This next box is where the simulation acutally happens"
   ]
  },
  {
   "cell_type": "code",
   "execution_count": 18,
   "metadata": {},
   "outputs": [
    {
     "name": "stdout",
     "output_type": "stream",
     "text": [
      "-----------------0 New grid created----------------------\n",
      "-----------------5000 New grid created----------------------\n",
      "-----------------10000 New grid created----------------------\n",
      "-----------------15000 New grid created----------------------\n",
      "-----------------20000 New grid created----------------------\n",
      "-----------------25000 New grid created----------------------\n",
      "-----------------30000 New grid created----------------------\n",
      "-----------------35000 New grid created----------------------\n",
      "-----------------40000 New grid created----------------------\n",
      "-----------------45000 New grid created----------------------\n",
      "-----------------50000 New grid created----------------------\n",
      "-----------------55000 New grid created----------------------\n",
      "-----------------60000 New grid created----------------------\n",
      "-----------------65000 New grid created----------------------\n",
      "-----------------70000 New grid created----------------------\n",
      "-----------------75000 New grid created----------------------\n",
      "-----------------80000 New grid created----------------------\n",
      "-----------------85000 New grid created----------------------\n",
      "-----------------90000 New grid created----------------------\n",
      "-----------------95000 New grid created----------------------\n",
      "1.4549641025641027\n",
      "0.6350547008547007\n"
     ]
    },
    {
     "data": {
      "image/png": "[encoded data removed]",
      "text/plain": [
       "<Figure size 432x288 with 1 Axes>"
      ]
     },
     "metadata": {},
     "output_type": "display_data"
    },
    {
     "data": {
      "image/png": "[encoded data removed]",
      "text/plain": [
       "<Figure size 432x288 with 1 Axes>"
      ]
     },
     "metadata": {},
     "output_type": "display_data"
    }
   ],
   "source": [
    "################# Make the block ###################\n",
    "def block(array, N):\n",
    "    # Device the given array into blocks with length N\n",
    "    \n",
    "    l = int(len(array) / N)\n",
    "    \n",
    "    blocked_array = _np.zeros([l, N])\n",
    "    \n",
    "    for i in range(0, l):\n",
    "        block_start = i * N\n",
    "        block_end = block_start + N\n",
    "        \n",
    "        blocked_array[i] = array[block_start: block_end]\n",
    "        \n",
    "    return blocked_array\n",
    "\n",
    "################# Calculate the whole average of blocks ###################\n",
    "def total_block_average(blocked_array_observable):\n",
    "    # Device the given array into blocks with length N\n",
    "    \n",
    "    l = len(blocked_array_observable)\n",
    "    each_block_average_array = _np.zeros(l)\n",
    "    \n",
    "    for i in range(l):\n",
    "        each_block_average = _np.average(blocked_array_observable[i])\n",
    "        each_block_average_array[i] = each_block_average\n",
    "\n",
    "    return _np.average(each_block_average_array)\n",
    "\n",
    "\n",
    "# 4-dimensional array so that we can store the information of both space and time\n",
    "grid = _np.full((N, N, N, num_time_steps), Grid_location()) # Initialization\n",
    "\n",
    "# If we use the above definition, all objects refer to the same memory address.\n",
    "# In this case, if we change one grid location, all grid locations are changed simultaneously\n",
    "# Therefore, we have to initialize the grid as below\n",
    "for x in range(N):\n",
    "    for y in range(N):\n",
    "        for z in range(N):\n",
    "            for t in range(num_time_steps):\n",
    "                grid[x, y, z, t] = Grid_location()\n",
    "\n",
    "num_trials = 100000 # I think in one of the lectures, prof said we should expect this ot take ~1 million trials\n",
    "ns = [] # Number of particles in each trial\n",
    "es = [] # Energy of path in each trial\n",
    "Ws = [] # Weight of paths in each trial\n",
    "\n",
    "for counter in range(num_trials):\n",
    "    num_particles, e_tilda, weight = observables(grid)\n",
    "    Ws.append(weight)\n",
    "    ns.append(num_particles)\n",
    "    es.append(e_tilda)\n",
    "    grid = update_grid(grid)\n",
    "    \n",
    "    #print('-----------------' + str(counter) + ' New grid created----------------------')\n",
    "    if ((counter % 5000) == 0): print('-----------------' + str(counter) + ' New grid created----------------------')\n",
    "    \n",
    "Monte_Carlo_try = range(num_trials)\n",
    "_plt.rcParams['figure.facecolor'] = 'white'\n",
    "_plt.plot(Monte_Carlo_try, ns, 'r')\n",
    "_plt.xlabel('Monte Carlo try', fontsize = 12)\n",
    "_plt.ylabel('Number of particle', fontsize = 12)\n",
    "\n",
    "_plt.figure()\n",
    "_plt.plot(Monte_Carlo_try, es, 'b')\n",
    "_plt.xlabel('Monte Carlo try', fontsize = 12)\n",
    "_plt.ylabel('Energy of path', fontsize = 12)\n",
    "\n",
    "block_size = 2500\n",
    "\n",
    "ns = ns[2500:]\n",
    "es = es[2500:]\n",
    "\n",
    "ns_block = block(ns, block_size)\n",
    "es_block = block(es, block_size)\n",
    "\n",
    "print(total_block_average(ns_block))\n",
    "print(total_block_average(es_block))\n"
   ]
  },
  {
   "cell_type": "markdown",
   "metadata": {},
   "source": [
    "# Now do analysis, plot results, etc"
   ]
  },
  {
   "cell_type": "code",
   "execution_count": null,
   "metadata": {},
   "outputs": [
    {
     "data": {
      "text/plain": [
       "False"
      ]
     },
     "execution_count": 16,
     "metadata": {},
     "output_type": "execute_result"
    }
   ],
   "source": [
    "test1 = _np.array([1,2,3])\n",
    "test2 = _np.array([2,3,4])\n",
    "test1==test2\n",
    "_np.all(test1==test2)"
   ]
  },
  {
   "cell_type": "markdown",
   "metadata": {},
   "source": [
    "## Scratch Work"
   ]
  },
  {
   "cell_type": "code",
   "execution_count": 44,
   "metadata": {},
   "outputs": [
    {
     "data": {
      "text/plain": [
       "1"
      ]
     },
     "execution_count": 44,
     "metadata": {},
     "output_type": "execute_result"
    }
   ],
   "source": [
    "random.randrange(2)"
   ]
  }
 ],
 "metadata": {
  "kernelspec": {
   "display_name": "Python 3.9.10 ('base')",
   "language": "python",
   "name": "python3"
  },
  "language_info": {
   "codemirror_mode": {
    "name": "ipython",
    "version": 3
   },
   "file_extension": ".py",
   "mimetype": "text/x-python",
   "name": "python",
   "nbconvert_exporter": "python",
   "pygments_lexer": "ipython3",
   "version": "3.9.10"
  },
  "vscode": {
   "interpreter": {
    "hash": "0b02a0ef022d45bcc180fff1def0af5074bd7f4df6b707b70d1d96a855118f8f"
   }
  }
 },
 "nbformat": 4,
 "nbformat_minor": 4
}
