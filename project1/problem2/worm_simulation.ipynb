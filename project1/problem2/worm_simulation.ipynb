{
 "cells": [
  {
   "cell_type": "markdown",
   "metadata": {},
   "source": [
    "# Trying to set out the framework for the worm algorithm\n",
    "### In several places I have put things have 0 added to multiplied by 1 or returning 0. Most of these are just place holders so the code can run.\n"
   ]
  },
  {
   "cell_type": "code",
   "execution_count": 1,
   "metadata": {},
   "outputs": [],
   "source": [
    "import numpy as _np\n",
    "import matplotlib.pyplot as _plt"
   ]
  },
  {
   "cell_type": "markdown",
   "metadata": {},
   "source": [
    "# Set up H and $\\beta$ and other fixed variables"
   ]
  },
  {
   "cell_type": "code",
   "execution_count": 2,
   "metadata": {},
   "outputs": [],
   "source": [
    "something = 0\n",
    "N = 2\n",
    "mu = 0\n",
    "epsilon = 1\n",
    "num_time_steps = int((something)/epsilon)\n",
    "something = 0 #just used whenever I need a placeholder for incomplete code\n",
    "p_move_foward = _np.exp(mu*epsilon) #the propability of moving forward given it is facing forward\n",
    "p_move_back = 1-_np.exp(mu*epsilon) #the probability of moving backwards giving the worm is facing backwards\n",
    "p_move_hop = epsilon #propability of hopping given the worm is moving forward\n",
    "\n",
    "weight_no_hop = p_move_foward*(1-2*p_move_hop)\n",
    "wieght_hop = p_move_back*p_move_hop\n",
    "\n",
    "class grid_location(object):\n",
    "    \"\"\"\n",
    "    an object for holding information about what is going on at each grid location\n",
    "    \"\"\"\n",
    "    def __init__(self, something):\n",
    "        self.is_particle = False #whether or not there is a particle on that location.\n",
    "        \"\"\"for where_particle_came_from/is_going there are 2 numbers. The first is whether is moved in x(0)\n",
    "        y(1) or z(2). The second (-1, 0, +1) is whether the previous/next position was \n",
    "        at the current cordinate, or +1 or -1 from it. For example a trajector that goes (in Cartesian)\n",
    "        (3,4,5)-> (3,5,5)->(2,5,5) would have where_paricle_came_from = [2, 1] and \n",
    "        where_particle_is_going = [1, -1]\n",
    "        Note if the particle is stationary where_particle_came_from = [0,0] or [1,0] or [2,0]. It doesn't matter\"\"\"\n",
    "        self.where_particle_came_from = [0,0]\n",
    "        self.where_particle_is_going = [0,0]\n",
    "\n",
    "def local_weight(step):\n",
    "    \"\"\"\n",
    "    return the weight of a single step in the path. A step is a grid location object\n",
    "    \"\"\"\n",
    "    if step.where_particle_came_from[1]==0:\n",
    "        return weight_no_hop\n",
    "    else:\n",
    "        return weight_hop\n",
    "def weight(pathed_grid):\n",
    "    \"\"\"takes ina grid with paths on it and calculated the wieght of the paths\"\"\"\n",
    "    weight = 1\n",
    "    for x in _np.arange(N):\n",
    "        for y in _np.arange(N):\n",
    "            for z in _np.arange(N):\n",
    "                #for each end location check if there is a path\n",
    "                time = num_time_steps-1 #start at the end of the grid and work backwards\n",
    "                loc = [x,y,z] #location in space only\n",
    "                if pathed_grid[time, *loc].is_particle:\n",
    "                    #go through the path updating weight as you follow the path\n",
    "                    while time>0:\n",
    "                        step = pathed_grid[time, *loc] #the grid_locaiton object where we are in path\n",
    "                        weight *= local_weight(step)#something is related to the location\n",
    "                        location[step.where_particle_came_from[0]]+=step.where_particle_came_from[1]\n",
    "                        time -=1\n",
    "    return weight\n",
    "                \n",
    "def num_particles(pathed_grid):\n",
    "    num_particles_running_total = 1\n",
    "    for x in _np.arange(N):\n",
    "        for y in _np.arange(N):\n",
    "            for z in _np.arange(N):\n",
    "                #for each start location check if there is a path\n",
    "                loc = [x,y,z] #location in space only\n",
    "                if pathed_grid[0, *loc].is_particle:\n",
    "                    num_particles_running_total += 1\n",
    "    return num_particles_running_total\n",
    "def energy(pathed_grid):\n",
    "    return something\n",
    "def update_grid(pathed_grid):\n",
    "    \"\"\"\n",
    "    worm update algorithm goes here\n",
    "    \"\"\"\n",
    "    return something #something is a new grid\n",
    "\"\"\"\n",
    "grid has indecies for time steps, x, y and z. Then at each grid location there is a grid_location object that says whether\n",
    "there is a particle, where it came from and where it is going.\n",
    "I think it is good to say where a particle came from each step because the worm algorithm only every  follows a path\n",
    "backwards.\n",
    "\"\"\"\n",
    "grid = _np.zeros(shape=(num_time_steps, N,N,N ,3), dtype=grid_location)"
   ]
  },
  {
   "cell_type": "markdown",
   "metadata": {},
   "source": [
    "# This next box is where the simulation acutally happens"
   ]
  },
  {
   "cell_type": "code",
   "execution_count": 5,
   "metadata": {},
   "outputs": [],
   "source": [
    "num_trials = 10 #I think in one of the lecctures, prof said we should expect this ot take ~1 million trials\n",
    "ns = [] #number of particles in each trial\n",
    "es = [] #energy of path in each trial\n",
    "Ws = [] #weight of paths in each trial\n",
    "for counter in range(int(num_trials)):\n",
    "    w = weight(grid)\n",
    "    Ws.append(w)\n",
    "    ns.append(num_particles(grid))\n",
    "    es.append(energy(grid))\n",
    "    grid = update_grid(grid)\n",
    "    \n",
    "    "
   ]
  },
  {
   "cell_type": "markdown",
   "metadata": {},
   "source": [
    "# Now do analysis, plot results, etc"
   ]
  },
  {
   "cell_type": "code",
   "execution_count": 7,
   "metadata": {},
   "outputs": [
    {
     "name": "stdout",
     "output_type": "stream",
     "text": [
      "[0, 0, 0, 0, 0, 0, 0, 0, 0, 0]\n"
     ]
    }
   ],
   "source": [
    "print(ns)"
   ]
  },
  {
   "cell_type": "code",
   "execution_count": null,
   "metadata": {},
   "outputs": [],
   "source": []
  }
 ],
 "metadata": {
  "kernelspec": {
   "display_name": "Python 3",
   "language": "python",
   "name": "python3"
  },
  "language_info": {
   "codemirror_mode": {
    "name": "ipython",
    "version": 3
   },
   "file_extension": ".py",
   "mimetype": "text/x-python",
   "name": "python",
   "nbconvert_exporter": "python",
   "pygments_lexer": "ipython3",
   "version": "3.6.10"
  }
 },
 "nbformat": 4,
 "nbformat_minor": 4
}
